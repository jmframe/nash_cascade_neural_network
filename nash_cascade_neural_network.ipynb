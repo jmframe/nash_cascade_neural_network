{
 "cells": [
  {
   "cell_type": "code",
   "execution_count": 1,
   "id": "45cb35ce-803e-43be-b263-4a1a0f3bb6a3",
   "metadata": {
    "tags": []
   },
   "outputs": [],
   "source": [
    "# Nash Cascade Neural Network\n",
    "# A hydrologically intuitive deep learning network\n",
    "\n",
    "# Set up a solution to a network of buckets where the number of buckets in each layer\n",
    "# flows out to the buckets in the next layer\n",
    "# The parameter on each bucket is the size and height of each spigot.\n",
    "\n",
    "# Need a function that solves this individually at a single buckets\n",
    "# Then a function that loops through and moves the water to the downstream buckets"
   ]
  },
  {
   "cell_type": "code",
   "execution_count": 2,
   "id": "62bab940-cde5-4ff0-8897-75fdf2ebec52",
   "metadata": {
    "tags": []
   },
   "outputs": [],
   "source": [
    "import torch\n",
    "import matplotlib.pyplot as plt\n",
    "from ncnn import NashCascadeNeuralNetwork as ncnn\n",
    "# Precipitation standard variable name used in the ncnn model interface\n",
    "PRECIP_SVN = \"atmosphere_water__liquid_equivalent_precipitation_rate\"\n",
    "DO_PLOT = False\n",
    "N_TIMESTEPS = 500"
   ]
  },
  {
   "cell_type": "code",
   "execution_count": 3,
   "id": "a46bcc71",
   "metadata": {},
   "outputs": [],
   "source": [
    "network_precip_input_list = []\n",
    "count = 0\n",
    "for i in range(N_TIMESTEPS):\n",
    "\n",
    "    ###########################################################################\n",
    "    if count > 39:\n",
    "        network_precip_input_list.append(1.0)\n",
    "    else:\n",
    "        network_precip_input_list.append(0.0)\n",
    "    if count == 50:\n",
    "        count = 0\n",
    "    count+=1\n",
    "    ###########################################################################\n",
    "network_precip_tensor = torch.tensor(network_precip_input_list, requires_grad=True)\n",
    "total_mass_precip_in = torch.sum(network_precip_tensor)"
   ]
  },
  {
   "cell_type": "code",
   "execution_count": 4,
   "id": "d0a26eb2",
   "metadata": {},
   "outputs": [],
   "source": [
    "bucket_net = ncnn(cfg_file=\"./config_0.json\")\n",
    "bucket_net.initialize()"
   ]
  },
  {
   "cell_type": "code",
   "execution_count": 5,
   "id": "92cb4cbf-61b3-4566-a9e0-37d15e846fc1",
   "metadata": {},
   "outputs": [
    {
     "name": "stdout",
     "output_type": "stream",
     "text": [
      "Initial Mass in network at start: 300.0\n",
      "Final Mass in network: 9.6\n",
      "Total Mass out of network 399.4\n",
      "Total precipitation into network 109.0\n",
      "Final mass balance is -0.000\n",
      "Final mass balance is -0.000\n"
     ]
    }
   ],
   "source": [
    "# Example 0\n",
    "bucket_net = ncnn(cfg_file=\"./config_0.json\")\n",
    "bucket_net.initialize()\n",
    "bucket_net.summarize_network()\n",
    "inital_mass_in_network = torch.sum(torch.tensor([tensor.item() for tensor in bucket_net.sum_H_per_layer]))\n",
    "print(f\"Initial Mass in network at start: {inital_mass_in_network:.1f}\")\n",
    "network_outflow_list_0 = []\n",
    "for i in range(N_TIMESTEPS):\n",
    "\n",
    "    ###########################################################################\n",
    "    ###########################################################################\n",
    "    bucket_net.set_value(PRECIP_SVN, torch.tensor(network_precip_input_list[i], requires_grad=True))\n",
    "    bucket_net.update_network()\n",
    "    network_outflow_list_0.append(bucket_net.network_outflow.item())\n",
    "    bucket_net.summarize_network()\n",
    "    ###########################################################################\n",
    "    ###########################################################################\n",
    "\n",
    "    if DO_PLOT:\n",
    "        if i % int(N_TIMESTEPS/10) == 0:\n",
    "            plt.plot([tensor.item() for tensor in bucket_net.mean_H_per_layer])\n",
    "\n",
    "network_outflow_tensor_0 = torch.tensor(network_outflow_list_0, requires_grad=True)\n",
    "###########################################################################\n",
    "# Assuming bucket_net.sum_H_per_layer is a list of PyTorch tensors\n",
    "final_mass_in_network = torch.sum(torch.stack(bucket_net.sum_H_per_layer))\n",
    "# Assuming network_outflow_list_0 is a list of numbers\n",
    "total_mass_outflow = torch.sum(torch.tensor(network_outflow_list_0))\n",
    "print(f\"Final Mass in network: {final_mass_in_network:.1f}\")\n",
    "print(f\"Total Mass out of network {total_mass_outflow:.1f}\")\n",
    "print(f\"Total precipitation into network {total_mass_precip_in:.1f}\")\n",
    "mass_balance = (inital_mass_in_network + total_mass_precip_in) - (final_mass_in_network + total_mass_outflow)\n",
    "print(f\"Final mass balance is {mass_balance:.3f}\")\n",
    "mass_balance = (inital_mass_in_network - final_mass_in_network) - (total_mass_outflow - total_mass_precip_in)\n",
    "print(f\"Final mass balance is {mass_balance:.3f}\")\n",
    "if DO_PLOT:\n",
    "    plt.title(\"Mean head in each bucket per layer\")\n",
    "    plt.ylabel(\"Average head per layer\")\n",
    "    plt.xlabel(\"Network Layers\")\n",
    "    plt.show()\n",
    "    plt.close()\n",
    "\n",
    "if DO_PLOT:\n",
    "    startplt = 0\n",
    "    endplt = 250\n",
    "\n",
    "    plt.plot(network_precip_input_list, c=\"grey\", lw=0.5, label=\"Precipitation input\")\n",
    "    plt.plot(network_outflow_list_0, label=\"Flow out of network\")\n",
    "    plt.xlim([startplt, endplt])\n",
    "    plt.ylim([0, torch.max(torch.tensor(network_precip_input_list[startplt:endplt])).item()])\n",
    "    plt.legend()\n",
    "    plt.title(\"Warmup period\")\n",
    "    plt.show()\n",
    "    plt.close()\n",
    "    startplt = int(len(network_outflow_list_0)-(len(network_outflow_list_0)/2))\n",
    "    endplt = int(len(network_outflow_list_0))\n",
    "    plt.plot(network_precip_input_list, c=\"grey\", lw=0.5, label=\"Precipitation input\")\n",
    "    plt.plot(network_outflow_list_0, label=\"Flow out of network\")\n",
    "    plt.xlim([startplt, endplt])\n",
    "    plt.ylim([0, torch.max(torch.tensor(network_precip_input_list[startplt:endplt])).item()])\n",
    "    plt.legend()\n",
    "    plt.title(\"Flow out from network and precip\")\n",
    "    plt.show()\n",
    "    plt.close()"
   ]
  },
  {
   "cell_type": "code",
   "execution_count": 6,
   "id": "744fc71f",
   "metadata": {},
   "outputs": [
    {
     "name": "stdout",
     "output_type": "stream",
     "text": [
      "Initial Mass in network at start: 300.0\n",
      "Final Mass in network: 8.7\n",
      "Total Mass out of network 400.3\n",
      "Total precipitation into network 109.0\n",
      "Final mass balance is -0.000\n",
      "Final mass balance is -0.000\n"
     ]
    }
   ],
   "source": [
    "# Example 1\n",
    "bucket_net = ncnn(cfg_file=\"./config_1.json\")\n",
    "bucket_net.initialize()\n",
    "bucket_net.summarize_network()\n",
    "inital_mass_in_network = torch.sum(torch.stack(bucket_net.sum_H_per_layer)).item()\n",
    "print(f\"Initial Mass in network at start: {inital_mass_in_network:.1f}\")\n",
    "network_outflow_list_1 = []\n",
    "for i in range(N_TIMESTEPS):\n",
    "\n",
    "    ###########################################################################\n",
    "    ###########################################################################\n",
    "    bucket_net.set_value(PRECIP_SVN, torch.tensor(network_precip_input_list[i], requires_grad=True))\n",
    "    bucket_net.update_network()\n",
    "    network_outflow_list_1.append(bucket_net.network_outflow.item())\n",
    "    bucket_net.summarize_network()\n",
    "    ###########################################################################\n",
    "    ###########################################################################\n",
    "\n",
    "    if DO_PLOT:\n",
    "        if i % int(N_TIMESTEPS/10) == 0:\n",
    "            plt.plot([tensor.item() for tensor in bucket_net.mean_H_per_layer])\n",
    "\n",
    "###########################################################################\n",
    "network_outflow_tensor_1 = torch.tensor(network_outflow_list_1, requires_grad=True)\n",
    "total_mass_precip_in = torch.sum(network_precip_tensor).item()\n",
    "final_mass_in_network = torch.sum(torch.stack(bucket_net.sum_H_per_layer)).item()\n",
    "total_mass_outflow = torch.sum(torch.tensor(network_outflow_list_1)).item()\n",
    "print(f\"Final Mass in network: {final_mass_in_network:.1f}\")\n",
    "print(f\"Total Mass out of network {total_mass_outflow:.1f}\")\n",
    "print(f\"Total precipitation into network {total_mass_precip_in:.1f}\")\n",
    "mass_balance = (inital_mass_in_network + total_mass_precip_in) - (final_mass_in_network + total_mass_outflow)\n",
    "print(f\"Final mass balance is {mass_balance:.3f}\")\n",
    "mass_balance = (inital_mass_in_network - final_mass_in_network) - (total_mass_outflow - total_mass_precip_in)\n",
    "print(f\"Final mass balance is {mass_balance:.3f}\")\n",
    "if DO_PLOT:\n",
    "    plt.title(\"Mean head in each bucket per layer\")\n",
    "    plt.ylabel(\"Average head per layer\")\n",
    "    plt.xlabel(\"Network Layers\")\n",
    "    plt.show()\n",
    "    plt.close()\n",
    "\n",
    "if DO_PLOT:\n",
    "    startplt = 0\n",
    "    endplt = 250\n",
    "\n",
    "    plt.plot(network_precip_input_list, c=\"grey\", lw=0.5, label=\"Precipitation input\")\n",
    "    plt.plot(network_outflow_list_1, label=\"Flow out of network\")\n",
    "    plt.xlim([startplt, endplt])\n",
    "    plt.ylim([0, torch.max(torch.tensor(network_precip_input_list)[startplt:endplt]).item()])\n",
    "    plt.legend()\n",
    "    plt.title(\"Warmup period\")\n",
    "    plt.show()\n",
    "    plt.close()\n",
    "    startplt = int(len(network_outflow_list_1)-(len(network_outflow_list_1)/2))\n",
    "    endplt = int(len(network_outflow_list_1))\n",
    "    plt.plot(network_precip_input_list, c=\"grey\", lw=0.5, label=\"Precipitation input\")\n",
    "    plt.plot(network_outflow_list_1, label=\"Flow out of network\")\n",
    "    plt.xlim([startplt, endplt])\n",
    "    plt.ylim([0, torch.max(torch.tensor(network_precip_input_list)[startplt:endplt]).item()])\n",
    "    plt.legend()\n",
    "    plt.title(\"Flow out from network and precip\")\n",
    "    plt.show()\n",
    "    plt.close()"
   ]
  },
  {
   "cell_type": "code",
   "execution_count": 7,
   "id": "74fc9f98",
   "metadata": {},
   "outputs": [],
   "source": [
    "if DO_PLOT:\n",
    "    startplt = 0\n",
    "    endplt = 250\n",
    "\n",
    "    plt.plot(network_precip_input_list, c=\"grey\", lw=0.5, label=\"Precipitation input\")\n",
    "    plt.plot(network_outflow_list_0, label=\"Flow out of network 0\")\n",
    "    plt.plot(network_outflow_list_1, label=\"Flow out of network 1\")\n",
    "    plt.xlim([startplt, endplt])\n",
    "    tensor_version = torch.tensor(network_precip_input_list)\n",
    "    max_val = torch.max(tensor_version[startplt:endplt]).item()\n",
    "    plt.ylim([0, max_val])\n",
    "    plt.legend()\n",
    "    plt.title(\"Warmup period\")\n",
    "    plt.show()\n",
    "    plt.close()\n",
    "    startplt = int(len(network_outflow_list_1)-(len(network_outflow_list_1)/2))\n",
    "    endplt = int(len(network_outflow_list_1))\n",
    "    plt.plot(network_precip_input_list, c=\"grey\", lw=0.5, label=\"Precipitation input\")\n",
    "    plt.plot(network_outflow_list_0, label=\"Flow out of network 0\")\n",
    "    plt.plot(network_outflow_list_1, label=\"Flow out of network 1\")\n",
    "    plt.xlim([startplt, endplt])\n",
    "    max_value = torch.max(network_precip_tensor[startplt:endplt]).item()\n",
    "    plt.ylim([0, max_value])\n",
    "    plt.legend()\n",
    "    plt.title(\"Flow out from network and precip\")\n",
    "    plt.show()\n",
    "    plt.close()"
   ]
  },
  {
   "cell_type": "code",
   "execution_count": 8,
   "id": "217de549",
   "metadata": {},
   "outputs": [
    {
     "name": "stdout",
     "output_type": "stream",
     "text": [
      "WARNING: Checking Gradients After the Backwards step: self.theta.grad None\n",
      "loss is: 0.161268949508667, theta[0][0][0] is: 0.17612126469612122\n",
      "Initial Mass in network at start: 300.0\n",
      "Final Mass in network: 8.7\n",
      "Total Mass out of network 400.3\n",
      "Total precipitation into network 109.0\n",
      "Final mass balance is -0.000\n",
      "Final mass balance is -0.000\n",
      "WARNING: Checking Gradients After the Backwards step: self.theta.grad None\n",
      "loss is: 0.161268949508667, theta[0][0][0] is: 0.17612126469612122\n",
      "Initial Mass in network at start: 300.0\n",
      "Final Mass in network: 8.7\n",
      "Total Mass out of network 400.3\n",
      "Total precipitation into network 109.0\n",
      "Final mass balance is -0.000\n",
      "Final mass balance is -0.000\n",
      "None\n"
     ]
    }
   ],
   "source": [
    "bucket_net.train_theta_values(network_precip_tensor, network_outflow_tensor_0)\n",
    "\n",
    "network_outflow_list_1 = bucket_net.y_pred\n",
    "\n",
    "print(bucket_net.theta.grad)"
   ]
  },
  {
   "cell_type": "code",
   "execution_count": 9,
   "id": "fb89e7f2",
   "metadata": {},
   "outputs": [],
   "source": [
    "if DO_PLOT:\n",
    "\n",
    "    startplt = 0\n",
    "    endplt = 250\n",
    "\n",
    "    plt.plot(network_precip_input_list, c=\"grey\", lw=0.5, label=\"Precipitation input\")\n",
    "    plt.plot(network_outflow_list_0, label=\"Flow out of network 0\")\n",
    "    plt.plot(network_outflow_list_1, label=\"Flow out of network 1\")\n",
    "    plt.xlim([startplt, endplt])\n",
    "    network_precip_tensor = torch.tensor(network_precip_input_list)\n",
    "    max_value = torch.max(network_precip_tensor[startplt:endplt]).item()\n",
    "    plt.ylim([0, max_value])\n",
    "    plt.legend()\n",
    "    plt.title(\"Warmup period\")\n",
    "    plt.show()\n",
    "    plt.close()\n",
    "    startplt = int(len(network_outflow_list_1)-(len(network_outflow_list_1)/2))\n",
    "    endplt = int(len(network_outflow_list_1))\n",
    "    plt.plot(network_precip_input_list, c=\"grey\", lw=0.5, label=\"Precipitation input\")\n",
    "    plt.plot(network_outflow_list_0, label=\"Flow out of network 0\")\n",
    "    plt.plot(network_outflow_list_1, label=\"Flow out of network 1\")\n",
    "    plt.xlim([startplt, endplt])\n",
    "    network_precip_tensor = torch.tensor(network_precip_input_list)\n",
    "    max_value = torch.max(network_precip_tensor[startplt:endplt]).item()\n",
    "    plt.ylim([0, max_value])\n",
    "    plt.legend()\n",
    "    plt.title(\"Flow out from network and precip\")\n",
    "    plt.show()\n",
    "    plt.close()"
   ]
  },
  {
   "cell_type": "code",
   "execution_count": 10,
   "id": "76e6c024",
   "metadata": {},
   "outputs": [
    {
     "name": "stdout",
     "output_type": "stream",
     "text": [
      "Defaulting to user installation because normal site-packages is not writeable\n",
      "Requirement already satisfied: torchviz in /home/jonat/.local/lib/python3.10/site-packages (0.0.2)\n",
      "Requirement already satisfied: graphviz in /home/jonat/.local/lib/python3.10/site-packages (from torchviz) (0.20.1)\n",
      "Requirement already satisfied: torch in /home/jonat/.local/lib/python3.10/site-packages (from torchviz) (2.0.0)\n",
      "Requirement already satisfied: nvidia-cusparse-cu11==11.7.4.91 in /home/jonat/.local/lib/python3.10/site-packages (from torch->torchviz) (11.7.4.91)\n",
      "Requirement already satisfied: nvidia-cuda-runtime-cu11==11.7.99 in /home/jonat/.local/lib/python3.10/site-packages (from torch->torchviz) (11.7.99)\n",
      "Requirement already satisfied: nvidia-cuda-cupti-cu11==11.7.101 in /home/jonat/.local/lib/python3.10/site-packages (from torch->torchviz) (11.7.101)\n",
      "Requirement already satisfied: nvidia-curand-cu11==10.2.10.91 in /home/jonat/.local/lib/python3.10/site-packages (from torch->torchviz) (10.2.10.91)\n",
      "Requirement already satisfied: nvidia-cusolver-cu11==11.4.0.1 in /home/jonat/.local/lib/python3.10/site-packages (from torch->torchviz) (11.4.0.1)\n",
      "Requirement already satisfied: jinja2 in /home/jonat/.local/lib/python3.10/site-packages (from torch->torchviz) (3.1.2)\n",
      "Requirement already satisfied: nvidia-cuda-nvrtc-cu11==11.7.99 in /home/jonat/.local/lib/python3.10/site-packages (from torch->torchviz) (11.7.99)\n",
      "Requirement already satisfied: nvidia-nccl-cu11==2.14.3 in /home/jonat/.local/lib/python3.10/site-packages (from torch->torchviz) (2.14.3)\n",
      "Requirement already satisfied: nvidia-cufft-cu11==10.9.0.58 in /home/jonat/.local/lib/python3.10/site-packages (from torch->torchviz) (10.9.0.58)\n",
      "Requirement already satisfied: filelock in /home/jonat/.local/lib/python3.10/site-packages (from torch->torchviz) (3.10.7)\n",
      "Requirement already satisfied: networkx in /home/jonat/.local/lib/python3.10/site-packages (from torch->torchviz) (3.0)\n",
      "Requirement already satisfied: nvidia-nvtx-cu11==11.7.91 in /home/jonat/.local/lib/python3.10/site-packages (from torch->torchviz) (11.7.91)\n",
      "Requirement already satisfied: triton==2.0.0 in /home/jonat/.local/lib/python3.10/site-packages (from torch->torchviz) (2.0.0)\n",
      "Requirement already satisfied: nvidia-cublas-cu11==11.10.3.66 in /home/jonat/.local/lib/python3.10/site-packages (from torch->torchviz) (11.10.3.66)\n",
      "Requirement already satisfied: nvidia-cudnn-cu11==8.5.0.96 in /home/jonat/.local/lib/python3.10/site-packages (from torch->torchviz) (8.5.0.96)\n",
      "Requirement already satisfied: sympy in /home/jonat/.local/lib/python3.10/site-packages (from torch->torchviz) (1.11.1)\n",
      "Requirement already satisfied: typing-extensions in /home/jonat/.local/lib/python3.10/site-packages (from torch->torchviz) (4.5.0)\n",
      "Requirement already satisfied: setuptools in /usr/lib/python3/dist-packages (from nvidia-cublas-cu11==11.10.3.66->torch->torchviz) (59.6.0)\n",
      "Requirement already satisfied: wheel in /usr/lib/python3/dist-packages (from nvidia-cublas-cu11==11.10.3.66->torch->torchviz) (0.37.1)\n",
      "Requirement already satisfied: lit in /home/jonat/.local/lib/python3.10/site-packages (from triton==2.0.0->torch->torchviz) (16.0.0)\n",
      "Requirement already satisfied: cmake in /home/jonat/.local/lib/python3.10/site-packages (from triton==2.0.0->torch->torchviz) (3.26.1)\n",
      "Requirement already satisfied: MarkupSafe>=2.0 in /home/jonat/.local/lib/python3.10/site-packages (from jinja2->torch->torchviz) (2.1.2)\n",
      "Requirement already satisfied: mpmath>=0.19 in /home/jonat/.local/lib/python3.10/site-packages (from sympy->torch->torchviz) (1.3.0)\n"
     ]
    }
   ],
   "source": [
    "#!pip install torchviz"
   ]
  },
  {
   "cell_type": "code",
   "execution_count": 11,
   "id": "de3e4974",
   "metadata": {},
   "outputs": [
    {
     "data": {
      "text/plain": [
       "'Digraph.gv.pdf'"
      ]
     },
     "execution_count": 11,
     "metadata": {},
     "output_type": "execute_result"
    },
    {
     "name": "stderr",
     "output_type": "stream",
     "text": [
      "/usr/bin/xdg-open: 882: www-browser: not found\n",
      "/usr/bin/xdg-open: 882: links2: not found\n",
      "/usr/bin/xdg-open: 882: elinks: not found\n",
      "/usr/bin/xdg-open: 882: links: not found\n",
      "/usr/bin/xdg-open: 882: lynx: not found\n",
      "/usr/bin/xdg-open: 882: w3m: not found\n",
      "xdg-open: no method available for opening 'Digraph.gv.pdf'\n"
     ]
    }
   ],
   "source": [
    "# from torchviz import make_dot\n",
    "# make_dot(bucket_net.loss).view()"
   ]
  },
  {
   "cell_type": "code",
   "execution_count": null,
   "id": "3cf725ff",
   "metadata": {},
   "outputs": [],
   "source": []
  }
 ],
 "metadata": {
  "kernelspec": {
   "display_name": "Python 3",
   "language": "python",
   "name": "python3"
  },
  "language_info": {
   "codemirror_mode": {
    "name": "ipython",
    "version": 3
   },
   "file_extension": ".py",
   "mimetype": "text/x-python",
   "name": "python",
   "nbconvert_exporter": "python",
   "pygments_lexer": "ipython3",
   "version": "3.10.6"
  }
 },
 "nbformat": 4,
 "nbformat_minor": 5
}

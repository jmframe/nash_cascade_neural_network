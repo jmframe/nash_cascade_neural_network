{
 "cells": [
  {
   "cell_type": "code",
   "execution_count": 1,
   "id": "45cb35ce-803e-43be-b263-4a1a0f3bb6a3",
   "metadata": {
    "tags": []
   },
   "outputs": [],
   "source": [
    "# Nash Cascade Neural Network\n",
    "# A hydrologically intuitive deep learning network\n",
    "\n",
    "# Set up a solution to a network of buckets where the number of buckets in each layer\n",
    "# flows out to the buckets in the next layer\n",
    "# The parameter on each bucket is the size and height of each spigot.\n",
    "\n",
    "# Need a function that solves this individually at a single buckets\n",
    "# Then a function that loops through and moves the water to the downstream buckets"
   ]
  },
  {
   "cell_type": "code",
   "execution_count": 2,
   "id": "62bab940-cde5-4ff0-8897-75fdf2ebec52",
   "metadata": {
    "tags": []
   },
   "outputs": [],
   "source": [
    "import numpy as np\n",
    "import torch\n",
    "G = 9.81"
   ]
  },
  {
   "cell_type": "code",
   "execution_count": 3,
   "id": "38637f95-726c-41e7-9d86-42ab568d605d",
   "metadata": {
    "tags": []
   },
   "outputs": [
    {
     "name": "stdout",
     "output_type": "stream",
     "text": [
      "[1.0, 0.0, 0.0, 0.0, 1.0, 0.0, 1.0, 0.0, 0.0, 0.0, 1.0, 1.0, 1.0, 1.0, 0.0, 1.0, 1.0, 0.0, 1.0, 0.0, 1.0, 1.0, 0.0, 1.0, 0.0, 1.0, 1.0, 0.0, 0.0, 0.0, 1.0, 0.0, 0.0, 1.0, 0.0, 1.0, 1.0, 1.0, 0.0, 0.0, 0.0, 1.0, 0.0, 1.0, 0.0, 1.0, 1.0, 1.0, 1.0, 0.0, 0.0, 1.0, 1.0, 1.0, 1.0, 0.0, 1.0, 1.0, 0.0, 1.0, 1.0, 1.0, 0.0, 0.0, 1.0, 1.0, 1.0, 1.0, 0.0, 1.0, 0.0, 1.0, 1.0, 1.0, 1.0, 1.0, 0.0, 0.0, 0.0, 0.0, 0.0, 0.0, 1.0, 0.0, 1.0, 1.0, 1.0, 1.0, 1.0, 0.0, 0.0, 1.0, 1.0, 0.0, 1.0, 1.0, 0.0, 1.0, 1.0, 0.0]\n"
     ]
    }
   ],
   "source": [
    "# Initialize some flow into the system\n",
    "U = [np.round(np.random.random()) for u in range(100)]\n",
    "print(U)"
   ]
  },
  {
   "cell_type": "code",
   "execution_count": 4,
   "id": "ad263034-77ab-4b18-b97f-9f194031988d",
   "metadata": {
    "tags": []
   },
   "outputs": [
    {
     "name": "stdout",
     "output_type": "stream",
     "text": [
      "5\n"
     ]
    }
   ],
   "source": [
    "# Initialize the network size\n",
    "Buckets_Per_Layer = [1,2,3,2,1] # Buckets Per Layer\n",
    "print(len(Buckets_Per_Layer))"
   ]
  },
  {
   "cell_type": "code",
   "execution_count": 5,
   "id": "64423c4d-5b8a-4c7c-9c3b-a15699de944c",
   "metadata": {
    "tags": []
   },
   "outputs": [],
   "source": [
    "def get_initial_parameters_of_one_bucket(n_spigots):\n",
    "    return [(np.random.random(),np.random.random()) for _ in range(n_spigots)]"
   ]
  },
  {
   "cell_type": "code",
   "execution_count": 6,
   "id": "d9c52ba8-1f53-4bc2-a25b-f6fdc5769388",
   "metadata": {
    "tags": []
   },
   "outputs": [],
   "source": [
    "def initialize_up_bucket_network(bpl):\n",
    "    \"\"\"Sets up the network of buckets\n",
    "        Args: \n",
    "            bpl (list): the buckets per layer\n",
    "    \"\"\"\n",
    "    bucket_network = []\n",
    "    for ilayer, n_buckets in enumerate(bpl):\n",
    "        if ilayer < len(bpl)-1:\n",
    "            n_spigots = bpl[ilayer+1]\n",
    "        else:\n",
    "            n_spigots = 1\n",
    "        spigots = [get_initial_parameters_of_one_bucket(n_spigots) for jbucket in range(n_buckets)]\n",
    "        bucket_network.append(spigots)\n",
    "    return bucket_network"
   ]
  },
  {
   "cell_type": "code",
   "execution_count": 7,
   "id": "8e1e8343-c809-4ea2-9867-03b4b66a4d24",
   "metadata": {
    "tags": []
   },
   "outputs": [],
   "source": [
    "ncnn = initialize_up_bucket_network(Buckets_Per_Layer)"
   ]
  },
  {
   "cell_type": "code",
   "execution_count": 8,
   "id": "b86af2f2-0199-4c8a-9a9d-55c11ba62edd",
   "metadata": {
    "tags": []
   },
   "outputs": [
    {
     "name": "stdout",
     "output_type": "stream",
     "text": [
      "These are the characteristics of each spigot in a single bucket\n",
      "[(0.7016825753626353, 0.5493425108512037), (0.8745577257185166, 0.11284798790020534)]\n",
      "This is an individual spigot\n",
      "(0.7016825753626353, 0.5493425108512037)\n",
      "This is an individual spigot\n",
      "(0.8745577257185166, 0.11284798790020534)\n",
      "These are the characteristics of each spigot in a single bucket\n",
      "[(0.355872874824841, 0.7227123553210375), (0.735761010076635, 0.008452357044610004), (0.0009575398419389147, 0.5623335796808708)]\n",
      "This is an individual spigot\n",
      "(0.355872874824841, 0.7227123553210375)\n",
      "This is an individual spigot\n",
      "(0.735761010076635, 0.008452357044610004)\n",
      "This is an individual spigot\n",
      "(0.0009575398419389147, 0.5623335796808708)\n",
      "These are the characteristics of each spigot in a single bucket\n",
      "[(0.07350655816540985, 0.9057487756943852), (0.3662341471493944, 0.4215068343420151), (0.5084890288882912, 0.7751328666104004)]\n",
      "This is an individual spigot\n",
      "(0.07350655816540985, 0.9057487756943852)\n",
      "This is an individual spigot\n",
      "(0.3662341471493944, 0.4215068343420151)\n",
      "This is an individual spigot\n",
      "(0.5084890288882912, 0.7751328666104004)\n",
      "These are the characteristics of each spigot in a single bucket\n",
      "[(0.19045652821918801, 0.6393486810221699), (0.21513915319320875, 0.6156377278972774)]\n",
      "This is an individual spigot\n",
      "(0.19045652821918801, 0.6393486810221699)\n",
      "This is an individual spigot\n",
      "(0.21513915319320875, 0.6156377278972774)\n",
      "These are the characteristics of each spigot in a single bucket\n",
      "[(0.5988389092190083, 0.7133166866867073), (0.7903348914175398, 0.5782534486874962)]\n",
      "This is an individual spigot\n",
      "(0.5988389092190083, 0.7133166866867073)\n",
      "This is an individual spigot\n",
      "(0.7903348914175398, 0.5782534486874962)\n",
      "These are the characteristics of each spigot in a single bucket\n",
      "[(0.6582130681881969, 0.02048960118940968), (0.08801839469452111, 0.9927074077536242)]\n",
      "This is an individual spigot\n",
      "(0.6582130681881969, 0.02048960118940968)\n",
      "This is an individual spigot\n",
      "(0.08801839469452111, 0.9927074077536242)\n",
      "These are the characteristics of each spigot in a single bucket\n",
      "[(0.8832812004850122, 0.04357637488820865)]\n",
      "This is an individual spigot\n",
      "(0.8832812004850122, 0.04357637488820865)\n",
      "These are the characteristics of each spigot in a single bucket\n",
      "[(0.24124718603898332, 0.6954710872556596)]\n",
      "This is an individual spigot\n",
      "(0.24124718603898332, 0.6954710872556596)\n",
      "These are the characteristics of each spigot in a single bucket\n",
      "[(0.5895221630814987, 0.8903253517827676)]\n",
      "This is an individual spigot\n",
      "(0.5895221630814987, 0.8903253517827676)\n"
     ]
    }
   ],
   "source": [
    "for i in ncnn:\n",
    "    for j in i:\n",
    "        print(\"These are the characteristics of each spigot in a single bucket\")\n",
    "        print(j)\n",
    "        for k in j:\n",
    "            print(\"This is an individual spigot\")\n",
    "            print(k)"
   ]
  },
  {
   "cell_type": "code",
   "execution_count": 9,
   "id": "2b4d773c-7601-4c85-8a44-833ae5b69598",
   "metadata": {
    "tags": []
   },
   "outputs": [],
   "source": [
    "def bucket_n(H, spigots, dt):\n",
    "    \"\"\" solves a single bucket\n",
    "        Args: \n",
    "            H (float): the water level in bucket\n",
    "            spigots (list): the characteristics of the bucket outlets\n",
    "                                        spigots[0]: Height of spigots, \n",
    "                                        spigots[1]: size of spigots\n",
    "            dt (float): the timestep in hours\n",
    "        Returns:\n",
    "            H (float): the new water level in bucket\n",
    "            v (list): The total ammount of water out of each spigot\n",
    "    \"\"\"\n",
    "    convervence = 100\n",
    "    for sp_h, sp_a in spigots:\n",
    "        dh = np.max(0, H - sp_h)\n",
    "        flow_out = np.sqrt(2 * G * H) * sp_a\n",
    "    H = None\n",
    "    v = None\n",
    "    \n",
    "    return H, v"
   ]
  },
  {
   "cell_type": "code",
   "execution_count": 11,
   "id": "b4c80eb5",
   "metadata": {},
   "outputs": [
    {
     "ename": "AxisError",
     "evalue": "axis 99 is out of bounds for array of dimension 0",
     "output_type": "error",
     "traceback": [
      "\u001b[0;31m---------------------------------------------------------------------------\u001b[0m",
      "\u001b[0;31mAxisError\u001b[0m                                 Traceback (most recent call last)",
      "Cell \u001b[0;32mIn[11], line 1\u001b[0m\n\u001b[0;32m----> 1\u001b[0m bucket_n(\u001b[39m100\u001b[39;49m, [[\u001b[39m1\u001b[39;49m,\u001b[39m2\u001b[39;49m],[\u001b[39m0.2\u001b[39;49m,\u001b[39m0.3\u001b[39;49m]], \u001b[39m1\u001b[39;49m)\n",
      "Cell \u001b[0;32mIn[9], line 15\u001b[0m, in \u001b[0;36mbucket_n\u001b[0;34m(H, spigots, dt)\u001b[0m\n\u001b[1;32m     13\u001b[0m convervence \u001b[39m=\u001b[39m \u001b[39m100\u001b[39m\n\u001b[1;32m     14\u001b[0m \u001b[39mfor\u001b[39;00m sp_h, sp_a \u001b[39min\u001b[39;00m spigots:\n\u001b[0;32m---> 15\u001b[0m     dh \u001b[39m=\u001b[39m np\u001b[39m.\u001b[39;49mmax(\u001b[39m0\u001b[39;49m, H \u001b[39m-\u001b[39;49m sp_h)\n\u001b[1;32m     16\u001b[0m     flow_out \u001b[39m=\u001b[39m np\u001b[39m.\u001b[39msqrt(\u001b[39m2\u001b[39m \u001b[39m*\u001b[39m G \u001b[39m*\u001b[39m H) \u001b[39m*\u001b[39m sp_a\n\u001b[1;32m     17\u001b[0m H \u001b[39m=\u001b[39m \u001b[39mNone\u001b[39;00m\n",
      "File \u001b[0;32m<__array_function__ internals>:5\u001b[0m, in \u001b[0;36mamax\u001b[0;34m(*args, **kwargs)\u001b[0m\n",
      "File \u001b[0;32m~/.local/lib/python3.10/site-packages/numpy/core/fromnumeric.py:2754\u001b[0m, in \u001b[0;36mamax\u001b[0;34m(a, axis, out, keepdims, initial, where)\u001b[0m\n\u001b[1;32m   2638\u001b[0m \u001b[39m@array_function_dispatch\u001b[39m(_amax_dispatcher)\n\u001b[1;32m   2639\u001b[0m \u001b[39mdef\u001b[39;00m \u001b[39mamax\u001b[39m(a, axis\u001b[39m=\u001b[39m\u001b[39mNone\u001b[39;00m, out\u001b[39m=\u001b[39m\u001b[39mNone\u001b[39;00m, keepdims\u001b[39m=\u001b[39mnp\u001b[39m.\u001b[39m_NoValue, initial\u001b[39m=\u001b[39mnp\u001b[39m.\u001b[39m_NoValue,\n\u001b[1;32m   2640\u001b[0m          where\u001b[39m=\u001b[39mnp\u001b[39m.\u001b[39m_NoValue):\n\u001b[1;32m   2641\u001b[0m \u001b[39m    \u001b[39m\u001b[39m\"\"\"\u001b[39;00m\n\u001b[1;32m   2642\u001b[0m \u001b[39m    Return the maximum of an array or maximum along an axis.\u001b[39;00m\n\u001b[1;32m   2643\u001b[0m \n\u001b[0;32m   (...)\u001b[0m\n\u001b[1;32m   2752\u001b[0m \u001b[39m    5\u001b[39;00m\n\u001b[1;32m   2753\u001b[0m \u001b[39m    \"\"\"\u001b[39;00m\n\u001b[0;32m-> 2754\u001b[0m     \u001b[39mreturn\u001b[39;00m _wrapreduction(a, np\u001b[39m.\u001b[39;49mmaximum, \u001b[39m'\u001b[39;49m\u001b[39mmax\u001b[39;49m\u001b[39m'\u001b[39;49m, axis, \u001b[39mNone\u001b[39;49;00m, out,\n\u001b[1;32m   2755\u001b[0m                           keepdims\u001b[39m=\u001b[39;49mkeepdims, initial\u001b[39m=\u001b[39;49minitial, where\u001b[39m=\u001b[39;49mwhere)\n",
      "File \u001b[0;32m~/.local/lib/python3.10/site-packages/numpy/core/fromnumeric.py:86\u001b[0m, in \u001b[0;36m_wrapreduction\u001b[0;34m(obj, ufunc, method, axis, dtype, out, **kwargs)\u001b[0m\n\u001b[1;32m     83\u001b[0m         \u001b[39melse\u001b[39;00m:\n\u001b[1;32m     84\u001b[0m             \u001b[39mreturn\u001b[39;00m reduction(axis\u001b[39m=\u001b[39maxis, out\u001b[39m=\u001b[39mout, \u001b[39m*\u001b[39m\u001b[39m*\u001b[39mpasskwargs)\n\u001b[0;32m---> 86\u001b[0m \u001b[39mreturn\u001b[39;00m ufunc\u001b[39m.\u001b[39;49mreduce(obj, axis, dtype, out, \u001b[39m*\u001b[39;49m\u001b[39m*\u001b[39;49mpasskwargs)\n",
      "\u001b[0;31mAxisError\u001b[0m: axis 99 is out of bounds for array of dimension 0"
     ]
    }
   ],
   "source": [
    "bucket_n(100, [[1,2],[0.2,0.3]], 1)"
   ]
  },
  {
   "cell_type": "code",
   "execution_count": null,
   "id": "47d892ea",
   "metadata": {},
   "outputs": [],
   "source": []
  },
  {
   "cell_type": "code",
   "execution_count": 10,
   "id": "af96aad5-814b-4355-85f8-663c4a202fce",
   "metadata": {},
   "outputs": [
    {
     "data": {
      "image/png": "[encoded data removed]",
      "text/plain": [
       "<Figure size 640x480 with 1 Axes>"
      ]
     },
     "metadata": {},
     "output_type": "display_data"
    }
   ],
   "source": [
    "import numpy as np\n",
    "import matplotlib.pyplot as plt\n",
    "\n",
    "def bucket_flow_out(total_time, dt, initial_height, hole_areas, hole_coefficients):\n",
    "    num_steps = int(total_time / dt)\n",
    "    time = np.linspace(0, total_time, num_steps + 1)\n",
    "    water_level = np.zeros(num_steps + 1)\n",
    "    water_level[0] = initial_height\n",
    "\n",
    "    for i in range(num_steps):\n",
    "        flow_in = 0  # Assuming no flow into the bucket\n",
    "\n",
    "        # Calculate the flow rates out of each hole based on the water level\n",
    "        flow_out = 0\n",
    "        for hole_area, hole_coefficient in zip(hole_areas, hole_coefficients):\n",
    "            flow_out += hole_coefficient * np.sqrt(2 * 9.81 * water_level[i]) * hole_area\n",
    "\n",
    "        water_level[i + 1] = water_level[i] + dt * (flow_in - flow_out)\n",
    "\n",
    "    return time, water_level\n",
    "\n",
    "# Example usage\n",
    "total_time = 10  # Total simulation time (seconds)\n",
    "dt = 0.1  # Time step (seconds)\n",
    "initial_height = 5  # Initial water level in the bucket (meters)\n",
    "hole_areas = [0.01, 0.02, 0.03]  # Areas of the three holes (m^2)\n",
    "hole_coefficients = [0.6, 0.7, 0.8]  # Coefficients for each hole\n",
    "\n",
    "time, water_level = bucket_flow_out(total_time, dt, initial_height, hole_areas, hole_coefficients)\n",
    "\n",
    "# Plotting the results\n",
    "plt.plot(time, water_level)\n",
    "plt.xlabel('Time (seconds)')\n",
    "plt.ylabel('Water Level (meters)')\n",
    "plt.title('Water Level in the Bucket over Time')\n",
    "plt.grid(True)\n",
    "plt.show()"
   ]
  },
  {
   "cell_type": "code",
   "execution_count": null,
   "id": "92cb4cbf-61b3-4566-a9e0-37d15e846fc1",
   "metadata": {},
   "outputs": [],
   "source": []
  }
 ],
 "metadata": {
  "kernelspec": {
   "display_name": "Python 3",
   "language": "python",
   "name": "python3"
  },
  "language_info": {
   "codemirror_mode": {
    "name": "ipython",
    "version": 3
   },
   "file_extension": ".py",
   "mimetype": "text/x-python",
   "name": "python",
   "nbconvert_exporter": "python",
   "pygments_lexer": "ipython3",
   "version": "3.10.6"
  }
 },
 "nbformat": 4,
 "nbformat_minor": 5
}

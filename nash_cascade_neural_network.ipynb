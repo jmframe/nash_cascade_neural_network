{
 "cells": [
  {
   "cell_type": "code",
   "execution_count": 1,
   "id": "45cb35ce-803e-43be-b263-4a1a0f3bb6a3",
   "metadata": {
    "tags": []
   },
   "outputs": [],
   "source": [
    "# Nash Cascade Neural Network\n",
    "# A hydrologically intuitive deep learning network\n",
    "\n",
    "# Set up a solution to a network of buckets where the number of buckets in each layer\n",
    "# flows out to the buckets in the next layer\n",
    "# The parameter on each bucket is the size and height of each spigot.\n",
    "\n",
    "# Need a function that solves this individually at a single buckets\n",
    "# Then a function that loops through and moves the water to the downstream buckets"
   ]
  },
  {
   "cell_type": "code",
   "execution_count": 2,
   "id": "62bab940-cde5-4ff0-8897-75fdf2ebec52",
   "metadata": {
    "tags": []
   },
   "outputs": [],
   "source": [
    "import torch\n",
    "import copy\n",
    "import matplotlib.pyplot as plt\n",
    "from ncn_fcnn import NashCascadeNetwork as ncn\n",
    "from ncn_fcnn import train_model as train_ncnn\n",
    "import matplotlib.font_manager as font_manager\n",
    "# Precipitation standard variable name used in the ncnn model interface\n",
    "PRECIP_SVN = \"atmosphere_water__liquid_equivalent_precipitation_rate\"\n",
    "PRECIP_SVN_SEQ = \"atmosphere_water__liquid_equivalent_precipitation_rate_seq\"\n",
    "PRECIP_RECORD = \"atmosphere_water__liquid_equivalent_precipitation_rate_record\"\n",
    "DO_PLOT = True\n",
    "N_TIMESTEPS = 300"
   ]
  },
  {
   "cell_type": "code",
   "execution_count": 3,
   "id": "a46bcc71",
   "metadata": {},
   "outputs": [],
   "source": [
    "network_precip_input_list = []\n",
    "count = 0\n",
    "unit_precip = 6.0\n",
    "for i in range(N_TIMESTEPS):\n",
    "\n",
    "    ###########################################################################\n",
    "    if count == 0:\n",
    "        network_precip_input_list.append(1.0)\n",
    "    elif count > 45:\n",
    "        network_precip_input_list.append(unit_precip)\n",
    "    else:\n",
    "        network_precip_input_list.append(0.0)\n",
    "    if count == 50:\n",
    "        count = 0\n",
    "    count+=1\n",
    "    ###########################################################################\n",
    "network_precip_tensor = torch.tensor(network_precip_input_list, requires_grad=False)\n",
    "total_mass_precip_in = torch.sum(network_precip_tensor)"
   ]
  },
  {
   "cell_type": "code",
   "execution_count": 4,
   "id": "92cb4cbf-61b3-4566-a9e0-37d15e846fc1",
   "metadata": {},
   "outputs": [
    {
     "name": "stdout",
     "output_type": "stream",
     "text": [
      "Initial Mass in network at start: 20.0\n",
      "Initial Mass in network: 20.0\n",
      "Final Mass in network: 18.7\n",
      "Total Mass out of network 176.3\n",
      "Total precipitation into network 175.0\n",
      "Mass balance for network is 0.000\n",
      "Mass balance for network is -0.000\n"
     ]
    },
    {
     "name": "stderr",
     "output_type": "stream",
     "text": [
      "/home/jonat/nash_cascade_neural_network/ncn.py:368: UserWarning: To copy construct from a tensor, it is recommended to use sourceTensor.clone().detach() or sourceTensor.clone().detach().requires_grad_(True), rather than torch.tensor(sourceTensor).\n",
      "  inflows_tensor = torch.tensor(inflows, dtype=torch.float32)  # Convert inflows to a tensor\n"
     ]
    },
    {
     "data": {
      "text/plain": [
       "tensor([0.3349, 0.3402, 0.3022, 0.3169, 0.3294])"
      ]
     },
     "execution_count": 4,
     "metadata": {},
     "output_type": "execute_result"
    }
   ],
   "source": [
    "# Example 0\n",
    "bucket_net = ncn(cfg_file=\"./config_0.json\")\n",
    "bucket_net.initialize()\n",
    "bucket_net.unit_precip = unit_precip\n",
    "bucket_net.summarize_network()\n",
    "inital_mass_in_network = torch.sum(torch.tensor([tensor.item() for tensor in bucket_net.sum_H_per_layer]))\n",
    "print(f\"Initial Mass in network at start: {inital_mass_in_network:.1f}\")\n",
    "network_outflow_list_0 = []\n",
    "for i in range(N_TIMESTEPS):\n",
    "\n",
    "    ###########################################################################\n",
    "    ###########################################################################\n",
    "    bucket_net.set_value(PRECIP_SVN, torch.tensor(network_precip_input_list[i], requires_grad=False))\n",
    "    bucket_net.update()\n",
    "    network_outflow_list_0.append(bucket_net.network_outflow.item())\n",
    "    bucket_net.summarize_network()\n",
    "    ###########################################################################\n",
    "    ###########################################################################\n",
    "\n",
    "network_outflow_tensor_0 = torch.tensor(network_outflow_list_0, requires_grad=True)\n",
    "bucket_net.report_out_mass_balance()\n",
    "bucket_net.detach_ncn_from_graph()\n",
    "bucket_net.theta.detach()\n"
   ]
  },
  {
   "cell_type": "code",
   "execution_count": 5,
   "id": "744fc71f",
   "metadata": {},
   "outputs": [
    {
     "name": "stdout",
     "output_type": "stream",
     "text": [
      "Initialized\n",
      "Initial Mass in network at start: 20.0\n",
      "Initial Mass in network: 20.0\n",
      "Final Mass in network: 15.5\n",
      "Total Mass out of network 179.5\n",
      "Total precipitation into network 175.0\n",
      "Mass balance for network is 0.000\n",
      "Mass balance for network is 0.000\n"
     ]
    }
   ],
   "source": [
    "# Example 1\n",
    "bucket_nn = ncn(cfg_file=\"./config_1.json\")\n",
    "bucket_nn.initialize()\n",
    "bucket_nn.unit_precip = unit_precip\n",
    "print(\"Initialized\")\n",
    "bucket_nn.initialize_theta_values()\n",
    "inital_mass_in_network = torch.sum(torch.stack(bucket_nn.sum_H_per_layer)).item()\n",
    "print(f\"Initial Mass in network at start: {inital_mass_in_network:.1f}\")\n",
    "network_outflow_list_1a = []\n",
    "for i in range(N_TIMESTEPS):\n",
    "\n",
    "    ###########################################################################\n",
    "    ###########################################################################\n",
    "    bucket_nn.set_value(PRECIP_SVN, torch.tensor(network_precip_input_list[i], requires_grad=True))\n",
    "    if bucket_nn.do_predict_theta_with_lstm:\n",
    "        sequence_tensors = []\n",
    "        tensor_device = bucket_nn.network[0]['H'].device\n",
    "        tensor_dtype = torch.float32\n",
    "        if i >= bucket_nn.input_u_sequence_length:\n",
    "            sequence_tensors = [torch.tensor([item], device=tensor_device, dtype=tensor_dtype) \n",
    "                                for item in network_precip_input_list[i-bucket_nn.input_u_sequence_length:i]]\n",
    "        else:\n",
    "            desired_tensor_shape = (1,)\n",
    "            padding_size = bucket_nn.input_u_sequence_length - i\n",
    "            padding_tensors = [torch.zeros(desired_tensor_shape, device=tensor_device, dtype=tensor_dtype) \n",
    "                            for _ in range(padding_size)]\n",
    "            sequence_tensors = padding_tensors + [torch.tensor([item], device=tensor_device, dtype=tensor_dtype) \n",
    "                                                for item in network_precip_input_list[:i]]\n",
    "        sequence = torch.stack(sequence_tensors).view(1, -1)\n",
    "        bucket_nn.set_value(PRECIP_SVN_SEQ, sequence)\n",
    "\n",
    "\n",
    "    bucket_nn.update()\n",
    "    network_outflow_list_1a.append(bucket_nn.network_outflow.item())\n",
    "    bucket_nn.summarize_network()\n",
    "    ###########################################################################\n",
    "    ###########################################################################\n",
    "\n",
    "###########################################################################\n",
    "network_outflow_tensor_1 = torch.tensor(network_outflow_list_1a, requires_grad=True)\n",
    "bucket_nn.report_out_mass_balance()\n",
    "\n",
    "origional_bucket_theta = copy.deepcopy(bucket_nn.theta.detach())\n"
   ]
  },
  {
   "cell_type": "code",
   "execution_count": 6,
   "id": "217de549",
   "metadata": {},
   "outputs": [
    {
     "name": "stdout",
     "output_type": "stream",
     "text": [
      "INITIAL MODEL theta: tensor([0.4947, 0.4792, 0.4798, 0.5233, 0.4936], grad_fn=<SelectBackward0>)\n",
      "Adjusting learning rate of group 0 to 1.0000e-01.\n",
      "loss: 0.2943------------\n",
      "theta: tensor([0.4947, 0.4792, 0.4798, 0.5233, 0.4936], grad_fn=<SelectBackward0>)\n",
      "Total number of non-zero gradients: 1\n",
      "Indices of non-zero gradients: [5, 0, 4]\n",
      "Adjusting learning rate of group 0 to 9.0000e-02.\n",
      "loss: 1.1687------------\n",
      "theta: tensor([0.4594, 0.5174, 0.4908, 0.4505, 0.0079], grad_fn=<SelectBackward0>)\n",
      "Total number of non-zero gradients: 1\n",
      "Indices of non-zero gradients: [5, 0, 4]\n",
      "Adjusting learning rate of group 0 to 8.1000e-02.\n",
      "loss: 0.4915------------\n",
      "theta: tensor([0.5040, 0.5131, 0.4792, 0.4571, 0.0726], grad_fn=<SelectBackward0>)\n",
      "Total number of non-zero gradients: 1\n",
      "Indices of non-zero gradients: [5, 0, 4]\n",
      "Adjusting learning rate of group 0 to 7.2900e-02.\n",
      "loss: 0.4724------------\n",
      "theta: tensor([0.5348, 0.4920, 0.4693, 0.4832, 0.4527], grad_fn=<SelectBackward0>)\n",
      "Total number of non-zero gradients: 1\n",
      "Indices of non-zero gradients: [5, 0, 4]\n",
      "Adjusting learning rate of group 0 to 6.5610e-02.\n",
      "loss: 0.5054------------\n",
      "theta: tensor([0.5412, 0.4814, 0.4769, 0.4761, 0.4312], grad_fn=<SelectBackward0>)\n",
      "Total number of non-zero gradients: 1\n",
      "Indices of non-zero gradients: [5, 0, 4]\n",
      "Adjusting learning rate of group 0 to 5.9049e-02.\n",
      "loss: 1.2318------------\n",
      "theta: tensor([0.5435, 0.4708, 0.4855, 0.4503, 0.3486], grad_fn=<SelectBackward0>)\n",
      "Total number of non-zero gradients: 0\n",
      "Indices of non-zero gradients: []\n",
      "Adjusting learning rate of group 0 to 5.3144e-02.\n",
      "loss: 1.1473------------\n",
      "theta: tensor([0.5487, 0.4788, 0.4755, 0.4748, 0.4948], grad_fn=<SelectBackward0>)\n",
      "Total number of non-zero gradients: 1\n",
      "Indices of non-zero gradients: [5, 0, 4]\n",
      "Adjusting learning rate of group 0 to 4.7830e-02.\n",
      "loss: 0.1524------------\n",
      "theta: tensor([0.5527, 0.4845, 0.4701, 0.4770, 0.6123], grad_fn=<SelectBackward0>)\n",
      "Total number of non-zero gradients: 0\n",
      "Indices of non-zero gradients: []\n",
      "Adjusting learning rate of group 0 to 4.3047e-02.\n",
      "loss: 0.2791------------\n",
      "theta: tensor([0.5553, 0.4894, 0.4660, 0.4937, 0.7299], grad_fn=<SelectBackward0>)\n",
      "Total number of non-zero gradients: 1\n",
      "Indices of non-zero gradients: [5, 0, 4]\n",
      "Adjusting learning rate of group 0 to 3.8742e-02.\n",
      "loss: 0.1367------------\n",
      "theta: tensor([0.5541, 0.4959, 0.4600, 0.4988, 0.8094], grad_fn=<SelectBackward0>)\n",
      "Total number of non-zero gradients: 1\n",
      "Indices of non-zero gradients: [5, 0, 4]\n",
      "Adjusting learning rate of group 0 to 3.4868e-02.\n",
      "loss: 0.2307------------\n",
      "theta: tensor([0.5521, 0.4991, 0.4563, 0.4984, 0.8573], grad_fn=<SelectBackward0>)\n",
      "Total number of non-zero gradients: 1\n",
      "Indices of non-zero gradients: [5, 0, 4]\n",
      "Adjusting learning rate of group 0 to 3.1381e-02.\n",
      "loss: 1.5499------------\n",
      "theta: tensor([0.5408, 0.5064, 0.4485, 0.4889, 0.9319], grad_fn=<SelectBackward0>)\n",
      "Total number of non-zero gradients: 1\n",
      "Indices of non-zero gradients: [5, 0, 4]\n",
      "Adjusting learning rate of group 0 to 2.8243e-02.\n",
      "loss: 0.3084------------\n",
      "theta: tensor([0.5037, 0.5327, 0.4430, 0.3989, 0.9826], grad_fn=<SelectBackward0>)\n",
      "Total number of non-zero gradients: 0\n",
      "Indices of non-zero gradients: []\n",
      "Adjusting learning rate of group 0 to 2.5419e-02.\n",
      "loss: 0.7811------------\n",
      "theta: tensor([0.5146, 0.5276, 0.4264, 0.4332, 0.9960], grad_fn=<SelectBackward0>)\n",
      "Total number of non-zero gradients: 1\n",
      "Indices of non-zero gradients: [5, 0, 4]\n",
      "Adjusting learning rate of group 0 to 2.2877e-02.\n",
      "loss: 0.7076------------\n",
      "theta: tensor([0.5098, 0.5271, 0.4365, 0.4024, 0.9944], grad_fn=<SelectBackward0>)\n",
      "Total number of non-zero gradients: 1\n",
      "Indices of non-zero gradients: [5, 0, 4]\n",
      "Adjusting learning rate of group 0 to 2.0589e-02.\n",
      "loss: 1.0785------------\n",
      "theta: tensor([0.5090, 0.5230, 0.4444, 0.3986, 0.9936], grad_fn=<SelectBackward0>)\n",
      "Total number of non-zero gradients: 0\n",
      "Indices of non-zero gradients: []\n",
      "Adjusting learning rate of group 0 to 1.8530e-02.\n",
      "loss: 0.0859------------\n",
      "theta: tensor([0.5204, 0.5163, 0.4647, 0.4090, 0.9931], grad_fn=<SelectBackward0>)\n",
      "Total number of non-zero gradients: 1\n",
      "Indices of non-zero gradients: [5, 0, 4]\n",
      "Adjusting learning rate of group 0 to 1.6677e-02.\n",
      "loss: 0.3610------------\n",
      "theta: tensor([0.5013, 0.5285, 0.4184, 0.4311, 0.9983], grad_fn=<SelectBackward0>)\n",
      "Total number of non-zero gradients: 0\n",
      "Indices of non-zero gradients: []\n",
      "Adjusting learning rate of group 0 to 1.5009e-02.\n",
      "loss: 0.4335------------\n",
      "theta: tensor([0.5011, 0.4824, 0.4915, 0.4058, 0.9843], grad_fn=<SelectBackward0>)\n",
      "Total number of non-zero gradients: 1\n",
      "Indices of non-zero gradients: [5, 0, 4]\n",
      "Adjusting learning rate of group 0 to 1.3509e-02.\n",
      "loss: 0.5677------------\n",
      "theta: tensor([0.5090, 0.5276, 0.4326, 0.4130, 0.9985], grad_fn=<SelectBackward0>)\n",
      "Total number of non-zero gradients: 1\n",
      "Indices of non-zero gradients: [5, 0, 4]\n",
      "Adjusting learning rate of group 0 to 1.2158e-02.\n",
      "tensor([0.3349, 0.3402, 0.3022, 0.3169, 0.3294], requires_grad=True)\n",
      "tensor([0.5137, 0.5013, 0.4608, 0.4037, 0.9961], grad_fn=<SelectBackward0>)\n"
     ]
    }
   ],
   "source": [
    "bucket_nn.set_value(PRECIP_RECORD, torch.tensor(network_precip_input_list, requires_grad=False))\n",
    "y_pred, loss = train_ncnn(bucket_nn, network_precip_tensor, network_outflow_tensor_0)\n",
    "network_outflow_list_1b = list(y_pred.detach().numpy())\n",
    "print(bucket_net.theta)\n",
    "print(bucket_nn.theta)"
   ]
  },
  {
   "cell_type": "code",
   "execution_count": 7,
   "id": "fb89e7f2",
   "metadata": {},
   "outputs": [
    {
     "data": {
      "image/png": "[encoded data removed]",
      "text/plain": [
       "<Figure size 500x333.333 with 1 Axes>"
      ]
     },
     "metadata": {},
     "output_type": "display_data"
    }
   ],
   "source": [
    "DO_PLOT = True\n",
    "if DO_PLOT:\n",
    "    startplt = 230\n",
    "    endplt = 280\n",
    "    bigfontsize = 12\n",
    "    smallfontsize = 10\n",
    "    # Set figure size to 7 inches wide\n",
    "    figure_width = 5  # inches\n",
    "    aspect_ratio = 3 / 2  # Adjust as needed for your plot\n",
    "    figure_height = figure_width / aspect_ratio\n",
    "\n",
    "    plt.figure(figsize=(figure_width, figure_height))\n",
    "\n",
    "    # Set color\n",
    "    light_blue_color = \"#3D68CA\"\n",
    "    line_and_text_color = \"#0D3F6E\"\n",
    "\n",
    "    # Plot each series with specified color\n",
    "    plt.plot(network_precip_input_list[startplt:endplt], c=light_blue_color, lw=3, label=\"Precipitation input\")\n",
    "    plt.plot(network_outflow_list_0[startplt:endplt], c=\"k\", lw=3, label=\"Target hydrograph \")\n",
    "    plt.plot(network_outflow_list_1a[startplt:endplt], \"--\", lw=2, c=line_and_text_color, label=\"Pre-trained network\")\n",
    "    plt.plot(network_outflow_list_1b[startplt:endplt], lw=3, c=line_and_text_color, label=\"Trained bucket network\")\n",
    "\n",
    "    network_precip_tensor = torch.tensor(network_precip_input_list)\n",
    "    max_value = torch.max(network_precip_tensor[startplt:endplt]).item()\n",
    "    plt.ylim([0, max_value * 1.2])\n",
    "\n",
    "    plt.yticks([])\n",
    "    plt.xticks([])\n",
    "    plt.ylabel(\"Unit hydrograph\", fontsize=bigfontsize, color=line_and_text_color)\n",
    "    plt.xlabel(\"Time\", fontsize=bigfontsize, color=line_and_text_color)\n",
    "\n",
    "    # Modify legend to have a transparent background\n",
    "    plt.legend(fontsize=smallfontsize, edgecolor=line_and_text_color, framealpha=0.5)  # Adjust framealpha as needed\n",
    "\n",
    "#    plt.title(\"Flow out from network and precip\", fontsize=bigfontsize, color=line_and_text_color)\n",
    "\n",
    "    # Save the figure with transparent background and at 300 DPI\n",
    "    plt.show()\n",
    "    #plt.savefig(\"ncn_plot.png\", transparent=True, dpi=300)\n",
    "\n",
    "    plt.close()\n",
    "\n"
   ]
  },
  {
   "cell_type": "code",
   "execution_count": 8,
   "id": "6d717beb",
   "metadata": {},
   "outputs": [
    {
     "data": {
      "text/plain": [
       "{0: {'H': tensor([8.9488]),\n",
       "  'S': tensor([[[0.4963, 0.7682],\n",
       "           [0.0885, 0.1320]]]),\n",
       "  's_q': tensor([[4.1105, 0.4611]])},\n",
       " 1: {'H': tensor([6.3559, 0.1138]),\n",
       "  'S': tensor([[[0.3074, 0.6341]],\n",
       "  \n",
       "          [[0.4901, 0.8964]]]),\n",
       "  's_q': tensor([[2.4773],\n",
       "          [0.6168]])},\n",
       " 2: {'H': tensor([3.3008]),\n",
       "  'S': tensor([[[0.4556, 0.6323]]]),\n",
       "  's_q': tensor([[2.0375]])}}"
      ]
     },
     "execution_count": 8,
     "metadata": {},
     "output_type": "execute_result"
    }
   ],
   "source": [
    "bucket_net.network"
   ]
  },
  {
   "cell_type": "code",
   "execution_count": 9,
   "id": "a91cb5c7",
   "metadata": {},
   "outputs": [
    {
     "data": {
      "text/plain": [
       "{0: {'H': tensor([4.7599], grad_fn=<ClampBackward1>),\n",
       "  'S': tensor([[[0.6305, 0.4737],\n",
       "           [0.7462, 0.7685]]]),\n",
       "  's_q': tensor([[3.4374, 2.6110]], grad_fn=<MulBackward0>)},\n",
       " 1: {'H': tensor([2.4931, 0.0000], grad_fn=<ClampBackward1>),\n",
       "  'S': tensor([[[0.2096, 0.6124]],\n",
       "  \n",
       "          [[0.2517, 0.9701]]]),\n",
       "  's_q': tensor([[2.8231],\n",
       "          [2.6110]], grad_fn=<MulBackward0>)},\n",
       " 2: {'H': tensor([0.5198], grad_fn=<ClampBackward1>),\n",
       "  'S': tensor([[[0.3573, 0.5068]]]),\n",
       "  's_q': tensor([[5.1532]], grad_fn=<MulBackward0>)}}"
      ]
     },
     "execution_count": 9,
     "metadata": {},
     "output_type": "execute_result"
    }
   ],
   "source": [
    "bucket_nn.network"
   ]
  },
  {
   "cell_type": "code",
   "execution_count": 10,
   "id": "568b565c",
   "metadata": {},
   "outputs": [
    {
     "data": {
      "text/plain": [
       "tensor([0.3349, 0.3402, 0.3022, 0.3169, 0.3294], requires_grad=True)"
      ]
     },
     "execution_count": 10,
     "metadata": {},
     "output_type": "execute_result"
    }
   ],
   "source": [
    "bucket_net.theta"
   ]
  },
  {
   "cell_type": "code",
   "execution_count": 11,
   "id": "c3befa50",
   "metadata": {},
   "outputs": [
    {
     "data": {
      "text/plain": [
       "tensor([0.5137, 0.5013, 0.4608, 0.4037, 0.9961], grad_fn=<SelectBackward0>)"
      ]
     },
     "execution_count": 11,
     "metadata": {},
     "output_type": "execute_result"
    }
   ],
   "source": [
    "bucket_nn.theta"
   ]
  },
  {
   "cell_type": "code",
   "execution_count": 12,
   "id": "d204aa2e",
   "metadata": {},
   "outputs": [
    {
     "data": {
      "text/plain": [
       "tensor([0.4947, 0.4792, 0.4798, 0.5233, 0.4936])"
      ]
     },
     "execution_count": 12,
     "metadata": {},
     "output_type": "execute_result"
    }
   ],
   "source": [
    "origional_bucket_theta"
   ]
  },
  {
   "cell_type": "code",
   "execution_count": 13,
   "id": "888d8141",
   "metadata": {},
   "outputs": [
    {
     "data": {
      "text/plain": [
       "tensor(0.4051, grad_fn=<SumBackward0>)"
      ]
     },
     "execution_count": 13,
     "metadata": {},
     "output_type": "execute_result"
    }
   ],
   "source": [
    "torch.sum(bucket_nn.theta - origional_bucket_theta)"
   ]
  },
  {
   "cell_type": "code",
   "execution_count": 14,
   "id": "553672bc",
   "metadata": {},
   "outputs": [
    {
     "data": {
      "text/plain": [
       "tensor([ 0.0190,  0.0221, -0.0191, -0.1195,  0.5026], grad_fn=<SubBackward0>)"
      ]
     },
     "execution_count": 14,
     "metadata": {},
     "output_type": "execute_result"
    }
   ],
   "source": [
    "bucket_nn.theta - origional_bucket_theta"
   ]
  },
  {
   "cell_type": "code",
   "execution_count": 15,
   "metadata": {},
   "outputs": [
    {
     "ename": "NameError",
     "evalue": "name 'thislinewillstopthenotebookfromrunningthecellsbelow' is not defined",
     "output_type": "error",
     "traceback": [
      "\u001b[0;31m---------------------------------------------------------------------------\u001b[0m",
      "\u001b[0;31mNameError\u001b[0m                                 Traceback (most recent call last)",
      "Cell \u001b[0;32mIn[15], line 1\u001b[0m\n\u001b[0;32m----> 1\u001b[0m \u001b[38;5;28mprint\u001b[39m(\u001b[43mthislinewillstopthenotebookfromrunningthecellsbelow\u001b[49m)\n",
      "\u001b[0;31mNameError\u001b[0m: name 'thislinewillstopthenotebookfromrunningthecellsbelow' is not defined"
     ]
    }
   ],
   "source": [
    "print(thislinewillstopthenotebookfromrunningthecellsbelow)"
   ]
  },
  {
   "cell_type": "code",
   "execution_count": null,
   "metadata": {},
   "outputs": [],
   "source": [
    "for i in range(N_TIMESTEPS):\n",
    "\n",
    "    ###########################################################################\n",
    "    ###########################################################################\n",
    "    bucket_nn.set_value(PRECIP_SVN, torch.tensor(network_precip_input_list[i], requires_grad=True))\n",
    "    if bucket_nn.do_predict_theta_with_lstm:\n",
    "        sequence_tensors = []\n",
    "        tensor_device = bucket_nn.network[0]['H'].device\n",
    "        tensor_dtype = torch.float32\n",
    "        if i >= bucket_nn.input_u_sequence_length:\n",
    "            sequence_tensors = [torch.tensor([item], device=tensor_device, dtype=tensor_dtype) \n",
    "                                for item in network_precip_input_list[i-bucket_nn.input_u_sequence_length:i]]\n",
    "        else:\n",
    "            desired_tensor_shape = (1,)\n",
    "            padding_size = bucket_nn.input_u_sequence_length - i\n",
    "            padding_tensors = [torch.zeros(desired_tensor_shape, device=tensor_device, dtype=tensor_dtype) \n",
    "                            for _ in range(padding_size)]\n",
    "            sequence_tensors = padding_tensors + [torch.tensor([item], device=tensor_device, dtype=tensor_dtype) \n",
    "                                                for item in network_precip_input_list[:i]]\n",
    "        sequence = torch.stack(sequence_tensors).view(1, -1)\n",
    "        bucket_nn.set_value(PRECIP_SVN_SEQ, sequence)\n",
    "\n",
    "\n",
    "    bucket_nn.update()\n",
    "    network_outflow_list_1b.append(bucket_nn.network_outflow.item())\n",
    "    bucket_nn.summarize_network()\n",
    "\n",
    "    if i in [180, 200]:\n",
    "        print(bucket_nn.theta)\n",
    "        print(bucket_nn.get_the_H_tensor())\n",
    "    ###########################################################################\n",
    "    ###########################################################################\n",
    "\n",
    "    if DO_PLOT:\n",
    "        if i % int(N_TIMESTEPS/10) == 0:\n",
    "            plt.plot([tensor.item() for tensor in bucket_nn.mean_H_per_layer])\n",
    "\n",
    "###########################################################################\n",
    "network_outflow_tensor_1 = torch.tensor(network_outflow_list_1b, requires_grad=True)\n",
    "bucket_nn.report_out_mass_balance()\n",
    "\n",
    "origional_bucket_theta = copy.deepcopy(bucket_nn.theta.detach())\n",
    "\n",
    "if DO_PLOT:\n",
    "    plt.title(\"Mean head in each bucket per layer\")\n",
    "    plt.ylabel(\"Average head per layer\")\n",
    "    plt.xlabel(\"Network Layers\")\n",
    "    plt.show()\n",
    "    plt.close()\n",
    "\n",
    "if DO_PLOT:\n",
    "    startplt = 0\n",
    "    endplt = 250\n",
    "\n",
    "    plt.plot(network_precip_input_list, c=\"grey\", lw=0.5, label=\"Precipitation input\")\n",
    "    plt.plot(network_outflow_list_1b, label=\"Flow out of network\")\n",
    "    plt.xlim([startplt, endplt])\n",
    "    plt.ylim([0, torch.max(torch.tensor(network_precip_input_list)[startplt:endplt]).item()])\n",
    "    plt.legend()\n",
    "    plt.title(\"Warmup period\")\n",
    "    plt.show()\n",
    "    plt.close()\n",
    "    startplt = int(len(network_outflow_list_1b)-(len(network_outflow_list_1b)/2))\n",
    "    endplt = int(len(network_outflow_list_1b))\n",
    "    plt.plot(network_precip_input_list, c=\"grey\", lw=0.5, label=\"Precipitation input\")\n",
    "    plt.plot(network_outflow_list_1b, label=\"Flow out of network\")\n",
    "    plt.xlim([startplt, endplt])\n",
    "    plt.legend()\n",
    "    plt.title(\"Flow out from network and precip\")\n",
    "    plt.show()\n",
    "    plt.close()"
   ]
  },
  {
   "cell_type": "code",
   "execution_count": null,
   "metadata": {},
   "outputs": [],
   "source": [
    "#print(thiscellwillstopthenotebookbeforethepureneuralnetworksaretrained)"
   ]
  },
  {
   "cell_type": "code",
   "execution_count": null,
   "metadata": {},
   "outputs": [],
   "source": [
    "import numpy as np\n",
    "import torch.nn as nn\n",
    "from torch.optim.lr_scheduler import StepLR\n",
    "from torch.autograd import Variable \n",
    "if torch.cuda.is_available():\n",
    "    device = torch.device(\"cuda:0\")\n",
    "    print(\"Using CUDA device: \", torch.cuda.get_device_name(0))\n",
    "else:\n",
    "    device = 'cpu'"
   ]
  },
  {
   "cell_type": "code",
   "execution_count": null,
   "metadata": {},
   "outputs": [],
   "source": [
    "# Convert arrays to PyTorch tensors\n",
    "x_input = torch.FloatTensor(network_precip_tensor.detach().numpy())\n",
    "y_target = torch.FloatTensor(network_outflow_tensor_0.detach().numpy())\n",
    "\n",
    "# Define the sequence length (you can adjust this)\n",
    "seq_length = 12\n",
    "\n",
    "# Function to create sequences\n",
    "def create_sequences(input_data, target_data, seq_length):\n",
    "    xs, ys = [], []\n",
    "    for i in range(len(input_data)-seq_length):\n",
    "        x_seq = input_data[i:i+seq_length]\n",
    "        y_seq = target_data[i+seq_length]\n",
    "        xs.append(x_seq)\n",
    "        ys.append(y_seq)\n",
    "    return torch.stack(xs), torch.stack(ys)\n",
    "\n",
    "X, y = create_sequences(x_input, y_target, seq_length)\n",
    "\n",
    "class LSTMModel(nn.Module):\n",
    "    def __init__(self, input_size=1, hidden_layer_size=256, output_size=1, num_layers=1):\n",
    "        super().__init__()\n",
    "        self.hidden_layer_size = hidden_layer_size\n",
    "        self.lstm = nn.LSTM(input_size, hidden_layer_size, num_layers=num_layers)\n",
    "        self.linear = nn.Linear(hidden_layer_size, output_size)\n",
    "\n",
    "    def forward(self, input_seq):\n",
    "        lstm_out, _ = self.lstm(input_seq.view(len(input_seq), 1, -1))\n",
    "        predictions = self.linear(lstm_out.view(len(input_seq), -1))\n",
    "        return predictions[-1]\n",
    "\n",
    "model = LSTMModel()\n",
    "loss_function = nn.MSELoss()\n",
    "optimizer = torch.optim.Adam(model.parameters(), lr=0.001)\n",
    "\n",
    "epochs = 5\n",
    "for epoch in range(epochs):\n",
    "    for seq, labels in zip(X, y):\n",
    "        optimizer.zero_grad()\n",
    "        y_pred = model(seq)\n",
    "        single_loss = loss_function(y_pred, labels)\n",
    "        single_loss.backward()\n",
    "        optimizer.step()\n",
    "\n",
    "    if epoch % 1 == 0:\n",
    "        print(f'epoch: {epoch} loss: {single_loss.item()}')\n",
    "\n",
    "print(f'Final loss: {single_loss.item()}')\n",
    "\n",
    "\n",
    "\n",
    "\n",
    "predictions = []\n",
    "model.eval()\n",
    "with torch.no_grad():\n",
    "    for seq in X:\n",
    "        predictions.append(model(seq).item())\n",
    "\n",
    "# Convert predictions to a numpy array for easy plotting\n",
    "predictions_np = np.array(predictions)\n",
    "plt.figure(figsize=(12, 6))\n",
    "plt.title(\"LSTM Predictions vs Actual Data\")\n",
    "plt.xlabel(\"Time Steps\")\n",
    "plt.ylabel(\"Output\")\n",
    "plt.plot(x_input.numpy()[seq_length:], label='Precipitation', alpha=0.7)\n",
    "plt.plot(y_target.numpy()[seq_length:], label='Actual Outflow', alpha=0.7)\n",
    "plt.plot(predictions_np, label='Predicted Outflow', alpha=0.7, linestyle='--')\n",
    "plt.legend()\n",
    "plt.show()\n"
   ]
  },
  {
   "cell_type": "code",
   "execution_count": null,
   "metadata": {},
   "outputs": [],
   "source": [
    "# Convert arrays to PyTorch tensors\n",
    "x_input = torch.FloatTensor(network_precip_tensor.detach().numpy())\n",
    "y_target = torch.FloatTensor(network_outflow_tensor_0.detach().numpy())\n",
    "\n",
    "# Define the sequence length (you can adjust this)\n",
    "seq_length = 35\n",
    "\n",
    "# Function to create sequences\n",
    "def create_sequences(input_data, target_data, seq_length):\n",
    "    xs, ys = [], []\n",
    "    for i in range(len(input_data) - seq_length):\n",
    "        x_seq = input_data[i:i + seq_length]\n",
    "        y_seq = target_data[i + seq_length]\n",
    "        xs.append(x_seq)\n",
    "        ys.append(y_seq)\n",
    "    return torch.stack(xs), torch.stack(ys)\n",
    "\n",
    "X, y = create_sequences(x_input, y_target, seq_length)\n",
    "\n",
    "# Feedforward Neural Network Model\n",
    "class FFNNModel(nn.Module):\n",
    "    def __init__(self, input_size, hidden_layer_size=3, output_size=1):\n",
    "        super().__init__()\n",
    "        self.hidden_layer_size = hidden_layer_size\n",
    "\n",
    "        # Define your feedforward layers here\n",
    "        self.fc1 = nn.Linear(input_size, hidden_layer_size)\n",
    "        self.relu1 = nn.ReLU()\n",
    "        self.fc2 = nn.Linear(hidden_layer_size, hidden_layer_size)\n",
    "        self.relu2 = nn.ReLU()\n",
    "        self.fc3 = nn.Linear(hidden_layer_size, hidden_layer_size)\n",
    "        self.fc4 = nn.Linear(hidden_layer_size, output_size)\n",
    "\n",
    "    def forward(self, input_seq):\n",
    "        self.activations = []\n",
    "        x = self.fc1(input_seq)\n",
    "        self.activations.append(x.detach().numpy())  # Record activation\n",
    "        x = self.relu1(x)\n",
    "        self.activations.append(x.detach().numpy())  # Record activation\n",
    "        x = self.fc2(x)\n",
    "        self.activations.append(x.detach().numpy())  # Record activation\n",
    "        x = self.relu2(x)\n",
    "        self.activations.append(x.detach().numpy())  # Record activation\n",
    "        x = self.fc3(x)\n",
    "        self.activations.append(x.detach().numpy())  # Record activation\n",
    "        predictions = self.fc4(x)\n",
    "        return predictions[-1]\n",
    "\n",
    "model = FFNNModel(input_size=seq_length)\n",
    "loss_function = nn.MSELoss()\n",
    "optimizer = torch.optim.Adam(model.parameters(), lr=0.006)\n",
    "scheduler = StepLR(optimizer, step_size=1, gamma=0.99, verbose=True)\n",
    "\n",
    "epochs = 150\n",
    "for epoch in range(epochs):\n",
    "    for seq, labels in zip(X, y):\n",
    "        optimizer.zero_grad()\n",
    "        y_pred = model(seq)\n",
    "        single_loss = loss_function(y_pred, labels)\n",
    "        single_loss.backward()\n",
    "        optimizer.step()\n",
    "    \n",
    "    scheduler.step()\n",
    "    if epoch % 1 == 0:\n",
    "        print(f'epoch: {epoch} loss: {single_loss.item():.4f}')\n",
    "\n",
    "print(f'Final loss: {single_loss.item()}')"
   ]
  },
  {
   "cell_type": "code",
   "execution_count": null,
   "metadata": {},
   "outputs": [],
   "source": [
    "x_input.shape, y_target.shape, predictions_np.shape"
   ]
  },
  {
   "cell_type": "code",
   "execution_count": null,
   "metadata": {},
   "outputs": [],
   "source": [
    "predictions = []\n",
    "model.eval()\n",
    "with torch.no_grad():\n",
    "    for i, seq in enumerate(X):\n",
    "        predictions.append(model(seq).item())\n",
    "predictions_np = np.array(predictions)\n",
    "\n",
    "DO_PLOT = True\n",
    "if DO_PLOT:\n",
    "    startplt = 230\n",
    "    endplt = 280\n",
    "    bigfontsize = 22\n",
    "    smallfontsize = 16\n",
    "    # Set figure size to 7 inches wide\n",
    "    figure_width = 7  # inches\n",
    "    aspect_ratio = 3 / 2  # Adjust as needed for your plot\n",
    "    figure_height = figure_width / aspect_ratio\n",
    "\n",
    "    plt.figure(figsize=(figure_width, figure_height))\n",
    "\n",
    "    # Set color\n",
    "    light_blue_color = \"#3D68CA\"\n",
    "    line_and_text_color = \"#0D3F6E\"\n",
    "\n",
    "    # Plot each series with specified color\n",
    "    plt.plot(network_precip_input_list[startplt:endplt], c=light_blue_color, lw=10, label=\"Precipitation input\")\n",
    "    plt.plot(network_outflow_list_0[startplt:endplt], c=\"k\", lw=10, label=\"Target hydrograph \")\n",
    "    # plt.plot(network_outflow_list_1a[startplt:endplt], \"--\", lw=5, c=line_and_text_color, label=\"Pre-trained network\")\n",
    "    plt.plot(predictions_np[startplt-seq_length:endplt-seq_length], \"--\", lw=10, c=line_and_text_color, label=\"Trained bucket network\")\n",
    "\n",
    "    network_precip_tensor = torch.tensor(network_precip_input_list)\n",
    "    max_value = torch.max(network_precip_tensor[startplt:endplt]).item()\n",
    "    plt.ylim([0, max_value * 1.2])\n",
    "\n",
    "    plt.yticks([])\n",
    "    plt.xticks([])\n",
    "    plt.ylabel(\"Unit hydrograph\", fontsize=bigfontsize, color=line_and_text_color)\n",
    "    plt.xlabel(\"Time\", fontsize=bigfontsize, color=line_and_text_color)\n",
    "\n",
    "    # Modify legend to have a transparent background\n",
    "    #plt.legend(fontsize=smallfontsize, edgecolor=line_and_text_color, framealpha=0.5)  # Adjust framealpha as needed\n",
    "\n",
    "    #plt.title(\"Flow out from network and precip\", fontsize=bigfontsize, color=line_and_text_color)\n",
    "\n",
    "    # Save the figure with transparent background and at 300 DPI\n",
    "    #plt.show()\n",
    "    plt.savefig(\"./figs/ffn_plot.png\", transparent=True, dpi=300)\n",
    "\n",
    "    plt.close()"
   ]
  },
  {
   "cell_type": "markdown",
   "metadata": {},
   "source": [
    "def plot_the_time_series(x_input, y_target, predictions_np, seq_length):\n",
    "    plt.figure(figsize=(12, 6))\n",
    "    plt.title(\"FFNN Predictions vs Actual Data\")\n",
    "    plt.xlabel(\"Time Steps\")\n",
    "    plt.ylabel(\"Output\")\n",
    "    plt.plot(x_input.numpy()[seq_length:], label='Precipitation', alpha=0.7)\n",
    "    plt.plot(y_target.numpy()[seq_length:], label='Actual Outflow', alpha=0.7)\n",
    "    plt.plot(predictions_np, label='Predicted Outflow', alpha=0.7, linestyle='--')\n",
    "    plt.legend()\n",
    "    plt.show()\n",
    "    plt.close()\n",
    "predictions = []\n",
    "model.eval()\n",
    "with torch.no_grad():\n",
    "    for i, seq in enumerate(X):\n",
    "        predictions.append(model(seq).item())\n",
    "predictions_np = np.array(predictions)\n",
    "plot_the_time_series(x_input, y_target, predictions_np, seq_length)"
   ]
  },
  {
   "cell_type": "code",
   "execution_count": null,
   "metadata": {},
   "outputs": [],
   "source": [
    "import imageio\n",
    "import seaborn as sns\n",
    "import matplotlib.colors as mcolors\n",
    "from matplotlib.cm import ScalarMappable"
   ]
  },
  {
   "cell_type": "code",
   "execution_count": null,
   "metadata": {},
   "outputs": [],
   "source": [
    "#print(thiscellwillstopthenotebookbeforetheanimationismade)"
   ]
  },
  {
   "cell_type": "code",
   "execution_count": null,
   "metadata": {},
   "outputs": [],
   "source": [
    "def visualize_layer_connections_with_annotations(model, input_seq, title):\n",
    "    model(input_seq)  # Forward pass to record activations\n",
    "    activations = model.activations\n",
    "\n",
    "    # Concatenate activations horizontally\n",
    "    concatenated_activations = np.hstack([activation.reshape(-1, 1) for activation in activations])\n",
    "\n",
    "    # Plotting\n",
    "    plt.figure(figsize=(3, 2))  # Adjust the figure size as needed\n",
    "    ax = sns.heatmap(concatenated_activations, annot=True, fmt=\".2f\", cmap=\"viridis\", annot_kws={\"size\": 8})\n",
    "    plt.title(title)\n",
    "    plt.xlabel(\"Layer Neurons\")\n",
    "    plt.ylabel(\"Activation\")\n",
    "    plt.show()\n",
    "\n",
    "# Usage\n",
    "for i in [50, 75]:\n",
    "    visualize_layer_connections_with_annotations(model, X[i], f\"Neuron Connections at x={i}\")\n"
   ]
  },
  {
   "cell_type": "code",
   "execution_count": null,
   "metadata": {},
   "outputs": [],
   "source": []
  },
  {
   "cell_type": "code",
   "execution_count": null,
   "metadata": {},
   "outputs": [],
   "source": []
  },
  {
   "cell_type": "code",
   "execution_count": null,
   "metadata": {},
   "outputs": [],
   "source": []
  },
  {
   "cell_type": "code",
   "execution_count": null,
   "metadata": {},
   "outputs": [],
   "source": [
    "def network_visualization_subplot(model, input_seq, layer_sizes, title, ax):\n",
    "    model(input_seq)  # Forward pass to record activations\n",
    "    activations = model.activations\n",
    "\n",
    "    # Create a color map\n",
    "    cmap = plt.get_cmap('viridis')\n",
    "\n",
    "    # Normalize the activation values to [-5, 5] for the color map\n",
    "    norm = mcolors.Normalize(vmin=-5, vmax=5)\n",
    "\n",
    "    # Number of layers including input and output\n",
    "    num_layers = len(layer_sizes)\n",
    "\n",
    "    # List to store node positions, to be used to draw the edges\n",
    "    node_positions = {}\n",
    "\n",
    "    # Generate positions for each layer\n",
    "    for i, size in enumerate(layer_sizes):\n",
    "        # Vertical positions\n",
    "        v_positions = np.linspace(0, 1, size + 2)[1:-1]\n",
    "\n",
    "        # Horizontal position\n",
    "        h_position = i / (num_layers - 1)\n",
    "\n",
    "        # Draw nodes\n",
    "        for j, v in enumerate(v_positions):\n",
    "            activation = 0\n",
    "            if i > 0:  # Skip input layer for activations\n",
    "                activation = activations[i-1][j]\n",
    "            color = cmap(norm(activation))\n",
    "\n",
    "            circle = plt.Circle((h_position, v), 0.05, color=color, zorder=4)\n",
    "            ax.add_artist(circle)\n",
    "            node_positions[(i, j)] = (h_position, v)\n",
    "\n",
    "            # Optionally, add activation values as text inside the nodes\n",
    "            # plt.text(h_position, v, f'{activation:.2f}', ha='center', va='center', color='white', fontsize=8)\n",
    "\n",
    "    # Draw edges\n",
    "    for i in range(num_layers - 1):\n",
    "        for j in range(layer_sizes[i]):\n",
    "            for k in range(layer_sizes[i + 1]):\n",
    "                start_pos = node_positions[(i, j)]\n",
    "                end_pos = node_positions[(i + 1, k)]\n",
    "                line = plt.Line2D([start_pos[0], end_pos[0]], [start_pos[1], end_pos[1]], c='black', alpha=0.3)\n",
    "                ax.add_line(line)\n",
    "\n",
    "    mappable = ScalarMappable(norm=norm, cmap=cmap)\n",
    "\n",
    "    # Add a colorbar\n",
    "    plt.colorbar(mappable, ax=ax, orientation='vertical', fraction=0.046, pad=0.04)\n",
    "\n",
    "    # Set title and turn off axis\n",
    "    ax.set_title(title)\n",
    "    ax.axis('off')\n"
   ]
  },
  {
   "cell_type": "code",
   "execution_count": null,
   "metadata": {},
   "outputs": [],
   "source": [
    "def plot_the_time_series_subplot(x_input, y_target, predictions_np, seq_length, t, ax):\n",
    "    ax.set_title(\"FFNN Predictions vs Actual Data\")\n",
    "    ax.set_xlabel(\"Time Steps\")\n",
    "    ax.set_ylabel(\"Output\")\n",
    "    ax.plot(x_input.numpy()[seq_length:], label='Precipitation', alpha=0.7)\n",
    "    ax.plot(y_target.numpy()[seq_length:], label='Actual Outflow', alpha=0.7)\n",
    "    ax.plot(predictions_np, label='Predicted Outflow', alpha=0.7, linestyle='--')\n",
    "    ax.axvline(x=t, color='red', linestyle='--')  # Vertical line\n",
    "    ax.legend()"
   ]
  },
  {
   "cell_type": "code",
   "execution_count": null,
   "metadata": {},
   "outputs": [],
   "source": [
    "# Define the size of each layer (including input and output layers)\n",
    "layer_sizes = [1, 3, 3, 3, 1]  # Example: input layer with 35 nodes, three hidden layers with 3 nodes each, and an output layer with 1 node\n",
    "\n",
    "# Usage\n",
    "for t in range(1,200):\n",
    "\n",
    "    fig, (ax1, ax2) = plt.subplots(2, 1, figsize=(12, 12))\n",
    "\n",
    "    # Network visualization on the first subplot\n",
    "    network_visualization_subplot(model, X[t], layer_sizes, f\"Neural Network Visualization at t={t}\", ax1)\n",
    "\n",
    "    # Time series plot on the second subplot\n",
    "    plot_the_time_series_subplot(x_input, y_target, predictions_np, seq_length, t, ax2)\n",
    "\n",
    "    plt.tight_layout()\n",
    "    plt.savefig(f\"./figs/network_plot/combined_frame_{t}.png\")\n",
    "    plt.close(fig)"
   ]
  },
  {
   "cell_type": "code",
   "execution_count": null,
   "metadata": {},
   "outputs": [],
   "source": [
    "filenames = [f\"./figs/network_plot/combined_frame_{t}.png\" for t in range(1, 200)]\n",
    "images = [imageio.imread(filename) for filename in filenames]\n",
    "imageio.mimsave('network_animation.gif', images, fps=2)  # Adjust fps as needed"
   ]
  },
  {
   "cell_type": "code",
   "execution_count": null,
   "metadata": {},
   "outputs": [],
   "source": []
  },
  {
   "cell_type": "code",
   "execution_count": null,
   "metadata": {},
   "outputs": [],
   "source": []
  },
  {
   "cell_type": "code",
   "execution_count": null,
   "metadata": {},
   "outputs": [],
   "source": []
  }
 ],
 "metadata": {
  "kernelspec": {
   "display_name": "Python 3",
   "language": "python",
   "name": "python3"
  },
  "language_info": {
   "codemirror_mode": {
    "name": "ipython",
    "version": 3
   },
   "file_extension": ".py",
   "mimetype": "text/x-python",
   "name": "python",
   "nbconvert_exporter": "python",
   "pygments_lexer": "ipython3",
   "version": "3.1.0"
  }
 },
 "nbformat": 4,
 "nbformat_minor": 5
}

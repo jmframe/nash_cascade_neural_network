{
 "cells": [
  {
   "cell_type": "code",
   "execution_count": null,
   "id": "45cb35ce-803e-43be-b263-4a1a0f3bb6a3",
   "metadata": {
    "tags": []
   },
   "outputs": [],
   "source": [
    "# Nash Cascade Neural Network\n",
    "# A hydrologically intuitive deep learning network\n",
    "\n",
    "# Set up a solution to a network of buckets where the number of buckets in each layer\n",
    "# flows out to the buckets in the next layer\n",
    "# The parameter on each bucket is the size and height of each spigot.\n",
    "\n",
    "# Need a function that solves this individually at a single buckets\n",
    "# Then a function that loops through and moves the water to the downstream buckets"
   ]
  },
  {
   "cell_type": "code",
   "execution_count": null,
   "id": "62bab940-cde5-4ff0-8897-75fdf2ebec52",
   "metadata": {
    "tags": []
   },
   "outputs": [],
   "source": [
    "import numpy as np\n",
    "import torch"
   ]
  },
  {
   "cell_type": "code",
   "execution_count": null,
   "id": "38637f95-726c-41e7-9d86-42ab568d605d",
   "metadata": {
    "tags": []
   },
   "outputs": [],
   "source": [
    "# Initialize some flow into the system\n",
    "U = [np.round(np.random.random()) for u in range(100)]\n",
    "print(U)"
   ]
  },
  {
   "cell_type": "code",
   "execution_count": null,
   "id": "d9c52ba8-1f53-4bc2-a25b-f6fdc5769388",
   "metadata": {
    "tags": []
   },
   "outputs": [],
   "source": [
    "def set_up_bucket_network(layers):\n",
    "    \"\"\"Sets up the network of buckets\n",
    "        Args: \n",
    "            layers (np.array): the number of layers and the number of buckets in each layer\n",
    "    \"\"\"\n",
    "    for i in (layers.shape[0]):\n",
    "        n_spigots = layers[i+1]\n",
    "        spigots = torch.tensor([[np.random.random() for _ in range(n_spigots)],\n",
    "                                [np.random.random() for _ in range(n_spigots)]])\n",
    "        "
   ]
  },
  {
   "cell_type": "code",
   "execution_count": null,
   "id": "8e1e8343-c809-4ea2-9867-03b4b66a4d24",
   "metadata": {
    "tags": []
   },
   "outputs": [],
   "source": [
    "spigots.shape"
   ]
  },
  {
   "cell_type": "code",
   "execution_count": null,
   "id": "2b4d773c-7601-4c85-8a44-833ae5b69598",
   "metadata": {
    "tags": []
   },
   "outputs": [],
   "source": [
    "def bucket_n(H, spigots):\n",
    "    \"\"\" solves a single bucket\n",
    "        Args: \n",
    "            H (float): the water level in bucket\n",
    "            spigots (torch.tensor 2Xn): the characteristics of the bucket outlets\n",
    "                                        Height of spigots, size of spigots\n",
    "                                        One set of values for each network size\n",
    "        Returns:\n",
    "            H (float): the new water level in bucket\n",
    "            v (torch.tensor ): The total ammount of water out of each spigot\n",
    "    \"\"\"\n",
    "\n",
    "    H = None\n",
    "    v = None\n",
    "    \n",
    "    return H, v"
   ]
  },
  {
   "cell_type": "code",
   "execution_count": null,
   "id": "af96aad5-814b-4355-85f8-663c4a202fce",
   "metadata": {},
   "outputs": [],
   "source": []
  }
 ],
 "metadata": {
  "kernelspec": {
   "display_name": "Python 3 (ipykernel)",
   "language": "python",
   "name": "python3"
  },
  "language_info": {
   "codemirror_mode": {
    "name": "ipython",
    "version": 3
   },
   "file_extension": ".py",
   "mimetype": "text/x-python",
   "name": "python",
   "nbconvert_exporter": "python",
   "pygments_lexer": "ipython3",
   "version": "3.9.16"
  }
 },
 "nbformat": 4,
 "nbformat_minor": 5
}

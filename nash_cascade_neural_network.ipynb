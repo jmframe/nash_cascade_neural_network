{
 "cells": [
  {
   "cell_type": "code",
   "execution_count": 1,
   "id": "45cb35ce-803e-43be-b263-4a1a0f3bb6a3",
   "metadata": {
    "tags": []
   },
   "outputs": [],
   "source": [
    "# Nash Cascade Neural Network\n",
    "# A hydrologically intuitive deep learning network\n",
    "\n",
    "# Set up a solution to a network of buckets where the number of buckets in each layer\n",
    "# flows out to the buckets in the next layer\n",
    "# The parameter on each bucket is the size and height of each spigot.\n",
    "\n",
    "# Need a function that solves this individually at a single buckets\n",
    "# Then a function that loops through and moves the water to the downstream buckets"
   ]
  },
  {
   "cell_type": "code",
   "execution_count": 2,
   "id": "62bab940-cde5-4ff0-8897-75fdf2ebec52",
   "metadata": {
    "tags": []
   },
   "outputs": [],
   "source": [
    "import numpy as np\n",
    "import torch\n",
    "G = 9.81"
   ]
  },
  {
   "cell_type": "code",
   "execution_count": 3,
   "id": "38637f95-726c-41e7-9d86-42ab568d605d",
   "metadata": {
    "tags": []
   },
   "outputs": [
    {
     "name": "stdout",
     "output_type": "stream",
     "text": [
      "[1.0, 1.0, 0.0, 1.0, 1.0, 0.0, 1.0, 1.0, 0.0, 1.0, 0.0, 1.0, 1.0, 1.0, 1.0, 0.0, 0.0, 1.0, 1.0, 1.0, 0.0, 1.0, 0.0, 1.0, 1.0, 0.0, 1.0, 1.0, 1.0, 1.0, 1.0, 0.0, 0.0, 0.0, 1.0, 1.0, 0.0, 0.0, 0.0, 0.0, 1.0, 1.0, 1.0, 1.0, 1.0, 1.0, 1.0, 0.0, 1.0, 0.0, 1.0, 0.0, 0.0, 0.0, 0.0, 1.0, 0.0, 0.0, 0.0, 1.0, 1.0, 0.0, 1.0, 1.0, 0.0, 0.0, 1.0, 0.0, 0.0, 0.0, 1.0, 1.0, 0.0, 0.0, 1.0, 1.0, 1.0, 0.0, 0.0, 0.0, 1.0, 1.0, 1.0, 1.0, 0.0, 0.0, 1.0, 1.0, 0.0, 1.0, 0.0, 1.0, 0.0, 0.0, 1.0, 0.0, 1.0, 0.0, 0.0, 1.0]\n"
     ]
    }
   ],
   "source": [
    "# Initialize some flow into the system\n",
    "U = [np.round(np.random.random()) for u in range(100)]\n",
    "print(U)"
   ]
  },
  {
   "cell_type": "code",
   "execution_count": 4,
   "id": "ad263034-77ab-4b18-b97f-9f194031988d",
   "metadata": {
    "tags": []
   },
   "outputs": [
    {
     "name": "stdout",
     "output_type": "stream",
     "text": [
      "5\n"
     ]
    }
   ],
   "source": [
    "# Initialize the network size\n",
    "Buckets_Per_Layer = [1,2,3,2,1] # Buckets Per Layer\n",
    "print(len(Buckets_Per_Layer))"
   ]
  },
  {
   "cell_type": "code",
   "execution_count": 5,
   "id": "64423c4d-5b8a-4c7c-9c3b-a15699de944c",
   "metadata": {
    "tags": []
   },
   "outputs": [],
   "source": [
    "def get_initial_parameters_of_one_bucket(n_spigots):\n",
    "    \"\"\"\n",
    "        returns tupple: {height, area, q}\n",
    "    \"\"\"\n",
    "    s_parameters = [[np.random.random(),np.random.random()] for _ in range(n_spigots)]\n",
    "    return s_parameters"
   ]
  },
  {
   "cell_type": "code",
   "execution_count": 6,
   "id": "d9c52ba8-1f53-4bc2-a25b-f6fdc5769388",
   "metadata": {
    "tags": []
   },
   "outputs": [],
   "source": [
    "def initialize_up_bucket_network(bpl):\n",
    "    \"\"\"Sets up the network of buckets\n",
    "        Args: \n",
    "            bpl (list): the buckets per layer\n",
    "        Returns:\n",
    "            dict: A dictionary with all the buckets organized by layer, \n",
    "                  with each layer containing a dictionary, \n",
    "                  with keys for Head in the bucket and a list of spigot parms\n",
    "    \"\"\"\n",
    "\n",
    "    # For each layer in the network, set up a dictionary with the bucket characteristics\n",
    "    bucket_network_dict = {layer:{\"H\":[], \"S\":[], \"s_q\":[]} for layer in range(len(bpl))}\n",
    "    \n",
    "    for ilayer, n_buckets in enumerate(bpl):\n",
    "        if ilayer < len(bpl)-1:\n",
    "            n_spigots = bpl[ilayer+1]\n",
    "        else:\n",
    "            n_spigots = 1\n",
    "        spigots = [get_initial_parameters_of_one_bucket(n_spigots) for jbucket in range(n_buckets)]\n",
    "        bucket_network_dict[ilayer][\"S\"] = spigots\n",
    "        bucket_network_dict[ilayer][\"H\"] = [100 for jbucket in range(n_buckets)]\n",
    "        bucket_network_dict[ilayer][\"s_q\"] = [[0 for i in range(n_spigots)] for jbucket in range(n_buckets)]\n",
    "        bucket_network_dict[ilayer][\"theta\"] = [[np.random.uniform(0.001, 0.01) for i in range(n_spigots)] for jbucket in range(n_buckets)]\n",
    "    return bucket_network_dict"
   ]
  },
  {
   "cell_type": "code",
   "execution_count": 7,
   "id": "8e1e8343-c809-4ea2-9867-03b4b66a4d24",
   "metadata": {
    "tags": []
   },
   "outputs": [],
   "source": [
    "ncnn = initialize_up_bucket_network(Buckets_Per_Layer)"
   ]
  },
  {
   "cell_type": "code",
   "execution_count": 8,
   "id": "103c8d6a",
   "metadata": {},
   "outputs": [
    {
     "data": {
      "text/plain": [
       "{0: {'H': [100],\n",
       "  'S': [[[0.3550534127236469, 0.2898577087602594],\n",
       "    [0.08236047186249029, 0.8322673367299801]]],\n",
       "  's_q': [[0, 0]],\n",
       "  'theta': [[0.003084473233346086, 0.005433414573430011]]},\n",
       " 1: {'H': [100, 100],\n",
       "  'S': [[[0.1817810522039358, 0.9461166768861834],\n",
       "    [0.12799485539759126, 0.6823147254997826],\n",
       "    [0.460853682000506, 0.3791280828113539]],\n",
       "   [[0.9199331710650406, 0.7905382515856079],\n",
       "    [0.2159614699994411, 0.7220342552953847],\n",
       "    [0.9292765773827322, 0.8414643527687837]]],\n",
       "  's_q': [[0, 0, 0], [0, 0, 0]],\n",
       "  'theta': [[0.003266964940267845, 0.003428210666356111, 0.006723872478769902],\n",
       "   [0.0035479127892237604, 0.008617254522488444, 0.0077256410148742625]]},\n",
       " 2: {'H': [100, 100, 100],\n",
       "  'S': [[[0.2220501214945777, 0.010323763764213845],\n",
       "    [0.7055737385193984, 0.8035202033138776]],\n",
       "   [[0.8060290616129087, 0.3333909441703139],\n",
       "    [0.7397123811560615, 0.7670756717984762]],\n",
       "   [[0.4195100119664241, 0.30096328803311334],\n",
       "    [0.4182047539372198, 0.7571172439447987]]],\n",
       "  's_q': [[0, 0], [0, 0], [0, 0]],\n",
       "  'theta': [[0.005321579187841044, 0.0014287683801349391],\n",
       "   [0.009176673298691922, 0.0041780788238543936],\n",
       "   [0.009274244402254158, 0.0033592274681740544]]},\n",
       " 3: {'H': [100, 100],\n",
       "  'S': [[[0.9435740112067362, 0.25404353298730054]],\n",
       "   [[0.0813840855387934, 0.791154407632445]]],\n",
       "  's_q': [[0], [0]],\n",
       "  'theta': [[0.004754447671432632], [0.0012787083472432389]]},\n",
       " 4: {'H': [100],\n",
       "  'S': [[[0.9157798156290422, 0.905245065294647]]],\n",
       "  's_q': [[0]],\n",
       "  'theta': [[0.001074928612511924]]}}"
      ]
     },
     "execution_count": 8,
     "metadata": {},
     "output_type": "execute_result"
    }
   ],
   "source": [
    "ncnn"
   ]
  },
  {
   "cell_type": "code",
   "execution_count": 9,
   "id": "b86af2f2-0199-4c8a-9a9d-55c11ba62edd",
   "metadata": {
    "tags": []
   },
   "outputs": [
    {
     "name": "stdout",
     "output_type": "stream",
     "text": [
      "Network layer 0\n",
      "These are the characteristics of each spigot in a single bucket\n",
      "Head [100]\n",
      "Spigot parms [[[0.3550534127236469, 0.2898577087602594], [0.08236047186249029, 0.8322673367299801]]]\n",
      "Network layer 1\n",
      "These are the characteristics of each spigot in a single bucket\n",
      "Head [100, 100]\n",
      "Spigot parms [[[0.1817810522039358, 0.9461166768861834], [0.12799485539759126, 0.6823147254997826], [0.460853682000506, 0.3791280828113539]], [[0.9199331710650406, 0.7905382515856079], [0.2159614699994411, 0.7220342552953847], [0.9292765773827322, 0.8414643527687837]]]\n",
      "Network layer 2\n",
      "These are the characteristics of each spigot in a single bucket\n",
      "Head [100, 100, 100]\n",
      "Spigot parms [[[0.2220501214945777, 0.010323763764213845], [0.7055737385193984, 0.8035202033138776]], [[0.8060290616129087, 0.3333909441703139], [0.7397123811560615, 0.7670756717984762]], [[0.4195100119664241, 0.30096328803311334], [0.4182047539372198, 0.7571172439447987]]]\n",
      "Network layer 3\n",
      "These are the characteristics of each spigot in a single bucket\n",
      "Head [100, 100]\n",
      "Spigot parms [[[0.9435740112067362, 0.25404353298730054]], [[0.0813840855387934, 0.791154407632445]]]\n",
      "Network layer 4\n",
      "These are the characteristics of each spigot in a single bucket\n",
      "Head [100]\n",
      "Spigot parms [[[0.9157798156290422, 0.905245065294647]]]\n"
     ]
    }
   ],
   "source": [
    "for ilayer in ncnn.keys():\n",
    "    print(\"Network layer\", ilayer)\n",
    "    print(\"These are the characteristics of each spigot in a single bucket\")\n",
    "    print(\"Head\", ncnn[ilayer][\"H\"])\n",
    "    print(\"Spigot parms\", ncnn[ilayer][\"S\"])"
   ]
  },
  {
   "cell_type": "code",
   "execution_count": 10,
   "id": "6e9f4e6e",
   "metadata": {},
   "outputs": [
    {
     "data": {
      "text/plain": [
       "0.9461166768861834"
      ]
     },
     "execution_count": 10,
     "metadata": {},
     "output_type": "execute_result"
    }
   ],
   "source": [
    "ncnn[1][\"S\"][0][0][-1]"
   ]
  },
  {
   "cell_type": "code",
   "execution_count": 11,
   "id": "2b4d773c-7601-4c85-8a44-833ae5b69598",
   "metadata": {
    "tags": []
   },
   "outputs": [],
   "source": [
    "def solve_single_bucket(H, S, theta):\n",
    "    \"\"\" solves a single bucket\n",
    "        Args: \n",
    "            H (float): the water level in bucket\n",
    "            S (list): the characteristics of the bucket outlets\n",
    "                                        spigots[0]: Height of spigots, \n",
    "                                        spigots[1]: size of spigots\n",
    "            theta (list): These are the weights of each bucket outlet (valve)\n",
    "        Returns:\n",
    "            H (float): the new water level in bucket\n",
    "            s_q (list): The flow of water out of each spigot\n",
    "    \"\"\"\n",
    "    print(f\"This bucket has {len(S)} spigots, will return {len(S)} flows\")\n",
    "    s_q = []\n",
    "    for S_i, theta_i in zip(S, theta):\n",
    "        sp_h, sp_a = S_i\n",
    "        h = np.max([0, H - sp_h])\n",
    "        v =  theta_i * np.sqrt(2 * G * h)\n",
    "        flow_out = v * sp_a\n",
    "        s_q.append(flow_out)\n",
    "    Q = np.sum(s_q)\n",
    "    H = H - Q\n",
    "    \n",
    "    return H, s_q"
   ]
  },
  {
   "cell_type": "code",
   "execution_count": 12,
   "id": "b4c80eb5",
   "metadata": {},
   "outputs": [
    {
     "name": "stdout",
     "output_type": "stream",
     "text": [
      "S [[0.3550534127236469, 0.2898577087602594], [0.08236047186249029, 0.8322673367299801]]\n",
      "H before:  100\n",
      "s_q before:  [0, 0]\n",
      "This bucket has 2 spigots, will return 2 flows\n",
      "H after:  99.76024907005299\n",
      "s_q after:  [0.03953147341382072, 0.20021945653318415]\n",
      "S [[0.1817810522039358, 0.9461166768861834], [0.12799485539759126, 0.6823147254997826], [0.460853682000506, 0.3791280828113539]]\n",
      "H before:  100\n",
      "s_q before:  [0, 0, 0]\n",
      "This bucket has 3 spigots, will return 3 flows\n",
      "H after:  99.64701433764303\n",
      "s_q after:  [0.1367866083651405, 0.10354368863608657, 0.11265536535573879]\n",
      "S [[0.9199331710650406, 0.7905382515856079], [0.2159614699994411, 0.7220342552953847], [0.9292765773827322, 0.8414643527687837]]\n",
      "H before:  100\n",
      "s_q before:  [0, 0, 0]\n",
      "This bucket has 3 spigots, will return 3 flows\n",
      "H after:  99.31442631221623\n",
      "s_q after:  [0.12366262804735623, 0.27530034956609317, 0.2866107101703277]\n",
      "S [[0.2220501214945777, 0.010323763764213845], [0.7055737385193984, 0.8035202033138776]]\n",
      "H before:  100\n",
      "s_q before:  [0, 0]\n",
      "This bucket has 2 spigots, will return 2 flows\n",
      "H after:  99.9468969272794\n",
      "s_q after:  [0.002430778446760619, 0.05067229427384138]\n",
      "S [[0.8060290616129087, 0.3333909441703139], [0.7397123811560615, 0.7670756717984762]]\n",
      "H before:  100\n",
      "s_q before:  [0, 0]\n",
      "This bucket has 2 spigots, will return 2 flows\n",
      "H after:  99.72359843674398\n",
      "s_q after:  [0.13496812331652336, 0.14143343993949692]\n",
      "S [[0.4195100119664241, 0.30096328803311334], [0.4182047539372198, 0.7571172439447987]]\n",
      "H before:  100\n",
      "s_q before:  [0, 0]\n",
      "This bucket has 2 spigots, will return 2 flows\n",
      "H after:  99.76420496888797\n",
      "s_q after:  [0.12337543316554463, 0.11241959794649202]\n",
      "S [[0.9435740112067362, 0.25404353298730054]]\n",
      "H before:  100\n",
      "s_q before:  [0]\n",
      "This bucket has 1 spigots, will return 1 flows\n",
      "H after:  99.94675252180741\n",
      "s_q after:  [0.05324747819258883]\n",
      "S [[0.0813840855387934, 0.791154407632445]]\n",
      "H before:  100\n",
      "s_q before:  [0]\n",
      "This bucket has 1 spigots, will return 1 flows\n",
      "H after:  99.95520748390447\n",
      "s_q after:  [0.04479251609552779]\n",
      "S [[0.9157798156290422, 0.905245065294647]]\n",
      "H before:  100\n",
      "s_q before:  [0]\n",
      "This bucket has 1 spigots, will return 1 flows\n",
      "H after:  99.95709602424297\n",
      "s_q after:  [0.04290397575703184]\n"
     ]
    }
   ],
   "source": [
    "for ilayer in list(ncnn.keys()):\n",
    "    for ibucket in range(len(ncnn[ilayer][\"H\"])):\n",
    "        \n",
    "        print(\"S\", ncnn[ilayer][\"S\"][ibucket])\n",
    "        print(\"H before: \", ncnn[ilayer][\"H\"][ibucket])\n",
    "        print(\"s_q before: \", ncnn[ilayer][\"s_q\"][ibucket])\n",
    "\n",
    "        H = ncnn[ilayer][\"H\"][ibucket]\n",
    "        S = ncnn[ilayer][\"S\"][ibucket]\n",
    "        theta = ncnn[ilayer][\"theta\"][ibucket]\n",
    "\n",
    "        H, s_q = solve_single_bucket(H, S, theta)\n",
    "        \n",
    "        ncnn[ilayer][\"H\"][ibucket] = H\n",
    "        ncnn[ilayer][\"s_q\"][ibucket] = s_q\n",
    "\n",
    "        print(\"H after: \", ncnn[ilayer][\"H\"][ibucket])\n",
    "        print(\"s_q after: \", ncnn[ilayer][\"s_q\"][ibucket])"
   ]
  },
  {
   "cell_type": "code",
   "execution_count": null,
   "id": "92cb4cbf-61b3-4566-a9e0-37d15e846fc1",
   "metadata": {},
   "outputs": [],
   "source": []
  }
 ],
 "metadata": {
  "kernelspec": {
   "display_name": "Python 3",
   "language": "python",
   "name": "python3"
  },
  "language_info": {
   "codemirror_mode": {
    "name": "ipython",
    "version": 3
   },
   "file_extension": ".py",
   "mimetype": "text/x-python",
   "name": "python",
   "nbconvert_exporter": "python",
   "pygments_lexer": "ipython3",
   "version": "3.10.6"
  }
 },
 "nbformat": 4,
 "nbformat_minor": 5
}

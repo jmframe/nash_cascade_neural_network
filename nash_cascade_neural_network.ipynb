{
 "cells": [
  {
   "cell_type": "code",
   "execution_count": null,
   "id": "45cb35ce-803e-43be-b263-4a1a0f3bb6a3",
   "metadata": {
    "tags": []
   },
   "outputs": [],
   "source": [
    "# Nash Cascade Neural Network\n",
    "# A hydrologically intuitive deep learning network\n",
    "\n",
    "# Set up a solution to a network of buckets where the number of buckets in each layer\n",
    "# flows out to the buckets in the next layer\n",
    "# The parameter on each bucket is the size and height of each spigot.\n",
    "\n",
    "# Need a function that solves this individually at a single buckets\n",
    "# Then a function that loops through and moves the water to the downstream buckets"
   ]
  },
  {
   "cell_type": "code",
   "execution_count": 1,
   "id": "62bab940-cde5-4ff0-8897-75fdf2ebec52",
   "metadata": {
    "tags": []
   },
   "outputs": [],
   "source": [
    "import numpy as np\n",
    "import torch"
   ]
  },
  {
   "cell_type": "code",
   "execution_count": 2,
   "id": "38637f95-726c-41e7-9d86-42ab568d605d",
   "metadata": {
    "tags": []
   },
   "outputs": [
    {
     "name": "stdout",
     "output_type": "stream",
     "text": [
      "[0.0, 0.0, 0.0, 1.0, 0.0, 0.0, 0.0, 1.0, 0.0, 1.0, 1.0, 1.0, 0.0, 1.0, 1.0, 0.0, 0.0, 0.0, 1.0, 0.0, 0.0, 0.0, 1.0, 0.0, 1.0, 1.0, 0.0, 1.0, 0.0, 0.0, 1.0, 1.0, 0.0, 1.0, 0.0, 1.0, 0.0, 1.0, 1.0, 0.0, 1.0, 1.0, 0.0, 0.0, 1.0, 0.0, 0.0, 1.0, 1.0, 0.0, 1.0, 0.0, 0.0, 0.0, 1.0, 0.0, 1.0, 1.0, 1.0, 1.0, 0.0, 0.0, 1.0, 0.0, 0.0, 1.0, 1.0, 1.0, 1.0, 0.0, 1.0, 0.0, 0.0, 0.0, 0.0, 0.0, 0.0, 1.0, 1.0, 1.0, 1.0, 0.0, 0.0, 1.0, 1.0, 0.0, 1.0, 0.0, 1.0, 0.0, 1.0, 1.0, 1.0, 1.0, 1.0, 1.0, 0.0, 1.0, 1.0, 0.0]\n"
     ]
    }
   ],
   "source": [
    "# Initialize some flow into the system\n",
    "U = [np.round(np.random.random()) for u in range(100)]\n",
    "print(U)"
   ]
  },
  {
   "cell_type": "code",
   "execution_count": 20,
   "id": "ad263034-77ab-4b18-b97f-9f194031988d",
   "metadata": {
    "tags": []
   },
   "outputs": [
    {
     "name": "stdout",
     "output_type": "stream",
     "text": [
      "5\n"
     ]
    }
   ],
   "source": [
    "# Initialize the network size\n",
    "Buckets_Per_Layer = [1,2,3,2,1] # Buckets Per Layer\n",
    "print(len(Buckets_Per_Layer))"
   ]
  },
  {
   "cell_type": "code",
   "execution_count": 21,
   "id": "64423c4d-5b8a-4c7c-9c3b-a15699de944c",
   "metadata": {
    "tags": []
   },
   "outputs": [],
   "source": [
    "def get_initial_parameters_of_one_bucket(n_spigots):\n",
    "    return [(np.random.random(),np.random.random()) for _ in range(n_spigots)]"
   ]
  },
  {
   "cell_type": "code",
   "execution_count": 27,
   "id": "d9c52ba8-1f53-4bc2-a25b-f6fdc5769388",
   "metadata": {
    "tags": []
   },
   "outputs": [],
   "source": [
    "def initialize_up_bucket_network(bpl):\n",
    "    \"\"\"Sets up the network of buckets\n",
    "        Args: \n",
    "            bpl (list): the buckets per layer\n",
    "    \"\"\"\n",
    "    bucket_network = []\n",
    "    for ilayer, n_buckets in enumerate(bpl):\n",
    "        if ilayer < len(bpl)-1:\n",
    "            n_spigots = bpl[ilayer+1]\n",
    "        else:\n",
    "            n_spigors = 1\n",
    "        spigots = [get_initial_parameters_of_one_bucket(n_spigots) for jbucket in range(n_buckets)]\n",
    "        bucket_network.append(spigots)\n",
    "    return bucket_network"
   ]
  },
  {
   "cell_type": "code",
   "execution_count": 28,
   "id": "8e1e8343-c809-4ea2-9867-03b4b66a4d24",
   "metadata": {
    "tags": []
   },
   "outputs": [],
   "source": [
    "ncnn = initialize_up_bucket_network(Buckets_Per_Layer)"
   ]
  },
  {
   "cell_type": "code",
   "execution_count": 32,
   "id": "b86af2f2-0199-4c8a-9a9d-55c11ba62edd",
   "metadata": {
    "tags": []
   },
   "outputs": [
    {
     "name": "stdout",
     "output_type": "stream",
     "text": [
      "These are the characteristics of each spigot in a single bucket\n",
      "[(0.5878221278242979, 0.06089940786332415), (0.20351419196999, 0.7547215041631803)]\n",
      "This is an individual spigot\n",
      "(0.5878221278242979, 0.06089940786332415)\n",
      "This is an individual spigot\n",
      "(0.20351419196999, 0.7547215041631803)\n",
      "These are the characteristics of each spigot in a single bucket\n",
      "[(0.09612469839989657, 0.848216631944853), (0.7384529995924057, 0.6891968689610103), (0.4801471017845297, 0.854378314642732)]\n",
      "This is an individual spigot\n",
      "(0.09612469839989657, 0.848216631944853)\n",
      "This is an individual spigot\n",
      "(0.7384529995924057, 0.6891968689610103)\n",
      "This is an individual spigot\n",
      "(0.4801471017845297, 0.854378314642732)\n",
      "These are the characteristics of each spigot in a single bucket\n",
      "[(0.13203508039066592, 0.92816304537708), (0.21425549913678843, 0.8518122014238854), (0.8509896953630688, 0.3440372029514811)]\n",
      "This is an individual spigot\n",
      "(0.13203508039066592, 0.92816304537708)\n",
      "This is an individual spigot\n",
      "(0.21425549913678843, 0.8518122014238854)\n",
      "This is an individual spigot\n",
      "(0.8509896953630688, 0.3440372029514811)\n",
      "These are the characteristics of each spigot in a single bucket\n",
      "[(0.8647745311944177, 0.9811720244998523), (0.5939868291831646, 0.5048778463659802)]\n",
      "This is an individual spigot\n",
      "(0.8647745311944177, 0.9811720244998523)\n",
      "This is an individual spigot\n",
      "(0.5939868291831646, 0.5048778463659802)\n",
      "These are the characteristics of each spigot in a single bucket\n",
      "[(0.8986470112065954, 0.6972173876922976), (0.30408323858429975, 0.6769869093522061)]\n",
      "This is an individual spigot\n",
      "(0.8986470112065954, 0.6972173876922976)\n",
      "This is an individual spigot\n",
      "(0.30408323858429975, 0.6769869093522061)\n",
      "These are the characteristics of each spigot in a single bucket\n",
      "[(0.6874793814659821, 0.31301827292443474), (0.8015633113914605, 0.7110230594707141)]\n",
      "This is an individual spigot\n",
      "(0.6874793814659821, 0.31301827292443474)\n",
      "This is an individual spigot\n",
      "(0.8015633113914605, 0.7110230594707141)\n",
      "These are the characteristics of each spigot in a single bucket\n",
      "[(0.014858198237338693, 0.9567622806171208)]\n",
      "This is an individual spigot\n",
      "(0.014858198237338693, 0.9567622806171208)\n",
      "These are the characteristics of each spigot in a single bucket\n",
      "[(0.6425193305169828, 0.2994847625437188)]\n",
      "This is an individual spigot\n",
      "(0.6425193305169828, 0.2994847625437188)\n",
      "These are the characteristics of each spigot in a single bucket\n",
      "[(0.054941640622942156, 0.5561447122653481)]\n",
      "This is an individual spigot\n",
      "(0.054941640622942156, 0.5561447122653481)\n"
     ]
    }
   ],
   "source": [
    "for i in ncnn:\n",
    "    for j in i:\n",
    "        print(\"These are the characteristics of each spigot in a single bucket\")\n",
    "        print(j)\n",
    "        for k in j:\n",
    "            print(\"This is an individual spigot\")\n",
    "            print(k)"
   ]
  },
  {
   "cell_type": "code",
   "execution_count": 25,
   "id": "2b4d773c-7601-4c85-8a44-833ae5b69598",
   "metadata": {
    "tags": []
   },
   "outputs": [
    {
     "ename": "IndentationError",
     "evalue": "expected an indented block (929877296.py, line 15)",
     "output_type": "error",
     "traceback": [
      "\u001b[0;36m  Cell \u001b[0;32mIn[25], line 15\u001b[0;36m\u001b[0m\n\u001b[0;31m    flow_out += np.sqrt(2 * 9.81 * water_level[i]) * hole_area\u001b[0m\n\u001b[0m    ^\u001b[0m\n\u001b[0;31mIndentationError\u001b[0m\u001b[0;31m:\u001b[0m expected an indented block\n"
     ]
    }
   ],
   "source": [
    "def bucket_n(H, spigots):\n",
    "    \"\"\" solves a single bucket\n",
    "        Args: \n",
    "            H (float): the water level in bucket\n",
    "            spigots (list): the characteristics of the bucket outlets\n",
    "                                        spigots[0]: Height of spigots, \n",
    "                                        spigots[1]: size of spigots\n",
    "        Returns:\n",
    "            H (float): the new water level in bucket\n",
    "            v (list): The total ammount of water out of each spigot\n",
    "    \"\"\"\n",
    "    convervence = 100\n",
    "    for dt in [1,2,3,4,5,6]:\n",
    "        for sp_h, sp_a in spigots:\n",
    "    flow_out += np.sqrt(2 * 9.81 * water_level[i]) * hole_area\n",
    "    H = None\n",
    "    v = None\n",
    "    \n",
    "    return H, v"
   ]
  },
  {
   "cell_type": "code",
   "execution_count": null,
   "id": "af96aad5-814b-4355-85f8-663c4a202fce",
   "metadata": {},
   "outputs": [],
   "source": [
    "import numpy as np\n",
    "import matplotlib.pyplot as plt\n",
    "\n",
    "def bucket_flow_out(total_time, dt, initial_height, hole_areas, hole_coefficients):\n",
    "    num_steps = int(total_time / dt)\n",
    "    time = np.linspace(0, total_time, num_steps + 1)\n",
    "    water_level = np.zeros(num_steps + 1)\n",
    "    water_level[0] = initial_height\n",
    "\n",
    "    for i in range(num_steps):\n",
    "        flow_in = 0  # Assuming no flow into the bucket\n",
    "\n",
    "        # Calculate the flow rates out of each hole based on the water level\n",
    "        flow_out = 0\n",
    "        for hole_area, hole_coefficient in zip(hole_areas, hole_coefficients):\n",
    "            flow_out += hole_coefficient * np.sqrt(2 * 9.81 * water_level[i]) * hole_area\n",
    "\n",
    "        water_level[i + 1] = water_level[i] + dt * (flow_in - flow_out)\n",
    "\n",
    "    return time, water_level\n",
    "\n",
    "# Example usage\n",
    "total_time = 10  # Total simulation time (seconds)\n",
    "dt = 0.1  # Time step (seconds)\n",
    "initial_height = 5  # Initial water level in the bucket (meters)\n",
    "hole_areas = [0.01, 0.02, 0.03]  # Areas of the three holes (m^2)\n",
    "hole_coefficients = [0.6, 0.7, 0.8]  # Coefficients for each hole\n",
    "\n",
    "time, water_level = bucket_flow_out(total_time, dt, initial_height, hole_areas, hole_coefficients)\n",
    "\n",
    "# Plotting the results\n",
    "plt.plot(time, water_level)\n",
    "plt.xlabel('Time (seconds)')\n",
    "plt.ylabel('Water Level (meters)')\n",
    "plt.title('Water Level in the Bucket over Time')\n",
    "plt.grid(True)\n",
    "plt.show()"
   ]
  },
  {
   "cell_type": "code",
   "execution_count": null,
   "id": "92cb4cbf-61b3-4566-a9e0-37d15e846fc1",
   "metadata": {},
   "outputs": [],
   "source": []
  }
 ],
 "metadata": {
  "kernelspec": {
   "display_name": "Python [conda env:deepbucketlab]",
   "language": "python",
   "name": "conda-env-deepbucketlab-py"
  },
  "language_info": {
   "codemirror_mode": {
    "name": "ipython",
    "version": 3
   },
   "file_extension": ".py",
   "mimetype": "text/x-python",
   "name": "python",
   "nbconvert_exporter": "python",
   "pygments_lexer": "ipython3",
   "version": "3.9.16"
  }
 },
 "nbformat": 4,
 "nbformat_minor": 5
}

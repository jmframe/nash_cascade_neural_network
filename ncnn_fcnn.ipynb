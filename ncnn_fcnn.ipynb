{
 "cells": [
  {
   "cell_type": "code",
   "execution_count": 1,
   "id": "45cb35ce-803e-43be-b263-4a1a0f3bb6a3",
   "metadata": {
    "tags": []
   },
   "outputs": [],
   "source": [
    "# Nash Cascade Neural Network\n",
    "# A hydrologically intuitive deep learning network\n",
    "\n",
    "# Set up a solution to a network of buckets where the number of buckets in each layer\n",
    "# flows out to the buckets in the next layer\n",
    "# The parameter on each bucket is the size and height of each spigot.\n",
    "\n",
    "# Need a function that solves this individually at a single buckets\n",
    "# Then a function that loops through and moves the water to the downstream buckets"
   ]
  },
  {
   "cell_type": "code",
   "execution_count": 2,
   "id": "62bab940-cde5-4ff0-8897-75fdf2ebec52",
   "metadata": {
    "tags": []
   },
   "outputs": [],
   "source": [
    "import torch\n",
    "import numpy as np\n",
    "import copy\n",
    "import matplotlib.pyplot as plt\n",
    "from ncn_fcnn import NashCascadeNetwork as ncn\n",
    "from ncn_fcnn import train_model as train_ncnn\n",
    "import matplotlib.font_manager as font_manager\n",
    "# Precipitation standard variable name used in the ncnn model interface\n",
    "PRECIP_SVN = \"atmosphere_water__liquid_equivalent_precipitation_rate\"\n",
    "PRECIP_SVN_SEQ = \"atmosphere_water__liquid_equivalent_precipitation_rate_seq\"\n",
    "PRECIP_RECORD = \"atmosphere_water__liquid_equivalent_precipitation_rate_record\"\n",
    "DO_PLOT = True\n",
    "N_TIMESTEPS = 300"
   ]
  },
  {
   "cell_type": "code",
   "execution_count": 3,
   "id": "a46bcc71",
   "metadata": {},
   "outputs": [],
   "source": [
    "network_precip_input_list = []\n",
    "count = 0\n",
    "unit_precip = 6.0\n",
    "for i in range(N_TIMESTEPS):\n",
    "\n",
    "    ###########################################################################\n",
    "    if count == 0:\n",
    "        network_precip_input_list.append(unit_precip)\n",
    "    elif count > 45:\n",
    "        network_precip_input_list.append(unit_precip)\n",
    "    else:\n",
    "        network_precip_input_list.append(np.random.random()*unit_precip/10)\n",
    "    if count == 50:\n",
    "        count = 0\n",
    "    count+=1\n",
    "    ###########################################################################\n",
    "network_precip_tensor = torch.tensor(network_precip_input_list, requires_grad=False)\n",
    "total_mass_precip_in = torch.sum(network_precip_tensor)"
   ]
  },
  {
   "cell_type": "code",
   "execution_count": 4,
   "id": "92cb4cbf-61b3-4566-a9e0-37d15e846fc1",
   "metadata": {},
   "outputs": [
    {
     "name": "stdout",
     "output_type": "stream",
     "text": [
      "--------------\n",
      "-----------\n",
      "-------------\n",
      "\n",
      "INITIAL THETA VALUES\n",
      "tensor([0.5349, 0.5402, 0.5022, 0.5169, 0.5294], requires_grad=True)\n",
      "--------------\n",
      "-----------\n",
      "-------------\n",
      "\n",
      "Initial Mass in network at start: 20.0\n",
      "Initial Mass in network: 20.0\n",
      "Final Mass in network: 34.7\n",
      "Total Mass out of network 243.4\n",
      "Total precipitation into network 258.1\n",
      "Mass balance for network is -0.000\n"
     ]
    },
    {
     "data": {
      "text/plain": [
       "tensor([0.5349, 0.5402, 0.5022, 0.5169, 0.5294])"
      ]
     },
     "execution_count": 4,
     "metadata": {},
     "output_type": "execute_result"
    }
   ],
   "source": [
    "# Example 0\n",
    "bucket_net = ncn(cfg_file=\"./config_0.json\")\n",
    "bucket_net.initialize()\n",
    "bucket_net.unit_precip = unit_precip\n",
    "bucket_net.summarize_network()\n",
    "inital_mass_in_network = torch.sum(torch.tensor([tensor.item() for tensor in bucket_net.sum_H_per_layer]))\n",
    "print(f\"Initial Mass in network at start: {inital_mass_in_network:.1f}\")\n",
    "network_outflow_list_0 = []\n",
    "for i in range(N_TIMESTEPS):\n",
    "\n",
    "    ###########################################################################\n",
    "    ###########################################################################\n",
    "    bucket_net.set_value(PRECIP_SVN, torch.tensor(network_precip_input_list[i], requires_grad=False))\n",
    "    bucket_net.update()\n",
    "    network_outflow_list_0.append(bucket_net.network_outflow.item())\n",
    "    bucket_net.summarize_network()\n",
    "    ###########################################################################\n",
    "    ###########################################################################\n",
    "\n",
    "network_outflow_tensor_0 = torch.tensor(network_outflow_list_0, requires_grad=True)\n",
    "bucket_net.report_out_mass_balance()\n",
    "bucket_net.theta.detach()\n"
   ]
  },
  {
   "cell_type": "code",
   "execution_count": 5,
   "id": "694044a4",
   "metadata": {},
   "outputs": [],
   "source": [
    "#print(thislinewillstopthenotebookfromgoinganyfurther)"
   ]
  },
  {
   "cell_type": "code",
   "execution_count": 6,
   "id": "744fc71f",
   "metadata": {},
   "outputs": [
    {
     "name": "stdout",
     "output_type": "stream",
     "text": [
      "--------------\n",
      "-----------\n",
      "-------------\n",
      "\n",
      "INITIAL THETA VALUES\n",
      "tensor([0.9957, 0.9947, 0.9961, 0.9927, 0.9942], requires_grad=True)\n",
      "--------------\n",
      "-----------\n",
      "-------------\n",
      "\n",
      "Initialized\n",
      "Initial Mass in network at start: 20.0\n",
      "Initial Mass in network: 20.0\n",
      "Final Mass in network: 42.5\n",
      "Total Mass out of network 235.6\n",
      "Total precipitation into network 258.1\n",
      "Mass balance for network is -0.000\n"
     ]
    }
   ],
   "source": [
    "# Example 1\n",
    "bucket_nn = ncn(cfg_file=\"./config_1_fcnn.json\")\n",
    "bucket_nn.initialize()\n",
    "bucket_nn.unit_precip = unit_precip\n",
    "print(\"Initialized\")\n",
    "inital_mass_in_network = torch.sum(torch.stack(bucket_nn.sum_H_per_layer)).item()\n",
    "print(f\"Initial Mass in network at start: {inital_mass_in_network:.1f}\")\n",
    "network_outflow_list_1a = []\n",
    "\n",
    "for i in range(N_TIMESTEPS):\n",
    "    # Set the current precipitation value\n",
    "    bucket_nn.set_value(PRECIP_SVN, torch.tensor(network_precip_input_list[i], requires_grad=True))\n",
    "\n",
    "    # Update the network (this should internally prepare and use the FCNN inputs)\n",
    "    bucket_nn.update()\n",
    "    network_outflow_list_1a.append(bucket_nn.network_outflow.item())\n",
    "    bucket_nn.summarize_network()\n",
    "    ###########################################################################\n",
    "    ###########################################################################\n",
    "\n",
    "###########################################################################\n",
    "bucket_nn.report_out_mass_balance()\n",
    "\n",
    "origional_bucket_theta = copy.deepcopy(bucket_nn.theta.detach())\n"
   ]
  },
  {
   "cell_type": "code",
   "execution_count": 7,
   "id": "9ecf6571",
   "metadata": {},
   "outputs": [
    {
     "data": {
      "image/png": "[encoded data removed]",
      "text/plain": [
       "<Figure size 500x333.333 with 1 Axes>"
      ]
     },
     "metadata": {},
     "output_type": "display_data"
    }
   ],
   "source": [
    "startplt = 230\n",
    "endplt = 280\n",
    "bigfontsize = 12\n",
    "smallfontsize = 10\n",
    "# Set figure size to 7 inches wide\n",
    "figure_width = 5  # inches\n",
    "aspect_ratio = 3 / 2  # Adjust as needed for your plot\n",
    "figure_height = figure_width / aspect_ratio\n",
    "\n",
    "plt.figure(figsize=(figure_width, figure_height))\n",
    "\n",
    "# Set color\n",
    "light_blue_color = \"#3D68CA\"\n",
    "line_and_text_color = \"#0D3F6E\"\n",
    "\n",
    "# Plot each series with specified color\n",
    "plt.plot(network_precip_input_list[startplt:endplt], c=light_blue_color, lw=3, label=\"Precipitation input\")\n",
    "plt.plot(network_outflow_list_0[startplt:endplt], c=\"k\", lw=3, label=\"Target hydrograph \")\n",
    "plt.plot(network_outflow_list_1a[startplt:endplt], \"--\", lw=2, c=line_and_text_color, label=\"Pre-trained network\")\n",
    "\n",
    "network_precip_tensor = torch.tensor(network_precip_input_list)\n",
    "max_value = torch.max(network_precip_tensor[startplt:endplt]).item()\n",
    "\n",
    "plt.yticks([])\n",
    "plt.xticks([])\n",
    "plt.ylabel(\"Unit hydrograph\", fontsize=bigfontsize, color=line_and_text_color)\n",
    "plt.xlabel(\"Time\", fontsize=bigfontsize, color=line_and_text_color)\n",
    "\n",
    "# Modify legend to have a transparent background\n",
    "plt.legend(fontsize=smallfontsize, edgecolor=line_and_text_color, framealpha=0.5)  # Adjust framealpha as needed\n",
    "\n",
    "#    plt.title(\"Flow out from network and precip\", fontsize=bigfontsize, color=line_and_text_color)\n",
    "\n",
    "# Save the figure with transparent background and at 300 DPI\n",
    "plt.show()\n",
    "#plt.savefig(\"ncn_plot.png\", transparent=True, dpi=300)\n",
    "\n",
    "plt.close()"
   ]
  },
  {
   "cell_type": "code",
   "execution_count": 8,
   "id": "a8bce2db",
   "metadata": {},
   "outputs": [],
   "source": [
    "# print(thislinewillstopthenotebookfromrunningthecellsbelow)"
   ]
  },
  {
   "cell_type": "code",
   "execution_count": 9,
   "id": "217de549",
   "metadata": {},
   "outputs": [
    {
     "name": "stdout",
     "output_type": "stream",
     "text": [
      "INITIAL MODEL theta: tensor([0.5095, 0.4063, 0.3727, 0.4813, 0.5210], grad_fn=<SigmoidBackward0>)\n"
     ]
    },
    {
     "name": "stderr",
     "output_type": "stream",
     "text": [
      "/home/jonat/anaconda3/envs/nhgpu/lib/python3.10/site-packages/torch/optim/lr_scheduler.py:28: UserWarning: The verbose parameter is deprecated. Please use get_last_lr() to access the learning rate.\n",
      "  warnings.warn(\"The verbose parameter is deprecated. Please use get_last_lr() \"\n"
     ]
    },
    {
     "name": "stdout",
     "output_type": "stream",
     "text": [
      "0.0756:loss  ----- Training EPOCH 0 --- theta: tensor([0.5095, 0.4063, 0.3727, 0.4813, 0.5210], grad_fn=<SigmoidBackward0>)\n",
      "Num non-zero gadients: 1, incices: 4, gradients: -0.002810562727972865\n",
      "0.0523:loss  ----- Training EPOCH 1 --- theta: tensor([0.5088, 0.6354, 0.6016, 0.3578, 0.5494], grad_fn=<SigmoidBackward0>)\n",
      "Num non-zero gadients: 1, incices: 4, gradients: 0.0056295860558748245\n",
      "0.4081:loss  ----- Training EPOCH 2 --- theta: tensor([0.4046, 0.4824, 0.5597, 0.1613, 0.1107], grad_fn=<SigmoidBackward0>)\n",
      "Num non-zero gadients: 1, incices: 4, gradients: 0.032095666974782944\n",
      "0.3322:loss  ----- Training EPOCH 3 --- theta: tensor([0.2477, 0.2676, 0.4198, 0.2889, 0.0852], grad_fn=<SigmoidBackward0>)\n",
      "Num non-zero gadients: 1, incices: 4, gradients: 0.02257627248764038\n",
      "0.2050:loss  ----- Training EPOCH 4 --- theta: tensor([0.1272, 0.3325, 0.3552, 0.5095, 0.1395], grad_fn=<SigmoidBackward0>)\n",
      "Num non-zero gadients: 1, incices: 4, gradients: -0.0005231870454736054\n",
      "0.0281:loss  ----- Training EPOCH 5 --- theta: tensor([0.1724, 0.4903, 0.5280, 0.7637, 0.3643], grad_fn=<SigmoidBackward0>)\n",
      "Num non-zero gadients: 1, incices: 4, gradients: -0.003976002801209688\n",
      "0.0235:loss  ----- Training EPOCH 6 --- theta: tensor([0.1557, 0.5891, 0.6291, 0.8585, 0.5880], grad_fn=<SigmoidBackward0>)\n",
      "Num non-zero gadients: 1, incices: 4, gradients: -0.0013066998217254877\n",
      "0.0294:loss  ----- Training EPOCH 7 --- theta: tensor([0.1298, 0.6400, 0.6336, 0.9010, 0.7484], grad_fn=<SigmoidBackward0>)\n",
      "Num non-zero gadients: 1, incices: 4, gradients: 0.0016482359496876597\n",
      "0.0268:loss  ----- Training EPOCH 8 --- theta: tensor([0.1174, 0.6628, 0.5829, 0.9224, 0.8469], grad_fn=<SigmoidBackward0>)\n",
      "Num non-zero gadients: 1, incices: 4, gradients: 0.0007863423670642078\n",
      "0.0101:loss  ----- Training EPOCH 9 --- theta: tensor([0.1230, 0.6807, 0.4812, 0.9339, 0.9010], grad_fn=<SigmoidBackward0>)\n",
      "Num non-zero gadients: 1, incices: 4, gradients: 0.0008824248216114938\n",
      "0.0171:loss  ----- Training EPOCH 10 --- theta: tensor([0.1236, 0.6905, 0.3554, 0.9417, 0.9322], grad_fn=<SigmoidBackward0>)\n",
      "Num non-zero gadients: 1, incices: 4, gradients: 0.0033691476564854383\n",
      "0.0091:loss  ----- Training EPOCH 11 --- theta: tensor([0.0980, 0.6782, 0.3706, 0.9479, 0.9515], grad_fn=<SigmoidBackward0>)\n",
      "Num non-zero gadients: 1, incices: 4, gradients: 0.003493676194921136\n",
      "0.0036:loss  ----- Training EPOCH 12 --- theta: tensor([0.0648, 0.6567, 0.4368, 0.9531, 0.9639], grad_fn=<SigmoidBackward0>)\n",
      "Num non-zero gadients: 1, incices: 4, gradients: 0.002845587208867073\n",
      "0.0099:loss  ----- Training EPOCH 13 --- theta: tensor([0.0449, 0.6339, 0.4719, 0.9573, 0.9720], grad_fn=<SigmoidBackward0>)\n",
      "Num non-zero gadients: 1, incices: 4, gradients: 0.002206885488703847\n",
      "0.0061:loss  ----- Training EPOCH 14 --- theta: tensor([0.0361, 0.5995, 0.4578, 0.9605, 0.9775], grad_fn=<SigmoidBackward0>)\n",
      "Num non-zero gadients: 1, incices: 4, gradients: 0.0029148817993700504\n",
      "0.0013:loss  ----- Training EPOCH 15 --- theta: tensor([0.0311, 0.5534, 0.4156, 0.9629, 0.9814], grad_fn=<SigmoidBackward0>)\n",
      "Num non-zero gadients: 1, incices: 4, gradients: 0.004367589484900236\n",
      "0.0062:loss  ----- Training EPOCH 16 --- theta: tensor([0.0270, 0.5137, 0.3801, 0.9649, 0.9842], grad_fn=<SigmoidBackward0>)\n",
      "Num non-zero gadients: 1, incices: 4, gradients: 0.006006904412060976\n",
      "0.0062:loss  ----- Training EPOCH 17 --- theta: tensor([0.0234, 0.5029, 0.3832, 0.9667, 0.9864], grad_fn=<SigmoidBackward0>)\n",
      "Num non-zero gadients: 1, incices: 4, gradients: 0.0063630882650613785\n",
      "0.0015:loss  ----- Training EPOCH 18 --- theta: tensor([0.0206, 0.5180, 0.4153, 0.9683, 0.9880], grad_fn=<SigmoidBackward0>)\n",
      "Num non-zero gadients: 1, incices: 4, gradients: 0.0051088337786495686\n",
      "0.0026:loss  ----- Training EPOCH 19 --- theta: tensor([0.0182, 0.5371, 0.4498, 0.9696, 0.9892], grad_fn=<SigmoidBackward0>)\n",
      "Num non-zero gadients: 1, incices: 4, gradients: 0.00365655031055212\n",
      "0.0049:loss  ----- Training EPOCH 20 --- theta: tensor([0.0163, 0.5417, 0.4679, 0.9707, 0.9902], grad_fn=<SigmoidBackward0>)\n",
      "Num non-zero gadients: 1, incices: 4, gradients: 0.002945557003840804\n",
      "0.0036:loss  ----- Training EPOCH 21 --- theta: tensor([0.0150, 0.5258, 0.4656, 0.9716, 0.9910], grad_fn=<SigmoidBackward0>)\n",
      "Num non-zero gadients: 1, incices: 4, gradients: 0.0032372623682022095\n",
      "0.0014:loss  ----- Training EPOCH 22 --- theta: tensor([0.0138, 0.4955, 0.4504, 0.9722, 0.9917], grad_fn=<SigmoidBackward0>)\n",
      "Num non-zero gadients: 1, incices: 4, gradients: 0.00473196292296052\n",
      "0.0022:loss  ----- Training EPOCH 23 --- theta: tensor([0.0129, 0.4656, 0.4340, 0.9728, 0.9922], grad_fn=<SigmoidBackward0>)\n",
      "Num non-zero gadients: 1, incices: 4, gradients: 0.00667541055008769\n",
      "0.0037:loss  ----- Training EPOCH 24 --- theta: tensor([0.0121, 0.4540, 0.4266, 0.9733, 0.9926], grad_fn=<SigmoidBackward0>)\n",
      "Num non-zero gadients: 1, incices: 4, gradients: 0.00742643466219306\n",
      "0.0024:loss  ----- Training EPOCH 25 --- theta: tensor([0.0115, 0.4657, 0.4311, 0.9738, 0.9930], grad_fn=<SigmoidBackward0>)\n",
      "Num non-zero gadients: 1, incices: 4, gradients: 0.006748192943632603\n",
      "0.0012:loss  ----- Training EPOCH 26 --- theta: tensor([0.0111, 0.4897, 0.4422, 0.9742, 0.9933], grad_fn=<SigmoidBackward0>)\n",
      "Num non-zero gadients: 1, incices: 4, gradients: 0.005279684439301491\n",
      "0.0018:loss  ----- Training EPOCH 27 --- theta: tensor([0.0107, 0.5120, 0.4520, 0.9746, 0.9935], grad_fn=<SigmoidBackward0>)\n",
      "Num non-zero gadients: 1, incices: 4, gradients: 0.004148861858993769\n",
      "0.0025:loss  ----- Training EPOCH 28 --- theta: tensor([0.0103, 0.5245, 0.4546, 0.9749, 0.9937], grad_fn=<SigmoidBackward0>)\n",
      "Num non-zero gadients: 1, incices: 4, gradients: 0.0038087540306150913\n",
      "0.0021:loss  ----- Training EPOCH 29 --- theta: tensor([0.0100, 0.5259, 0.4485, 0.9751, 0.9939], grad_fn=<SigmoidBackward0>)\n",
      "Num non-zero gadients: 1, incices: 4, gradients: 0.004036993253976107\n",
      "0.0013:loss  ----- Training EPOCH 30 --- theta: tensor([0.0097, 0.5196, 0.4362, 0.9753, 0.9941], grad_fn=<SigmoidBackward0>)\n",
      "Num non-zero gadients: 1, incices: 4, gradients: 0.004586953204125166\n",
      "0.0012:loss  ----- Training EPOCH 31 --- theta: tensor([0.0095, 0.5114, 0.4225, 0.9755, 0.9942], grad_fn=<SigmoidBackward0>)\n",
      "Num non-zero gadients: 1, incices: 4, gradients: 0.005208324640989304\n",
      "0.0017:loss  ----- Training EPOCH 32 --- theta: tensor([0.0092, 0.5067, 0.4124, 0.9756, 0.9943], grad_fn=<SigmoidBackward0>)\n",
      "Num non-zero gadients: 1, incices: 4, gradients: 0.005624236073344946\n",
      "0.0018:loss  ----- Training EPOCH 33 --- theta: tensor([0.0090, 0.5085, 0.4091, 0.9758, 0.9944], grad_fn=<SigmoidBackward0>)\n",
      "Num non-zero gadients: 1, incices: 4, gradients: 0.0056714629754424095\n",
      "0.0014:loss  ----- Training EPOCH 34 --- theta: tensor([0.0088, 0.5162, 0.4123, 0.9759, 0.9945], grad_fn=<SigmoidBackward0>)\n",
      "Num non-zero gadients: 1, incices: 4, gradients: 0.005426700692623854\n",
      "0.0010:loss  ----- Training EPOCH 35 --- theta: tensor([0.0087, 0.5271, 0.4190, 0.9760, 0.9946], grad_fn=<SigmoidBackward0>)\n",
      "Num non-zero gadients: 1, incices: 4, gradients: 0.005115865729749203\n",
      "0.0011:loss  ----- Training EPOCH 36 --- theta: tensor([0.0085, 0.5373, 0.4254, 0.9761, 0.9946], grad_fn=<SigmoidBackward0>)\n",
      "Num non-zero gadients: 1, incices: 4, gradients: 0.0049132974818348885\n",
      "0.0014:loss  ----- Training EPOCH 37 --- theta: tensor([0.0083, 0.5444, 0.4287, 0.9762, 0.9947], grad_fn=<SigmoidBackward0>)\n",
      "Num non-zero gadients: 1, incices: 4, gradients: 0.004870433360338211\n",
      "0.0014:loss  ----- Training EPOCH 38 --- theta: tensor([0.0082, 0.5472, 0.4277, 0.9763, 0.9947], grad_fn=<SigmoidBackward0>)\n",
      "Num non-zero gadients: 1, incices: 4, gradients: 0.004962729290127754\n",
      "0.0012:loss  ----- Training EPOCH 39 --- theta: tensor([0.0081, 0.5462, 0.4229, 0.9763, 0.9948], grad_fn=<SigmoidBackward0>)\n",
      "Num non-zero gadients: 1, incices: 4, gradients: 0.005135511979460716\n",
      "0.0010:loss  ----- Training EPOCH 40 --- theta: tensor([0.0080, 0.5431, 0.4161, 0.9763, 0.9948], grad_fn=<SigmoidBackward0>)\n",
      "Num non-zero gadients: 1, incices: 4, gradients: 0.005334998015314341\n",
      "0.0010:loss  ----- Training EPOCH 41 --- theta: tensor([0.0080, 0.5399, 0.4095, 0.9764, 0.9948], grad_fn=<SigmoidBackward0>)\n",
      "Num non-zero gadients: 1, incices: 4, gradients: 0.0055170124396681786\n",
      "0.0012:loss  ----- Training EPOCH 42 --- theta: tensor([0.0079, 0.5382, 0.4052, 0.9764, 0.9948], grad_fn=<SigmoidBackward0>)\n",
      "Num non-zero gadients: 1, incices: 4, gradients: 0.005653395317494869\n",
      "0.0012:loss  ----- Training EPOCH 43 --- theta: tensor([0.0078, 0.5387, 0.4039, 0.9764, 0.9949], grad_fn=<SigmoidBackward0>)\n",
      "Num non-zero gadients: 1, incices: 4, gradients: 0.005738614127039909\n",
      "0.0011:loss  ----- Training EPOCH 44 --- theta: tensor([0.0077, 0.5412, 0.4055, 0.9764, 0.9949], grad_fn=<SigmoidBackward0>)\n",
      "Num non-zero gadients: 1, incices: 4, gradients: 0.005793479736894369\n",
      "0.0010:loss  ----- Training EPOCH 45 --- theta: tensor([0.0077, 0.5449, 0.4087, 0.9765, 0.9949], grad_fn=<SigmoidBackward0>)\n",
      "Num non-zero gadients: 1, incices: 4, gradients: 0.005844996776431799\n",
      "0.0010:loss  ----- Training EPOCH 46 --- theta: tensor([0.0076, 0.5483, 0.4122, 0.9765, 0.9949], grad_fn=<SigmoidBackward0>)\n",
      "Num non-zero gadients: 1, incices: 4, gradients: 0.0058950684033334255\n",
      "0.0011:loss  ----- Training EPOCH 47 --- theta: tensor([0.0076, 0.5504, 0.4147, 0.9765, 0.9949], grad_fn=<SigmoidBackward0>)\n",
      "Num non-zero gadients: 1, incices: 4, gradients: 0.005911572836339474\n",
      "0.0011:loss  ----- Training EPOCH 48 --- theta: tensor([0.0075, 0.5505, 0.4157, 0.9765, 0.9950], grad_fn=<SigmoidBackward0>)\n",
      "Num non-zero gadients: 1, incices: 4, gradients: 0.00586948124691844\n",
      "0.0010:loss  ----- Training EPOCH 49 --- theta: tensor([0.0075, 0.5488, 0.4152, 0.9765, 0.9950], grad_fn=<SigmoidBackward0>)\n",
      "Num non-zero gadients: 1, incices: 4, gradients: 0.005787073168903589\n",
      "0.0010:loss  ----- Training EPOCH 50 --- theta: tensor([0.0075, 0.5460, 0.4137, 0.9765, 0.9950], grad_fn=<SigmoidBackward0>)\n",
      "Num non-zero gadients: 1, incices: 4, gradients: 0.005701182875782251\n",
      "0.0010:loss  ----- Training EPOCH 51 --- theta: tensor([0.0075, 0.5430, 0.4119, 0.9764, 0.9950], grad_fn=<SigmoidBackward0>)\n",
      "Num non-zero gadients: 1, incices: 4, gradients: 0.005636781919747591\n",
      "0.0010:loss  ----- Training EPOCH 52 --- theta: tensor([0.0075, 0.5403, 0.4105, 0.9764, 0.9950], grad_fn=<SigmoidBackward0>)\n",
      "Num non-zero gadients: 1, incices: 4, gradients: 0.0055932155810296535\n",
      "0.0010:loss  ----- Training EPOCH 53 --- theta: tensor([0.0075, 0.5385, 0.4100, 0.9764, 0.9950], grad_fn=<SigmoidBackward0>)\n",
      "Num non-zero gadients: 1, incices: 4, gradients: 0.005558575037866831\n",
      "0.0010:loss  ----- Training EPOCH 54 --- theta: tensor([0.0074, 0.5377, 0.4104, 0.9764, 0.9950], grad_fn=<SigmoidBackward0>)\n",
      "Num non-zero gadients: 1, incices: 4, gradients: 0.005522273946553469\n",
      "0.0010:loss  ----- Training EPOCH 55 --- theta: tensor([0.0074, 0.5377, 0.4116, 0.9763, 0.9950], grad_fn=<SigmoidBackward0>)\n",
      "Num non-zero gadients: 1, incices: 4, gradients: 0.00548003101721406\n",
      "0.0010:loss  ----- Training EPOCH 56 --- theta: tensor([0.0074, 0.5382, 0.4132, 0.9763, 0.9950], grad_fn=<SigmoidBackward0>)\n",
      "Num non-zero gadients: 1, incices: 4, gradients: 0.005434898659586906\n",
      "0.0010:loss  ----- Training EPOCH 57 --- theta: tensor([0.0074, 0.5390, 0.4150, 0.9763, 0.9950], grad_fn=<SigmoidBackward0>)\n",
      "Num non-zero gadients: 1, incices: 4, gradients: 0.005392097868025303\n",
      "0.0010:loss  ----- Training EPOCH 58 --- theta: tensor([0.0074, 0.5396, 0.4166, 0.9763, 0.9950], grad_fn=<SigmoidBackward0>)\n",
      "Num non-zero gadients: 1, incices: 4, gradients: 0.0053582270629704\n",
      "0.0010:loss  ----- Training EPOCH 59 --- theta: tensor([0.0074, 0.5400, 0.4177, 0.9763, 0.9950], grad_fn=<SigmoidBackward0>)\n",
      "Num non-zero gadients: 1, incices: 4, gradients: 0.005337918177247047\n",
      "0.0010:loss  ----- Training EPOCH 60 --- theta: tensor([0.0073, 0.5400, 0.4183, 0.9763, 0.9950], grad_fn=<SigmoidBackward0>)\n",
      "Num non-zero gadients: 1, incices: 4, gradients: 0.005331756547093391\n",
      "0.0010:loss  ----- Training EPOCH 61 --- theta: tensor([0.0073, 0.5395, 0.4183, 0.9763, 0.9950], grad_fn=<SigmoidBackward0>)\n",
      "Num non-zero gadients: 1, incices: 4, gradients: 0.005339203868061304\n",
      "0.0010:loss  ----- Training EPOCH 62 --- theta: tensor([0.0073, 0.5387, 0.4178, 0.9763, 0.9950], grad_fn=<SigmoidBackward0>)\n",
      "Num non-zero gadients: 1, incices: 4, gradients: 0.005358497612178326\n",
      "0.0010:loss  ----- Training EPOCH 63 --- theta: tensor([0.0073, 0.5376, 0.4171, 0.9763, 0.9950], grad_fn=<SigmoidBackward0>)\n",
      "Num non-zero gadients: 1, incices: 4, gradients: 0.005385569762438536\n",
      "0.0010:loss  ----- Training EPOCH 64 --- theta: tensor([0.0073, 0.5366, 0.4162, 0.9762, 0.9950], grad_fn=<SigmoidBackward0>)\n",
      "Num non-zero gadients: 1, incices: 4, gradients: 0.005416397005319595\n",
      "0.0010:loss  ----- Training EPOCH 65 --- theta: tensor([0.0073, 0.5356, 0.4155, 0.9762, 0.9950], grad_fn=<SigmoidBackward0>)\n",
      "Num non-zero gadients: 1, incices: 4, gradients: 0.005448088515549898\n",
      "0.0010:loss  ----- Training EPOCH 66 --- theta: tensor([0.0073, 0.5348, 0.4149, 0.9762, 0.9950], grad_fn=<SigmoidBackward0>)\n",
      "Num non-zero gadients: 1, incices: 4, gradients: 0.005478583741933107\n",
      "0.0010:loss  ----- Training EPOCH 67 --- theta: tensor([0.0072, 0.5343, 0.4145, 0.9762, 0.9950], grad_fn=<SigmoidBackward0>)\n",
      "Num non-zero gadients: 1, incices: 4, gradients: 0.00550507940351963\n",
      "0.0010:loss  ----- Training EPOCH 68 --- theta: tensor([0.0072, 0.5340, 0.4144, 0.9762, 0.9950], grad_fn=<SigmoidBackward0>)\n",
      "Num non-zero gadients: 1, incices: 4, gradients: 0.005528965033590794\n",
      "0.0010:loss  ----- Training EPOCH 69 --- theta: tensor([0.0072, 0.5340, 0.4145, 0.9762, 0.9950], grad_fn=<SigmoidBackward0>)\n",
      "Num non-zero gadients: 1, incices: 4, gradients: 0.005550009664148092\n",
      "0.0010:loss  ----- Training EPOCH 70 --- theta: tensor([0.0072, 0.5341, 0.4148, 0.9762, 0.9950], grad_fn=<SigmoidBackward0>)\n",
      "Num non-zero gadients: 1, incices: 4, gradients: 0.005568779073655605\n",
      "0.0010:loss  ----- Training EPOCH 71 --- theta: tensor([0.0072, 0.5343, 0.4152, 0.9762, 0.9950], grad_fn=<SigmoidBackward0>)\n",
      "Num non-zero gadients: 1, incices: 4, gradients: 0.0055872248485684395\n",
      "0.0010:loss  ----- Training EPOCH 72 --- theta: tensor([0.0072, 0.5345, 0.4157, 0.9762, 0.9950], grad_fn=<SigmoidBackward0>)\n",
      "Num non-zero gadients: 1, incices: 4, gradients: 0.005604827310889959\n",
      "0.0010:loss  ----- Training EPOCH 73 --- theta: tensor([0.0072, 0.5347, 0.4161, 0.9762, 0.9950], grad_fn=<SigmoidBackward0>)\n",
      "Num non-zero gadients: 1, incices: 4, gradients: 0.005622435826808214\n",
      "0.0010:loss  ----- Training EPOCH 74 --- theta: tensor([0.0072, 0.5347, 0.4164, 0.9762, 0.9950], grad_fn=<SigmoidBackward0>)\n",
      "Num non-zero gadients: 1, incices: 4, gradients: 0.005639459937810898\n",
      "0.0010:loss  ----- Training EPOCH 75 --- theta: tensor([0.0071, 0.5346, 0.4166, 0.9762, 0.9950], grad_fn=<SigmoidBackward0>)\n",
      "Num non-zero gadients: 1, incices: 4, gradients: 0.005655352491885424\n",
      "0.0010:loss  ----- Training EPOCH 76 --- theta: tensor([0.0071, 0.5344, 0.4167, 0.9762, 0.9950], grad_fn=<SigmoidBackward0>)\n",
      "Num non-zero gadients: 1, incices: 4, gradients: 0.005670084152370691\n",
      "0.0010:loss  ----- Training EPOCH 77 --- theta: tensor([0.0071, 0.5340, 0.4167, 0.9762, 0.9950], grad_fn=<SigmoidBackward0>)\n",
      "Num non-zero gadients: 1, incices: 4, gradients: 0.005682268179953098\n",
      "0.0009:loss  ----- Training EPOCH 78 --- theta: tensor([0.0071, 0.5336, 0.4166, 0.9762, 0.9950], grad_fn=<SigmoidBackward0>)\n",
      "Num non-zero gadients: 1, incices: 4, gradients: 0.005692725535482168\n",
      "0.0009:loss  ----- Training EPOCH 79 --- theta: tensor([0.0071, 0.5330, 0.4165, 0.9762, 0.9950], grad_fn=<SigmoidBackward0>)\n",
      "Num non-zero gadients: 1, incices: 4, gradients: 0.005701757501810789\n",
      "0.0009:loss  ----- Training EPOCH 80 --- theta: tensor([0.0071, 0.5324, 0.4163, 0.9761, 0.9950], grad_fn=<SigmoidBackward0>)\n",
      "Num non-zero gadients: 1, incices: 4, gradients: 0.005708265583962202\n",
      "0.0009:loss  ----- Training EPOCH 81 --- theta: tensor([0.0071, 0.5318, 0.4162, 0.9761, 0.9950], grad_fn=<SigmoidBackward0>)\n",
      "Num non-zero gadients: 1, incices: 4, gradients: 0.005713892634958029\n",
      "0.0009:loss  ----- Training EPOCH 82 --- theta: tensor([0.0071, 0.5313, 0.4161, 0.9761, 0.9950], grad_fn=<SigmoidBackward0>)\n",
      "Num non-zero gadients: 1, incices: 4, gradients: 0.005717282649129629\n",
      "0.0009:loss  ----- Training EPOCH 83 --- theta: tensor([0.0071, 0.5307, 0.4161, 0.9761, 0.9950], grad_fn=<SigmoidBackward0>)\n",
      "Num non-zero gadients: 1, incices: 4, gradients: 0.005720365792512894\n",
      "0.0009:loss  ----- Training EPOCH 84 --- theta: tensor([0.0071, 0.5303, 0.4161, 0.9761, 0.9950], grad_fn=<SigmoidBackward0>)\n",
      "Num non-zero gadients: 1, incices: 4, gradients: 0.005722341127693653\n",
      "0.0009:loss  ----- Training EPOCH 85 --- theta: tensor([0.0071, 0.5299, 0.4162, 0.9761, 0.9950], grad_fn=<SigmoidBackward0>)\n",
      "Num non-zero gadients: 1, incices: 4, gradients: 0.005723451264202595\n",
      "0.0009:loss  ----- Training EPOCH 86 --- theta: tensor([0.0071, 0.5295, 0.4163, 0.9761, 0.9950], grad_fn=<SigmoidBackward0>)\n",
      "Num non-zero gadients: 1, incices: 4, gradients: 0.005723982583731413\n",
      "0.0009:loss  ----- Training EPOCH 87 --- theta: tensor([0.0071, 0.5292, 0.4165, 0.9761, 0.9950], grad_fn=<SigmoidBackward0>)\n",
      "Num non-zero gadients: 1, incices: 4, gradients: 0.005723675712943077\n",
      "0.0009:loss  ----- Training EPOCH 88 --- theta: tensor([0.0071, 0.5290, 0.4167, 0.9761, 0.9950], grad_fn=<SigmoidBackward0>)\n",
      "Num non-zero gadients: 1, incices: 4, gradients: 0.005723376292735338\n",
      "0.0009:loss  ----- Training EPOCH 89 --- theta: tensor([0.0071, 0.5288, 0.4169, 0.9761, 0.9950], grad_fn=<SigmoidBackward0>)\n",
      "Num non-zero gadients: 1, incices: 4, gradients: 0.005721955094486475\n",
      "0.0009:loss  ----- Training EPOCH 90 --- theta: tensor([0.0071, 0.5286, 0.4171, 0.9761, 0.9950], grad_fn=<SigmoidBackward0>)\n",
      "Num non-zero gadients: 1, incices: 4, gradients: 0.005721070803701878\n",
      "0.0009:loss  ----- Training EPOCH 91 --- theta: tensor([0.0071, 0.5284, 0.4173, 0.9761, 0.9950], grad_fn=<SigmoidBackward0>)\n",
      "Num non-zero gadients: 1, incices: 4, gradients: 0.0057196537964046\n",
      "0.0009:loss  ----- Training EPOCH 92 --- theta: tensor([0.0071, 0.5282, 0.4176, 0.9761, 0.9950], grad_fn=<SigmoidBackward0>)\n",
      "Num non-zero gadients: 1, incices: 4, gradients: 0.005718501750379801\n",
      "0.0009:loss  ----- Training EPOCH 93 --- theta: tensor([0.0071, 0.5280, 0.4178, 0.9761, 0.9950], grad_fn=<SigmoidBackward0>)\n",
      "Num non-zero gadients: 1, incices: 4, gradients: 0.00571707496419549\n",
      "0.0009:loss  ----- Training EPOCH 94 --- theta: tensor([0.0071, 0.5278, 0.4180, 0.9761, 0.9950], grad_fn=<SigmoidBackward0>)\n",
      "Num non-zero gadients: 1, incices: 4, gradients: 0.005715932697057724\n",
      "0.0009:loss  ----- Training EPOCH 95 --- theta: tensor([0.0071, 0.5276, 0.4181, 0.9761, 0.9950], grad_fn=<SigmoidBackward0>)\n",
      "Num non-zero gadients: 1, incices: 4, gradients: 0.005714780185371637\n",
      "0.0009:loss  ----- Training EPOCH 96 --- theta: tensor([0.0071, 0.5274, 0.4183, 0.9761, 0.9950], grad_fn=<SigmoidBackward0>)\n",
      "Num non-zero gadients: 1, incices: 4, gradients: 0.00571364164352417\n",
      "0.0009:loss  ----- Training EPOCH 97 --- theta: tensor([0.0071, 0.5272, 0.4184, 0.9760, 0.9950], grad_fn=<SigmoidBackward0>)\n",
      "Num non-zero gadients: 1, incices: 4, gradients: 0.005713074468076229\n",
      "0.0009:loss  ----- Training EPOCH 98 --- theta: tensor([0.0071, 0.5269, 0.4185, 0.9760, 0.9950], grad_fn=<SigmoidBackward0>)\n",
      "Num non-zero gadients: 1, incices: 4, gradients: 0.00571275781840086\n",
      "0.0009:loss  ----- Training EPOCH 99 --- theta: tensor([0.0071, 0.5267, 0.4186, 0.9760, 0.9950], grad_fn=<SigmoidBackward0>)\n",
      "Num non-zero gadients: 1, incices: 4, gradients: 0.00571218878030777\n",
      "tensor([0.5349, 0.5402, 0.5022, 0.5169, 0.5294], requires_grad=True)\n",
      "tensor([0.0071, 0.5264, 0.4187, 0.9760, 0.9950], grad_fn=<SigmoidBackward0>)\n"
     ]
    }
   ],
   "source": [
    "bucket_nn.set_value(PRECIP_RECORD, torch.tensor(network_precip_input_list, requires_grad=False))\n",
    "y_pred, loss = train_ncnn(bucket_nn, network_precip_tensor, network_outflow_tensor_0)\n",
    "network_outflow_list_1b = list(y_pred.detach().numpy())\n",
    "print(bucket_net.theta)\n",
    "print(bucket_nn.theta)"
   ]
  },
  {
   "cell_type": "markdown",
   "id": "354211ef",
   "metadata": {},
   "source": []
  },
  {
   "cell_type": "code",
   "execution_count": 10,
   "id": "fb89e7f2",
   "metadata": {},
   "outputs": [
    {
     "data": {
      "image/png": "[encoded data removed]",
      "text/plain": [
       "<Figure size 500x333.333 with 1 Axes>"
      ]
     },
     "metadata": {},
     "output_type": "display_data"
    }
   ],
   "source": [
    "startplt = 230\n",
    "endplt = 280\n",
    "bigfontsize = 12\n",
    "smallfontsize = 10\n",
    "# Set figure size to 7 inches wide\n",
    "figure_width = 5  # inches\n",
    "aspect_ratio = 3 / 2  # Adjust as needed for your plot\n",
    "figure_height = figure_width / aspect_ratio\n",
    "\n",
    "plt.figure(figsize=(figure_width, figure_height))\n",
    "\n",
    "# Set color\n",
    "light_blue_color = \"#3D68CA\"\n",
    "line_and_text_color = \"#0D3F6E\"\n",
    "\n",
    "# Plot each series with specified color\n",
    "plt.plot(network_precip_input_list[startplt:endplt], c=light_blue_color, lw=3, label=\"Precipitation input\")\n",
    "plt.plot(network_outflow_list_0[startplt:endplt], c=\"k\", lw=3, label=\"Target hydrograph \")\n",
    "plt.plot(network_outflow_list_1a[startplt:endplt], \"--\", lw=2, c=line_and_text_color, label=\"Pre-trained network\")\n",
    "plt.plot(network_outflow_list_1b[startplt:endplt], lw=3, c=\"r\", label=\"Trained bucket network\")\n",
    "\n",
    "network_precip_tensor = torch.tensor(network_precip_input_list)\n",
    "max_value = torch.max(network_precip_tensor[startplt:endplt]).item()\n",
    "#    plt.ylim([0, max_value * 1.2])\n",
    "\n",
    "plt.yticks([])\n",
    "plt.xticks([])\n",
    "plt.ylabel(\"Unit hydrograph\", fontsize=bigfontsize, color=line_and_text_color)\n",
    "plt.xlabel(\"Time\", fontsize=bigfontsize, color=line_and_text_color)\n",
    "\n",
    "# Modify legend to have a transparent background\n",
    "plt.legend(fontsize=smallfontsize, edgecolor=line_and_text_color, framealpha=0.5)  # Adjust framealpha as needed\n",
    "\n",
    "#    plt.title(\"Flow out from network and precip\", fontsize=bigfontsize, color=line_and_text_color)\n",
    "\n",
    "# Save the figure with transparent background and at 300 DPI\n",
    "plt.show()\n",
    "#plt.savefig(\"ncn_plot.png\", transparent=True, dpi=300)\n",
    "\n",
    "plt.close()\n",
    "\n"
   ]
  },
  {
   "cell_type": "code",
   "execution_count": null,
   "id": "a6bd9eed",
   "metadata": {},
   "outputs": [],
   "source": []
  },
  {
   "cell_type": "code",
   "execution_count": 11,
   "id": "6d717beb",
   "metadata": {},
   "outputs": [
    {
     "data": {
      "text/plain": [
       "{0: {'H': tensor([14.2221], grad_fn=<ViewBackward0>),\n",
       "  'S': tensor([[[0.4963, 0.7682],\n",
       "           [0.0885, 0.1320]]]),\n",
       "  's_q': tensor([[5.3815e+00, 1.0497e-03]], grad_fn=<SliceBackward0>)},\n",
       " 1: {'H': tensor([12.6957,  1.7294], grad_fn=<ViewBackward0>),\n",
       "  'S': tensor([[[0.3074, 0.6341]],\n",
       "  \n",
       "          [[0.4901, 0.8964]]]),\n",
       "  's_q': tensor([[0.8877],\n",
       "          [0.3747]], grad_fn=<SliceBackward0>)},\n",
       " 2: {'H': tensor([6.0824], grad_fn=<ViewBackward0>),\n",
       "  'S': tensor([[[0.4556, 0.6323]]]),\n",
       "  's_q': tensor([[0.4227]], grad_fn=<SliceBackward0>)}}"
      ]
     },
     "execution_count": 11,
     "metadata": {},
     "output_type": "execute_result"
    }
   ],
   "source": [
    "bucket_net.network"
   ]
  },
  {
   "cell_type": "code",
   "execution_count": 12,
   "id": "a91cb5c7",
   "metadata": {},
   "outputs": [
    {
     "data": {
      "text/plain": [
       "{0: {'H': tensor([15.0459], grad_fn=<ViewBackward0>),\n",
       "  'S': tensor([[[0.7576, 0.2793],\n",
       "           [0.4031, 0.7347]]]),\n",
       "  's_q': tensor([[0.0314, 5.2623]], grad_fn=<SliceBackward0>)},\n",
       " 1: {'H': tensor([ 8.6445, 23.1892], grad_fn=<ViewBackward0>),\n",
       "  'S': tensor([[[0.0293, 0.7999]],\n",
       "  \n",
       "          [[0.3971, 0.7544]]]),\n",
       "  's_q': tensor([[1.4173],\n",
       "          [0.3483]], grad_fn=<SliceBackward0>)},\n",
       " 2: {'H': tensor([83.2206], grad_fn=<ViewBackward0>),\n",
       "  'S': tensor([[[0.5695, 0.4388]]]),\n",
       "  's_q': tensor([[0.3944]], grad_fn=<SliceBackward0>)}}"
      ]
     },
     "execution_count": 12,
     "metadata": {},
     "output_type": "execute_result"
    }
   ],
   "source": [
    "bucket_nn.network"
   ]
  },
  {
   "cell_type": "code",
   "execution_count": 13,
   "id": "568b565c",
   "metadata": {},
   "outputs": [
    {
     "data": {
      "text/plain": [
       "tensor([0.5349, 0.5402, 0.5022, 0.5169, 0.5294], requires_grad=True)"
      ]
     },
     "execution_count": 13,
     "metadata": {},
     "output_type": "execute_result"
    }
   ],
   "source": [
    "bucket_net.theta"
   ]
  },
  {
   "cell_type": "code",
   "execution_count": 14,
   "id": "c3befa50",
   "metadata": {},
   "outputs": [
    {
     "data": {
      "text/plain": [
       "tensor([0.0071, 0.5264, 0.4187, 0.9760, 0.9950], grad_fn=<SigmoidBackward0>)"
      ]
     },
     "execution_count": 14,
     "metadata": {},
     "output_type": "execute_result"
    }
   ],
   "source": [
    "bucket_nn.theta"
   ]
  },
  {
   "cell_type": "code",
   "execution_count": 15,
   "id": "d204aa2e",
   "metadata": {},
   "outputs": [
    {
     "data": {
      "text/plain": [
       "tensor([0.5095, 0.4063, 0.3727, 0.4813, 0.5210])"
      ]
     },
     "execution_count": 15,
     "metadata": {},
     "output_type": "execute_result"
    }
   ],
   "source": [
    "origional_bucket_theta"
   ]
  },
  {
   "cell_type": "code",
   "execution_count": 16,
   "id": "888d8141",
   "metadata": {},
   "outputs": [
    {
     "data": {
      "text/plain": [
       "tensor(0.6325, grad_fn=<SumBackward0>)"
      ]
     },
     "execution_count": 16,
     "metadata": {},
     "output_type": "execute_result"
    }
   ],
   "source": [
    "torch.sum(bucket_nn.theta - origional_bucket_theta)"
   ]
  },
  {
   "cell_type": "code",
   "execution_count": 17,
   "id": "553672bc",
   "metadata": {},
   "outputs": [
    {
     "data": {
      "text/plain": [
       "tensor([-0.5024,  0.1201,  0.0459,  0.4947,  0.4741], grad_fn=<SubBackward0>)"
      ]
     },
     "execution_count": 17,
     "metadata": {},
     "output_type": "execute_result"
    }
   ],
   "source": [
    "bucket_nn.theta - origional_bucket_theta"
   ]
  },
  {
   "cell_type": "code",
   "execution_count": 18,
   "id": "4455c9a8",
   "metadata": {},
   "outputs": [
    {
     "ename": "NameError",
     "evalue": "name 'thislinewillstopthenotebookfromrunningthecellsbelow' is not defined",
     "output_type": "error",
     "traceback": [
      "\u001b[0;31m---------------------------------------------------------------------------\u001b[0m",
      "\u001b[0;31mNameError\u001b[0m                                 Traceback (most recent call last)",
      "Cell \u001b[0;32mIn[18], line 1\u001b[0m\n\u001b[0;32m----> 1\u001b[0m \u001b[38;5;28mprint\u001b[39m(\u001b[43mthislinewillstopthenotebookfromrunningthecellsbelow\u001b[49m)\n",
      "\u001b[0;31mNameError\u001b[0m: name 'thislinewillstopthenotebookfromrunningthecellsbelow' is not defined"
     ]
    }
   ],
   "source": [
    "print(thislinewillstopthenotebookfromrunningthecellsbelow)"
   ]
  },
  {
   "cell_type": "code",
   "execution_count": null,
   "id": "29e37cad",
   "metadata": {},
   "outputs": [],
   "source": [
    "import numpy as np\n",
    "import torch.nn as nn\n",
    "from torch.optim.lr_scheduler import StepLR\n",
    "from torch.autograd import Variable \n",
    "if torch.cuda.is_available():\n",
    "    device = torch.device(\"cuda:0\")\n",
    "    print(\"Using CUDA device: \", torch.cuda.get_device_name(0))\n",
    "else:\n",
    "    device = 'cpu'"
   ]
  },
  {
   "cell_type": "code",
   "execution_count": null,
   "id": "ad2e9bae",
   "metadata": {},
   "outputs": [],
   "source": [
    "# Convert arrays to PyTorch tensors\n",
    "x_input = torch.FloatTensor(network_precip_tensor.detach().numpy())\n",
    "y_target = torch.FloatTensor(network_outflow_tensor_0.detach().numpy())\n",
    "\n",
    "# Define the sequence length (you can adjust this)\n",
    "seq_length = 12\n",
    "\n",
    "# Function to create sequences\n",
    "def create_sequences(input_data, target_data, seq_length):\n",
    "    xs, ys = [], []\n",
    "    for i in range(len(input_data)-seq_length):\n",
    "        x_seq = input_data[i:i+seq_length]\n",
    "        y_seq = target_data[i+seq_length]\n",
    "        xs.append(x_seq)\n",
    "        ys.append(y_seq)\n",
    "    return torch.stack(xs), torch.stack(ys)\n",
    "\n",
    "X, y = create_sequences(x_input, y_target, seq_length)\n",
    "\n",
    "class LSTMModel(nn.Module):\n",
    "    def __init__(self, input_size=1, hidden_layer_size=256, output_size=1, num_layers=1):\n",
    "        super().__init__()\n",
    "        self.hidden_layer_size = hidden_layer_size\n",
    "        self.lstm = nn.LSTM(input_size, hidden_layer_size, num_layers=num_layers)\n",
    "        self.linear = nn.Linear(hidden_layer_size, output_size)\n",
    "\n",
    "    def forward(self, input_seq):\n",
    "        lstm_out, _ = self.lstm(input_seq.view(len(input_seq), 1, -1))\n",
    "        predictions = self.linear(lstm_out.view(len(input_seq), -1))\n",
    "        return predictions[-1]\n",
    "\n",
    "model = LSTMModel()\n",
    "loss_function = nn.MSELoss()\n",
    "optimizer = torch.optim.Adam(model.parameters(), lr=0.001)\n",
    "\n",
    "epochs = 5\n",
    "for epoch in range(epochs):\n",
    "    for seq, labels in zip(X, y):\n",
    "        optimizer.zero_grad()\n",
    "        y_pred = model(seq)\n",
    "        single_loss = loss_function(y_pred, labels)\n",
    "        single_loss.backward()\n",
    "        optimizer.step()\n",
    "\n",
    "    if epoch % 1 == 0:\n",
    "        print(f'epoch: {epoch} loss: {single_loss.item()}')\n",
    "\n",
    "print(f'Final loss: {single_loss.item()}')\n",
    "\n",
    "\n",
    "\n",
    "\n",
    "predictions = []\n",
    "model.eval()\n",
    "with torch.no_grad():\n",
    "    for seq in X:\n",
    "        predictions.append(model(seq).item())\n",
    "\n",
    "# Convert predictions to a numpy array for easy plotting\n",
    "predictions_np = np.array(predictions)\n",
    "plt.figure(figsize=(12, 6))\n",
    "plt.title(\"LSTM Predictions vs Actual Data\")\n",
    "plt.xlabel(\"Time Steps\")\n",
    "plt.ylabel(\"Output\")\n",
    "plt.plot(x_input.numpy()[seq_length:], label='Precipitation', alpha=0.7)\n",
    "plt.plot(y_target.numpy()[seq_length:], label='Actual Outflow', alpha=0.7)\n",
    "plt.plot(predictions_np, label='Predicted Outflow', alpha=0.7, linestyle='--')\n",
    "plt.legend()\n",
    "plt.show()\n"
   ]
  },
  {
   "cell_type": "code",
   "execution_count": null,
   "id": "f6a8e2fb",
   "metadata": {},
   "outputs": [],
   "source": [
    "# Convert arrays to PyTorch tensors\n",
    "x_input = torch.FloatTensor(network_precip_tensor.detach().numpy())\n",
    "y_target = torch.FloatTensor(network_outflow_tensor_0.detach().numpy())\n",
    "\n",
    "# Define the sequence length (you can adjust this)\n",
    "seq_length = 35\n",
    "\n",
    "# Function to create sequences\n",
    "def create_sequences(input_data, target_data, seq_length):\n",
    "    xs, ys = [], []\n",
    "    for i in range(len(input_data) - seq_length):\n",
    "        x_seq = input_data[i:i + seq_length]\n",
    "        y_seq = target_data[i + seq_length]\n",
    "        xs.append(x_seq)\n",
    "        ys.append(y_seq)\n",
    "    return torch.stack(xs), torch.stack(ys)\n",
    "\n",
    "X, y = create_sequences(x_input, y_target, seq_length)\n",
    "\n",
    "# Feedforward Neural Network Model\n",
    "class FFNNModel(nn.Module):\n",
    "    def __init__(self, input_size, hidden_layer_size=3, output_size=1):\n",
    "        super().__init__()\n",
    "        self.hidden_layer_size = hidden_layer_size\n",
    "\n",
    "        # Define your feedforward layers here\n",
    "        self.fc1 = nn.Linear(input_size, hidden_layer_size)\n",
    "        self.relu1 = nn.ReLU()\n",
    "        self.fc2 = nn.Linear(hidden_layer_size, hidden_layer_size)\n",
    "        self.relu2 = nn.ReLU()\n",
    "        self.fc3 = nn.Linear(hidden_layer_size, hidden_layer_size)\n",
    "        self.fc4 = nn.Linear(hidden_layer_size, output_size)\n",
    "\n",
    "    def forward(self, input_seq):\n",
    "        self.activations = []\n",
    "        x = self.fc1(input_seq)\n",
    "        self.activations.append(x.detach().numpy())  # Record activation\n",
    "        x = self.relu1(x)\n",
    "        self.activations.append(x.detach().numpy())  # Record activation\n",
    "        x = self.fc2(x)\n",
    "        self.activations.append(x.detach().numpy())  # Record activation\n",
    "        x = self.relu2(x)\n",
    "        self.activations.append(x.detach().numpy())  # Record activation\n",
    "        x = self.fc3(x)\n",
    "        self.activations.append(x.detach().numpy())  # Record activation\n",
    "        predictions = self.fc4(x)\n",
    "        return predictions[-1]\n",
    "\n",
    "model = FFNNModel(input_size=seq_length)\n",
    "loss_function = nn.MSELoss()\n",
    "optimizer = torch.optim.Adam(model.parameters(), lr=0.006)\n",
    "scheduler = StepLR(optimizer, step_size=1, gamma=0.99, verbose=True)\n",
    "\n",
    "epochs = 150\n",
    "for epoch in range(epochs):\n",
    "    for seq, labels in zip(X, y):\n",
    "        optimizer.zero_grad()\n",
    "        y_pred = model(seq)\n",
    "        single_loss = loss_function(y_pred, labels)\n",
    "        single_loss.backward()\n",
    "        optimizer.step()\n",
    "    \n",
    "    scheduler.step()\n",
    "    if epoch % 1 == 0:\n",
    "        print(f'epoch: {epoch} loss: {single_loss.item():.4f}')\n",
    "\n",
    "print(f'Final loss: {single_loss.item()}')"
   ]
  },
  {
   "cell_type": "code",
   "execution_count": null,
   "id": "51d416ce",
   "metadata": {},
   "outputs": [],
   "source": [
    "x_input.shape, y_target.shape, predictions_np.shape"
   ]
  },
  {
   "cell_type": "code",
   "execution_count": null,
   "id": "6f70ecd5",
   "metadata": {},
   "outputs": [],
   "source": [
    "predictions = []\n",
    "model.eval()\n",
    "with torch.no_grad():\n",
    "    for i, seq in enumerate(X):\n",
    "        predictions.append(model(seq).item())\n",
    "predictions_np = np.array(predictions)\n",
    "\n",
    "DO_PLOT = True\n",
    "if DO_PLOT:\n",
    "    startplt = 230\n",
    "    endplt = 280\n",
    "    bigfontsize = 22\n",
    "    smallfontsize = 16\n",
    "    # Set figure size to 7 inches wide\n",
    "    figure_width = 7  # inches\n",
    "    aspect_ratio = 3 / 2  # Adjust as needed for your plot\n",
    "    figure_height = figure_width / aspect_ratio\n",
    "\n",
    "    plt.figure(figsize=(figure_width, figure_height))\n",
    "\n",
    "    # Set color\n",
    "    light_blue_color = \"#3D68CA\"\n",
    "    line_and_text_color = \"#0D3F6E\"\n",
    "\n",
    "    # Plot each series with specified color\n",
    "    plt.plot(network_precip_input_list[startplt:endplt], c=light_blue_color, lw=10, label=\"Precipitation input\")\n",
    "    plt.plot(network_outflow_list_0[startplt:endplt], c=\"k\", lw=10, label=\"Target hydrograph \")\n",
    "    # plt.plot(network_outflow_list_1a[startplt:endplt], \"--\", lw=5, c=line_and_text_color, label=\"Pre-trained network\")\n",
    "    plt.plot(predictions_np[startplt-seq_length:endplt-seq_length], \"--\", lw=10, c=line_and_text_color, label=\"Trained bucket network\")\n",
    "\n",
    "    network_precip_tensor = torch.tensor(network_precip_input_list)\n",
    "    max_value = torch.max(network_precip_tensor[startplt:endplt]).item()\n",
    "    plt.ylim([0, max_value * 1.2])\n",
    "\n",
    "    plt.yticks([])\n",
    "    plt.xticks([])\n",
    "    plt.ylabel(\"Unit hydrograph\", fontsize=bigfontsize, color=line_and_text_color)\n",
    "    plt.xlabel(\"Time\", fontsize=bigfontsize, color=line_and_text_color)\n",
    "\n",
    "    # Modify legend to have a transparent background\n",
    "    #plt.legend(fontsize=smallfontsize, edgecolor=line_and_text_color, framealpha=0.5)  # Adjust framealpha as needed\n",
    "\n",
    "    #plt.title(\"Flow out from network and precip\", fontsize=bigfontsize, color=line_and_text_color)\n",
    "\n",
    "    # Save the figure with transparent background and at 300 DPI\n",
    "    #plt.show()\n",
    "    plt.savefig(\"./figs/ffn_plot.png\", transparent=True, dpi=300)\n",
    "\n",
    "    plt.close()"
   ]
  },
  {
   "cell_type": "markdown",
   "metadata": {},
   "source": [
    "def plot_the_time_series(x_input, y_target, predictions_np, seq_length):\n",
    "    plt.figure(figsize=(12, 6))\n",
    "    plt.title(\"FFNN Predictions vs Actual Data\")\n",
    "    plt.xlabel(\"Time Steps\")\n",
    "    plt.ylabel(\"Output\")\n",
    "    plt.plot(x_input.numpy()[seq_length:], label='Precipitation', alpha=0.7)\n",
    "    plt.plot(y_target.numpy()[seq_length:], label='Actual Outflow', alpha=0.7)\n",
    "    plt.plot(predictions_np, label='Predicted Outflow', alpha=0.7, linestyle='--')\n",
    "    plt.legend()\n",
    "    plt.show()\n",
    "    plt.close()\n",
    "predictions = []\n",
    "model.eval()\n",
    "with torch.no_grad():\n",
    "    for i, seq in enumerate(X):\n",
    "        predictions.append(model(seq).item())\n",
    "predictions_np = np.array(predictions)\n",
    "plot_the_time_series(x_input, y_target, predictions_np, seq_length)"
   ]
  },
  {
   "cell_type": "code",
   "execution_count": null,
   "id": "9ac67c20",
   "metadata": {},
   "outputs": [],
   "source": [
    "import imageio\n",
    "import seaborn as sns\n",
    "import matplotlib.colors as mcolors\n",
    "from matplotlib.cm import ScalarMappable"
   ]
  },
  {
   "cell_type": "code",
   "execution_count": null,
   "id": "f4548040",
   "metadata": {},
   "outputs": [],
   "source": [
    "#print(thiscellwillstopthenotebookbeforetheanimationismade)"
   ]
  },
  {
   "cell_type": "code",
   "execution_count": null,
   "id": "e464dee7",
   "metadata": {},
   "outputs": [],
   "source": [
    "def visualize_layer_connections_with_annotations(model, input_seq, title):\n",
    "    model(input_seq)  # Forward pass to record activations\n",
    "    activations = model.activations\n",
    "\n",
    "    # Concatenate activations horizontally\n",
    "    concatenated_activations = np.hstack([activation.reshape(-1, 1) for activation in activations])\n",
    "\n",
    "    # Plotting\n",
    "    plt.figure(figsize=(3, 2))  # Adjust the figure size as needed\n",
    "    ax = sns.heatmap(concatenated_activations, annot=True, fmt=\".2f\", cmap=\"viridis\", annot_kws={\"size\": 8})\n",
    "    plt.title(title)\n",
    "    plt.xlabel(\"Layer Neurons\")\n",
    "    plt.ylabel(\"Activation\")\n",
    "    plt.show()\n",
    "\n",
    "# Usage\n",
    "for i in [50, 75]:\n",
    "    visualize_layer_connections_with_annotations(model, X[i], f\"Neuron Connections at x={i}\")\n"
   ]
  },
  {
   "cell_type": "code",
   "execution_count": null,
   "id": "57851cb4",
   "metadata": {},
   "outputs": [],
   "source": []
  },
  {
   "cell_type": "code",
   "execution_count": null,
   "id": "9ec5503f",
   "metadata": {},
   "outputs": [],
   "source": []
  },
  {
   "cell_type": "code",
   "execution_count": null,
   "id": "0891b699",
   "metadata": {},
   "outputs": [],
   "source": []
  },
  {
   "cell_type": "code",
   "execution_count": null,
   "id": "4d66a68b",
   "metadata": {},
   "outputs": [],
   "source": [
    "def network_visualization_subplot(model, input_seq, layer_sizes, title, ax):\n",
    "    model(input_seq)  # Forward pass to record activations\n",
    "    activations = model.activations\n",
    "\n",
    "    # Create a color map\n",
    "    cmap = plt.get_cmap('viridis')\n",
    "\n",
    "    # Normalize the activation values to [-5, 5] for the color map\n",
    "    norm = mcolors.Normalize(vmin=-5, vmax=5)\n",
    "\n",
    "    # Number of layers including input and output\n",
    "    num_layers = len(layer_sizes)\n",
    "\n",
    "    # List to store node positions, to be used to draw the edges\n",
    "    node_positions = {}\n",
    "\n",
    "    # Generate positions for each layer\n",
    "    for i, size in enumerate(layer_sizes):\n",
    "        # Vertical positions\n",
    "        v_positions = np.linspace(0, 1, size + 2)[1:-1]\n",
    "\n",
    "        # Horizontal position\n",
    "        h_position = i / (num_layers - 1)\n",
    "\n",
    "        # Draw nodes\n",
    "        for j, v in enumerate(v_positions):\n",
    "            activation = 0\n",
    "            if i > 0:  # Skip input layer for activations\n",
    "                activation = activations[i-1][j]\n",
    "            color = cmap(norm(activation))\n",
    "\n",
    "            circle = plt.Circle((h_position, v), 0.05, color=color, zorder=4)\n",
    "            ax.add_artist(circle)\n",
    "            node_positions[(i, j)] = (h_position, v)\n",
    "\n",
    "            # Optionally, add activation values as text inside the nodes\n",
    "            # plt.text(h_position, v, f'{activation:.2f}', ha='center', va='center', color='white', fontsize=8)\n",
    "\n",
    "    # Draw edges\n",
    "    for i in range(num_layers - 1):\n",
    "        for j in range(layer_sizes[i]):\n",
    "            for k in range(layer_sizes[i + 1]):\n",
    "                start_pos = node_positions[(i, j)]\n",
    "                end_pos = node_positions[(i + 1, k)]\n",
    "                line = plt.Line2D([start_pos[0], end_pos[0]], [start_pos[1], end_pos[1]], c='black', alpha=0.3)\n",
    "                ax.add_line(line)\n",
    "\n",
    "    mappable = ScalarMappable(norm=norm, cmap=cmap)\n",
    "\n",
    "    # Add a colorbar\n",
    "    plt.colorbar(mappable, ax=ax, orientation='vertical', fraction=0.046, pad=0.04)\n",
    "\n",
    "    # Set title and turn off axis\n",
    "    ax.set_title(title)\n",
    "    ax.axis('off')\n"
   ]
  },
  {
   "cell_type": "code",
   "execution_count": null,
   "id": "b9741cf2",
   "metadata": {},
   "outputs": [],
   "source": [
    "def plot_the_time_series_subplot(x_input, y_target, predictions_np, seq_length, t, ax):\n",
    "    ax.set_title(\"FFNN Predictions vs Actual Data\")\n",
    "    ax.set_xlabel(\"Time Steps\")\n",
    "    ax.set_ylabel(\"Output\")\n",
    "    ax.plot(x_input.numpy()[seq_length:], label='Precipitation', alpha=0.7)\n",
    "    ax.plot(y_target.numpy()[seq_length:], label='Actual Outflow', alpha=0.7)\n",
    "    ax.plot(predictions_np, label='Predicted Outflow', alpha=0.7, linestyle='--')\n",
    "    ax.axvline(x=t, color='red', linestyle='--')  # Vertical line\n",
    "    ax.legend()"
   ]
  },
  {
   "cell_type": "code",
   "execution_count": null,
   "id": "15bda8f0",
   "metadata": {},
   "outputs": [],
   "source": [
    "# Define the size of each layer (including input and output layers)\n",
    "layer_sizes = [1, 3, 3, 3, 1]  # Example: input layer with 35 nodes, three hidden layers with 3 nodes each, and an output layer with 1 node\n",
    "\n",
    "# Usage\n",
    "for t in range(1,200):\n",
    "\n",
    "    fig, (ax1, ax2) = plt.subplots(2, 1, figsize=(12, 12))\n",
    "\n",
    "    # Network visualization on the first subplot\n",
    "    network_visualization_subplot(model, X[t], layer_sizes, f\"Neural Network Visualization at t={t}\", ax1)\n",
    "\n",
    "    # Time series plot on the second subplot\n",
    "    plot_the_time_series_subplot(x_input, y_target, predictions_np, seq_length, t, ax2)\n",
    "\n",
    "    plt.tight_layout()\n",
    "    plt.savefig(f\"./figs/network_plot/combined_frame_{t}.png\")\n",
    "    plt.close(fig)"
   ]
  },
  {
   "cell_type": "code",
   "execution_count": null,
   "id": "64095e3d",
   "metadata": {},
   "outputs": [],
   "source": [
    "filenames = [f\"./figs/network_plot/combined_frame_{t}.png\" for t in range(1, 200)]\n",
    "images = [imageio.imread(filename) for filename in filenames]\n",
    "imageio.mimsave('network_animation.gif', images, fps=2)  # Adjust fps as needed"
   ]
  },
  {
   "cell_type": "code",
   "execution_count": null,
   "id": "bc7e6a4e",
   "metadata": {},
   "outputs": [],
   "source": []
  },
  {
   "cell_type": "code",
   "execution_count": null,
   "id": "9382c53a",
   "metadata": {},
   "outputs": [],
   "source": []
  },
  {
   "cell_type": "code",
   "execution_count": null,
   "metadata": {},
   "outputs": [],
   "source": []
  }
 ],
 "metadata": {
  "kernelspec": {
   "display_name": "nhgpu",
   "language": "python",
   "name": "python3"
  },
  "language_info": {
   "codemirror_mode": {
    "name": "ipython",
    "version": 3
   },
   "file_extension": ".py",
   "mimetype": "text/x-python",
   "name": "python",
   "nbconvert_exporter": "python",
   "pygments_lexer": "ipython3",
   "version": "3.10.13"
  }
 },
 "nbformat": 4,
 "nbformat_minor": 5
}

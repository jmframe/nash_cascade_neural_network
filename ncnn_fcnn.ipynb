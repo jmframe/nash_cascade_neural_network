{
 "cells": [
  {
   "cell_type": "code",
   "execution_count": 1,
   "id": "45cb35ce-803e-43be-b263-4a1a0f3bb6a3",
   "metadata": {
    "tags": []
   },
   "outputs": [],
   "source": [
    "# Nash Cascade Neural Network\n",
    "# A hydrologically intuitive deep learning network\n",
    "\n",
    "# Set up a solution to a network of buckets where the number of buckets in each layer\n",
    "# flows out to the buckets in the next layer\n",
    "# The parameter on each bucket is the size and height of each spigot.\n",
    "\n",
    "# Need a function that solves this individually at a single buckets\n",
    "# Then a function that loops through and moves the water to the downstream buckets"
   ]
  },
  {
   "cell_type": "code",
   "execution_count": 2,
   "id": "62bab940-cde5-4ff0-8897-75fdf2ebec52",
   "metadata": {
    "tags": []
   },
   "outputs": [],
   "source": [
    "import torch\n",
    "import copy\n",
    "import matplotlib.pyplot as plt\n",
    "from ncn_fcnn import NashCascadeNetwork as ncn\n",
    "from ncn_fcnn import train_model as train_ncnn\n",
    "import matplotlib.font_manager as font_manager\n",
    "# Precipitation standard variable name used in the ncnn model interface\n",
    "PRECIP_SVN = \"atmosphere_water__liquid_equivalent_precipitation_rate\"\n",
    "PRECIP_SVN_SEQ = \"atmosphere_water__liquid_equivalent_precipitation_rate_seq\"\n",
    "PRECIP_RECORD = \"atmosphere_water__liquid_equivalent_precipitation_rate_record\"\n",
    "DO_PLOT = True\n",
    "N_TIMESTEPS = 300"
   ]
  },
  {
   "cell_type": "code",
   "execution_count": 3,
   "id": "a46bcc71",
   "metadata": {},
   "outputs": [],
   "source": [
    "network_precip_input_list = []\n",
    "count = 0\n",
    "unit_precip = 6.0\n",
    "for i in range(N_TIMESTEPS):\n",
    "\n",
    "    ###########################################################################\n",
    "    if count == 0:\n",
    "        network_precip_input_list.append(1.0)\n",
    "    elif count > 45:\n",
    "        network_precip_input_list.append(unit_precip)\n",
    "    else:\n",
    "        network_precip_input_list.append(0.0)\n",
    "    if count == 50:\n",
    "        count = 0\n",
    "    count+=1\n",
    "    ###########################################################################\n",
    "network_precip_tensor = torch.tensor(network_precip_input_list, requires_grad=False)\n",
    "total_mass_precip_in = torch.sum(network_precip_tensor)"
   ]
  },
  {
   "cell_type": "code",
   "execution_count": 4,
   "id": "92cb4cbf-61b3-4566-a9e0-37d15e846fc1",
   "metadata": {},
   "outputs": [
    {
     "name": "stdout",
     "output_type": "stream",
     "text": [
      "Initial Mass in network at start: 30.0\n",
      "Initial Mass in network: 30.0\n",
      "Final Mass in network: 29.9\n",
      "Total Mass out of network 175.1\n",
      "Total precipitation into network 175.0\n",
      "Mass balance for network is -0.000\n"
     ]
    },
    {
     "data": {
      "text/plain": [
       "tensor([0.1483, 0.1847, 0.3045, 0.3746, 0.2191, 0.3622, 0.2258, 0.2659, 0.3858])"
      ]
     },
     "execution_count": 4,
     "metadata": {},
     "output_type": "execute_result"
    }
   ],
   "source": [
    "# Example 0\n",
    "bucket_net = ncn(cfg_file=\"./config_0.json\")\n",
    "bucket_net.initialize()\n",
    "bucket_net.unit_precip = unit_precip\n",
    "bucket_net.summarize_network()\n",
    "inital_mass_in_network = torch.sum(torch.tensor([tensor.item() for tensor in bucket_net.sum_H_per_layer]))\n",
    "print(f\"Initial Mass in network at start: {inital_mass_in_network:.1f}\")\n",
    "network_outflow_list_0 = []\n",
    "for i in range(N_TIMESTEPS):\n",
    "\n",
    "    ###########################################################################\n",
    "    ###########################################################################\n",
    "    bucket_net.set_value(PRECIP_SVN, torch.tensor(network_precip_input_list[i], requires_grad=False))\n",
    "    bucket_net.update()\n",
    "    network_outflow_list_0.append(bucket_net.network_outflow.item())\n",
    "    bucket_net.summarize_network()\n",
    "    ###########################################################################\n",
    "    ###########################################################################\n",
    "\n",
    "network_outflow_tensor_0 = torch.tensor(network_outflow_list_0, requires_grad=True)\n",
    "bucket_net.report_out_mass_balance()\n",
    "bucket_net.detach_ncn_from_graph()\n",
    "bucket_net.theta.detach()\n"
   ]
  },
  {
   "cell_type": "code",
   "execution_count": 5,
   "id": "694044a4",
   "metadata": {},
   "outputs": [],
   "source": [
    "#print(thislinewillstopthenotebookfromgoinganyfurther)"
   ]
  },
  {
   "cell_type": "code",
   "execution_count": 6,
   "id": "744fc71f",
   "metadata": {},
   "outputs": [
    {
     "name": "stdout",
     "output_type": "stream",
     "text": [
      "Initialized\n",
      "Initial Mass in network at start: 20.0\n",
      "Initial Mass in network: 20.0\n",
      "Final Mass in network: 24.3\n",
      "Total Mass out of network 170.7\n",
      "Total precipitation into network 175.0\n",
      "Mass balance for network is -0.000\n"
     ]
    }
   ],
   "source": [
    "# Example 1\n",
    "bucket_nn = ncn(cfg_file=\"./config_1_fcnn.json\")\n",
    "bucket_nn.initialize()\n",
    "bucket_nn.unit_precip = unit_precip\n",
    "print(\"Initialized\")\n",
    "bucket_nn.initialize_theta_values()\n",
    "inital_mass_in_network = torch.sum(torch.stack(bucket_nn.sum_H_per_layer)).item()\n",
    "print(f\"Initial Mass in network at start: {inital_mass_in_network:.1f}\")\n",
    "network_outflow_list_1a = []\n",
    "\n",
    "for i in range(N_TIMESTEPS):\n",
    "    # Set the current precipitation value\n",
    "    bucket_nn.set_value(PRECIP_SVN, torch.tensor(network_precip_input_list[i], requires_grad=True))\n",
    "\n",
    "    # Update the network (this should internally prepare and use the FCNN inputs)\n",
    "    bucket_nn.update()\n",
    "    network_outflow_list_1a.append(bucket_nn.network_outflow.item())\n",
    "    bucket_nn.summarize_network()\n",
    "    ###########################################################################\n",
    "    ###########################################################################\n",
    "\n",
    "###########################################################################\n",
    "network_outflow_tensor_1 = torch.tensor(network_outflow_list_1a, requires_grad=True)\n",
    "bucket_nn.report_out_mass_balance()\n",
    "\n",
    "origional_bucket_theta = copy.deepcopy(bucket_nn.theta.detach())\n"
   ]
  },
  {
   "cell_type": "code",
   "execution_count": 7,
   "id": "217de549",
   "metadata": {},
   "outputs": [
    {
     "name": "stdout",
     "output_type": "stream",
     "text": [
      "INITIAL MODEL theta: tensor([0.5052, 0.5352, 0.5614, 0.5496, 0.3470], grad_fn=<SigmoidBackward0>)\n",
      "Adjusting learning rate of group 0 to 1.0000e-01.\n",
      "loss: 1.2811------------\n",
      "theta: tensor([0.5052, 0.5352, 0.5614, 0.5496, 0.3470], grad_fn=<SigmoidBackward0>)\n",
      "Here are all the FCNN gradients:\n",
      "tensor([0., 0., 0., 0., 0.])\n",
      "Total number of non-zero gradients: 0\n",
      "Indices of non-zero gradients: []\n",
      "Adjusting learning rate of group 0 to 1.0000e-01.\n",
      "loss: 0.2777------------\n",
      "theta: tensor([0.2987, 0.2871, 0.3296, 0.3182, 0.2083], grad_fn=<SigmoidBackward0>)\n",
      "Here are all the FCNN gradients:\n",
      "tensor([0., 0., 0., 0., 0.])\n",
      "Total number of non-zero gradients: 0\n",
      "Indices of non-zero gradients: []\n",
      "Adjusting learning rate of group 0 to 9.5000e-02.\n",
      "loss: 0.1272------------\n",
      "theta: tensor([0.1469, 0.1968, 0.2568, 0.1201, 0.0608], grad_fn=<SigmoidBackward0>)\n",
      "Here are all the FCNN gradients:\n",
      "tensor([ 0.0000,  0.0000,  0.0000,  0.0000, -0.0032])\n",
      "Total number of non-zero gradients: 1\n",
      "Indices of non-zero gradients: 4\n",
      "Adjusting learning rate of group 0 to 9.5000e-02.\n",
      "loss: 0.0667------------\n",
      "theta: tensor([0.2011, 0.3562, 0.3299, 0.0819, 0.0520], grad_fn=<SigmoidBackward0>)\n",
      "Here are all the FCNN gradients:\n",
      "tensor([0.0000, 0.0000, 0.0000, 0.0000, 0.0514])\n",
      "Total number of non-zero gradients: 1\n",
      "Indices of non-zero gradients: 4\n",
      "Adjusting learning rate of group 0 to 9.0250e-02.\n",
      "loss: 0.2466------------\n",
      "theta: tensor([0.2187, 0.4600, 0.3880, 0.0589, 0.0333], grad_fn=<SigmoidBackward0>)\n",
      "Here are all the FCNN gradients:\n",
      "tensor([ 0.0000,  0.0000,  0.0000,  0.0000, -0.0134])\n",
      "Total number of non-zero gradients: 1\n",
      "Indices of non-zero gradients: 4\n",
      "Adjusting learning rate of group 0 to 9.0250e-02.\n",
      "loss: 0.3076------------\n",
      "theta: tensor([0.0745, 0.3239, 0.1647, 0.0191, 0.0110], grad_fn=<SigmoidBackward0>)\n",
      "Here are all the FCNN gradients:\n",
      "tensor([ 0.0000,  0.0000,  0.0000,  0.0000, -0.0268])\n",
      "Total number of non-zero gradients: 1\n",
      "Indices of non-zero gradients: 4\n",
      "Adjusting learning rate of group 0 to 8.5737e-02.\n",
      "loss: 0.0374------------\n",
      "theta: tensor([0.2472, 0.6265, 0.5052, 0.0704, 0.0249], grad_fn=<SigmoidBackward0>)\n",
      "Here are all the FCNN gradients:\n",
      "tensor([0.0000, 0.0000, 0.0000, 0.0000, 0.0954])\n",
      "Total number of non-zero gradients: 1\n",
      "Indices of non-zero gradients: 4\n",
      "Adjusting learning rate of group 0 to 8.5737e-02.\n",
      "loss: 0.0278------------\n",
      "theta: tensor([0.2679, 0.6795, 0.5515, 0.0754, 0.0239], grad_fn=<SigmoidBackward0>)\n",
      "Here are all the FCNN gradients:\n",
      "tensor([0.0000, 0.0000, 0.0000, 0.0000, 0.0337])\n",
      "Total number of non-zero gradients: 1\n",
      "Indices of non-zero gradients: 4\n",
      "Adjusting learning rate of group 0 to 8.1451e-02.\n",
      "loss: 0.1857------------\n",
      "theta: tensor([0.2837, 0.7197, 0.5909, 0.0807, 0.0227], grad_fn=<SigmoidBackward0>)\n",
      "Here are all the FCNN gradients:\n",
      "tensor([ 0.0000,  0.0000,  0.0000,  0.0000, -0.0030])\n",
      "Total number of non-zero gradients: 1\n",
      "Indices of non-zero gradients: 4\n",
      "Adjusting learning rate of group 0 to 8.1451e-02.\n",
      "loss: 0.0627------------\n",
      "theta: tensor([0.2986, 0.7511, 0.6289, 0.0977, 0.0231], grad_fn=<SigmoidBackward0>)\n",
      "Here are all the FCNN gradients:\n",
      "tensor([0.0000, 0.0000, 0.0000, 0.0000, 0.0223])\n",
      "Total number of non-zero gradients: 1\n",
      "Indices of non-zero gradients: 4\n",
      "Adjusting learning rate of group 0 to 7.7378e-02.\n",
      "loss: 0.0809------------\n",
      "theta: tensor([0.3097, 0.7771, 0.6661, 0.1219, 0.0246], grad_fn=<SigmoidBackward0>)\n",
      "Here are all the FCNN gradients:\n",
      "tensor([0.0000, 0.0000, 0.0000, 0.0000, 0.0065])\n",
      "Total number of non-zero gradients: 1\n",
      "Indices of non-zero gradients: 4\n",
      "Adjusting learning rate of group 0 to 7.7378e-02.\n",
      "loss: 0.0675------------\n",
      "theta: tensor([0.3270, 0.7978, 0.6964, 0.1577, 0.0273], grad_fn=<SigmoidBackward0>)\n",
      "Here are all the FCNN gradients:\n",
      "tensor([0.0000, 0.0000, 0.0000, 0.0000, 0.0125])\n",
      "Total number of non-zero gradients: 1\n",
      "Indices of non-zero gradients: 4\n",
      "Adjusting learning rate of group 0 to 7.3509e-02.\n",
      "loss: 0.0409------------\n",
      "theta: tensor([0.3317, 0.8150, 0.7281, 0.1982, 0.0314], grad_fn=<SigmoidBackward0>)\n",
      "Here are all the FCNN gradients:\n",
      "tensor([0.0000, 0.0000, 0.0000, 0.0000, 0.0137])\n",
      "Total number of non-zero gradients: 1\n",
      "Indices of non-zero gradients: 4\n",
      "Adjusting learning rate of group 0 to 7.3509e-02.\n",
      "loss: 0.0172------------\n",
      "theta: tensor([0.3358, 0.8288, 0.7538, 0.2397, 0.0366], grad_fn=<SigmoidBackward0>)\n",
      "Here are all the FCNN gradients:\n",
      "tensor([0.0000, 0.0000, 0.0000, 0.0000, 0.0460])\n",
      "Total number of non-zero gradients: 1\n",
      "Indices of non-zero gradients: 4\n",
      "Adjusting learning rate of group 0 to 6.9834e-02.\n",
      "loss: 0.0607------------\n",
      "theta: tensor([0.3401, 0.8406, 0.7757, 0.2858, 0.0423], grad_fn=<SigmoidBackward0>)\n",
      "Here are all the FCNN gradients:\n",
      "tensor([0.0000, 0.0000, 0.0000, 0.0000, 0.0041])\n",
      "Total number of non-zero gradients: 1\n",
      "Indices of non-zero gradients: 4\n",
      "Adjusting learning rate of group 0 to 6.9834e-02.\n",
      "loss: 0.0582------------\n",
      "theta: tensor([0.2347, 0.7847, 0.7510, 0.2773, 0.0354], grad_fn=<SigmoidBackward0>)\n",
      "Here are all the FCNN gradients:\n",
      "tensor([0.0000, 0.0000, 0.0000, 0.0000, 0.0107])\n",
      "Total number of non-zero gradients: 1\n",
      "Indices of non-zero gradients: 4\n",
      "Adjusting learning rate of group 0 to 6.6342e-02.\n",
      "loss: 0.0435------------\n",
      "theta: tensor([0.3544, 0.8586, 0.8152, 0.3983, 0.0581], grad_fn=<SigmoidBackward0>)\n",
      "Here are all the FCNN gradients:\n",
      "tensor([0.0000, 0.0000, 0.0000, 0.0000, 0.0062])\n",
      "Total number of non-zero gradients: 1\n",
      "Indices of non-zero gradients: 4\n",
      "Adjusting learning rate of group 0 to 6.6342e-02.\n",
      "loss: 0.3164------------\n",
      "theta: tensor([0.3599, 0.8655, 0.8323, 0.4599, 0.0684], grad_fn=<SigmoidBackward0>)\n",
      "Here are all the FCNN gradients:\n",
      "tensor([ 0.0000,  0.0000,  0.0000,  0.0000, -0.0038])\n",
      "Total number of non-zero gradients: 1\n",
      "Indices of non-zero gradients: 4\n",
      "Adjusting learning rate of group 0 to 6.3025e-02.\n",
      "loss: 0.0111------------\n",
      "theta: tensor([0.2938, 0.8427, 0.8211, 0.4691, 0.0654], grad_fn=<SigmoidBackward0>)\n",
      "Here are all the FCNN gradients:\n",
      "tensor([ 0.0000,  0.0000,  0.0000,  0.0000, -0.0034])\n",
      "Total number of non-zero gradients: 1\n",
      "Indices of non-zero gradients: 4\n",
      "Adjusting learning rate of group 0 to 6.3025e-02.\n",
      "loss: 0.0690------------\n",
      "theta: tensor([0.1983, 0.7555, 0.7462, 0.3934, 0.0549], grad_fn=<SigmoidBackward0>)\n",
      "Here are all the FCNN gradients:\n",
      "tensor([ 0.0000,  0.0000,  0.0000,  0.0000, -0.0075])\n",
      "Total number of non-zero gradients: 1\n",
      "Indices of non-zero gradients: 4\n",
      "Adjusting learning rate of group 0 to 5.9874e-02.\n",
      "tensor([0.1483, 0.1847, 0.3045, 0.3746, 0.2191, 0.3622, 0.2258, 0.2659, 0.3858],\n",
      "       requires_grad=True)\n",
      "tensor([0.3672, 0.8810, 0.8690, 0.5950, 0.0961], grad_fn=<SigmoidBackward0>)\n"
     ]
    }
   ],
   "source": [
    "bucket_nn.set_value(PRECIP_RECORD, torch.tensor(network_precip_input_list, requires_grad=False))\n",
    "y_pred, loss = train_ncnn(bucket_nn, network_precip_tensor, network_outflow_tensor_0)\n",
    "network_outflow_list_1b = list(y_pred.detach().numpy())\n",
    "print(bucket_net.theta)\n",
    "print(bucket_nn.theta)"
   ]
  },
  {
   "cell_type": "markdown",
   "id": "354211ef",
   "metadata": {},
   "source": []
  },
  {
   "cell_type": "code",
   "execution_count": 8,
   "id": "fb89e7f2",
   "metadata": {},
   "outputs": [
    {
     "data": {
      "image/png": "[encoded data removed]",
      "text/plain": [
       "<Figure size 500x333.333 with 1 Axes>"
      ]
     },
     "metadata": {},
     "output_type": "display_data"
    }
   ],
   "source": [
    "DO_PLOT = True\n",
    "if DO_PLOT:\n",
    "    startplt = 230\n",
    "    endplt = 280\n",
    "    bigfontsize = 12\n",
    "    smallfontsize = 10\n",
    "    # Set figure size to 7 inches wide\n",
    "    figure_width = 5  # inches\n",
    "    aspect_ratio = 3 / 2  # Adjust as needed for your plot\n",
    "    figure_height = figure_width / aspect_ratio\n",
    "\n",
    "    plt.figure(figsize=(figure_width, figure_height))\n",
    "\n",
    "    # Set color\n",
    "    light_blue_color = \"#3D68CA\"\n",
    "    line_and_text_color = \"#0D3F6E\"\n",
    "\n",
    "    # Plot each series with specified color\n",
    "    plt.plot(network_precip_input_list[startplt:endplt], c=light_blue_color, lw=3, label=\"Precipitation input\")\n",
    "    plt.plot(network_outflow_list_0[startplt:endplt], c=\"k\", lw=3, label=\"Target hydrograph \")\n",
    "    plt.plot(network_outflow_list_1a[startplt:endplt], \"--\", lw=2, c=line_and_text_color, label=\"Pre-trained network\")\n",
    "    plt.plot(network_outflow_list_1b[startplt:endplt], lw=3, c=\"r\", label=\"Trained bucket network\")\n",
    "\n",
    "    network_precip_tensor = torch.tensor(network_precip_input_list)\n",
    "    max_value = torch.max(network_precip_tensor[startplt:endplt]).item()\n",
    "#    plt.ylim([0, max_value * 1.2])\n",
    "\n",
    "    plt.yticks([])\n",
    "    plt.xticks([])\n",
    "    plt.ylabel(\"Unit hydrograph\", fontsize=bigfontsize, color=line_and_text_color)\n",
    "    plt.xlabel(\"Time\", fontsize=bigfontsize, color=line_and_text_color)\n",
    "\n",
    "    # Modify legend to have a transparent background\n",
    "    plt.legend(fontsize=smallfontsize, edgecolor=line_and_text_color, framealpha=0.5)  # Adjust framealpha as needed\n",
    "\n",
    "#    plt.title(\"Flow out from network and precip\", fontsize=bigfontsize, color=line_and_text_color)\n",
    "\n",
    "    # Save the figure with transparent background and at 300 DPI\n",
    "    plt.show()\n",
    "    #plt.savefig(\"ncn_plot.png\", transparent=True, dpi=300)\n",
    "\n",
    "    plt.close()\n",
    "\n"
   ]
  },
  {
   "cell_type": "code",
   "execution_count": null,
   "id": "a6bd9eed",
   "metadata": {},
   "outputs": [],
   "source": []
  },
  {
   "cell_type": "code",
   "execution_count": 9,
   "id": "6d717beb",
   "metadata": {},
   "outputs": [
    {
     "data": {
      "text/plain": [
       "{0: {'H': tensor([18.3632]),\n",
       "  'S': tensor([[[0.4963, 0.7682],\n",
       "           [0.0885, 0.1320]]]),\n",
       "  's_q': tensor([[1.8993, 0.4123]])},\n",
       " 1: {'H': tensor([1.8209, 2.5757]),\n",
       "  'S': tensor([[[0.3074, 0.6341],\n",
       "           [0.4901, 0.8964]],\n",
       "  \n",
       "          [[0.4556, 0.6323],\n",
       "           [0.3489, 0.4017]]]),\n",
       "  's_q': tensor([[0.6835, 0.9936],\n",
       "          [0.9421, 1.0128]])},\n",
       " 2: {'H': tensor([5.3907, 0.8506]),\n",
       "  'S': tensor([[[0.0223, 0.1689]],\n",
       "  \n",
       "          [[0.2939, 0.5185]]]),\n",
       "  's_q': tensor([[0.3263],\n",
       "          [0.3578]])},\n",
       " 3: {'H': tensor([0.8888]),\n",
       "  'S': tensor([[[0.6977, 0.8000]]]),\n",
       "  's_q': tensor([[0.3702]])}}"
      ]
     },
     "execution_count": 9,
     "metadata": {},
     "output_type": "execute_result"
    }
   ],
   "source": [
    "bucket_net.network"
   ]
  },
  {
   "cell_type": "code",
   "execution_count": 10,
   "id": "a91cb5c7",
   "metadata": {},
   "outputs": [
    {
     "data": {
      "text/plain": [
       "{0: {'H': tensor([4.9753], grad_fn=<ViewBackward0>),\n",
       "  'S': tensor([[[0.8869, 0.5716],\n",
       "           [0.2636, 0.9967]]], requires_grad=True),\n",
       "  's_q': tensor([[0.0000, 1.6846]], grad_fn=<SliceBackward0>)},\n",
       " 1: {'H': tensor([ 0.9327, 10.6529], grad_fn=<ViewBackward0>),\n",
       "  'S': tensor([[[0.5107, 0.8953]],\n",
       "  \n",
       "          [[0.6219, 0.9482]]], requires_grad=True),\n",
       "  's_q': tensor([[10.4268],\n",
       "          [ 0.5383]], grad_fn=<SliceBackward0>)},\n",
       " 2: {'H': tensor([22.4165], grad_fn=<ViewBackward0>),\n",
       "  'S': tensor([[[0.7885, 0.2451]]], requires_grad=True),\n",
       "  's_q': tensor([[0.4841]], grad_fn=<SliceBackward0>)}}"
      ]
     },
     "execution_count": 10,
     "metadata": {},
     "output_type": "execute_result"
    }
   ],
   "source": [
    "bucket_nn.network"
   ]
  },
  {
   "cell_type": "code",
   "execution_count": 11,
   "id": "568b565c",
   "metadata": {},
   "outputs": [
    {
     "data": {
      "text/plain": [
       "tensor([0.1483, 0.1847, 0.3045, 0.3746, 0.2191, 0.3622, 0.2258, 0.2659, 0.3858],\n",
       "       requires_grad=True)"
      ]
     },
     "execution_count": 11,
     "metadata": {},
     "output_type": "execute_result"
    }
   ],
   "source": [
    "bucket_net.theta"
   ]
  },
  {
   "cell_type": "code",
   "execution_count": 12,
   "id": "c3befa50",
   "metadata": {},
   "outputs": [
    {
     "data": {
      "text/plain": [
       "tensor([0.3672, 0.8810, 0.8690, 0.5950, 0.0961], grad_fn=<SigmoidBackward0>)"
      ]
     },
     "execution_count": 12,
     "metadata": {},
     "output_type": "execute_result"
    }
   ],
   "source": [
    "bucket_nn.theta"
   ]
  },
  {
   "cell_type": "code",
   "execution_count": 13,
   "id": "d204aa2e",
   "metadata": {},
   "outputs": [
    {
     "data": {
      "text/plain": [
       "tensor([0.5052, 0.5352, 0.5614, 0.5496, 0.3470])"
      ]
     },
     "execution_count": 13,
     "metadata": {},
     "output_type": "execute_result"
    }
   ],
   "source": [
    "origional_bucket_theta"
   ]
  },
  {
   "cell_type": "code",
   "execution_count": 14,
   "id": "888d8141",
   "metadata": {},
   "outputs": [
    {
     "data": {
      "text/plain": [
       "tensor(0.3098, grad_fn=<SumBackward0>)"
      ]
     },
     "execution_count": 14,
     "metadata": {},
     "output_type": "execute_result"
    }
   ],
   "source": [
    "torch.sum(bucket_nn.theta - origional_bucket_theta)"
   ]
  },
  {
   "cell_type": "code",
   "execution_count": 15,
   "id": "553672bc",
   "metadata": {},
   "outputs": [
    {
     "data": {
      "text/plain": [
       "tensor([-0.1381,  0.3458,  0.3077,  0.0454, -0.2509], grad_fn=<SubBackward0>)"
      ]
     },
     "execution_count": 15,
     "metadata": {},
     "output_type": "execute_result"
    }
   ],
   "source": [
    "bucket_nn.theta - origional_bucket_theta"
   ]
  },
  {
   "cell_type": "code",
   "execution_count": 16,
   "id": "4455c9a8",
   "metadata": {},
   "outputs": [
    {
     "ename": "NameError",
     "evalue": "name 'thislinewillstopthenotebookfromrunningthecellsbelow' is not defined",
     "output_type": "error",
     "traceback": [
      "\u001b[0;31m---------------------------------------------------------------------------\u001b[0m",
      "\u001b[0;31mNameError\u001b[0m                                 Traceback (most recent call last)",
      "Cell \u001b[0;32mIn[16], line 1\u001b[0m\n\u001b[0;32m----> 1\u001b[0m \u001b[38;5;28mprint\u001b[39m(\u001b[43mthislinewillstopthenotebookfromrunningthecellsbelow\u001b[49m)\n",
      "\u001b[0;31mNameError\u001b[0m: name 'thislinewillstopthenotebookfromrunningthecellsbelow' is not defined"
     ]
    }
   ],
   "source": [
    "print(thislinewillstopthenotebookfromrunningthecellsbelow)"
   ]
  },
  {
   "cell_type": "code",
   "execution_count": null,
   "id": "db9a7c14",
   "metadata": {},
   "outputs": [],
   "source": [
    "for i in range(N_TIMESTEPS):\n",
    "\n",
    "    ###########################################################################\n",
    "    ###########################################################################\n",
    "    bucket_nn.set_value(PRECIP_SVN, torch.tensor(network_precip_input_list[i], requires_grad=True))\n",
    "    if bucket_nn.do_predict_theta_with_lstm:\n",
    "        sequence_tensors = []\n",
    "        tensor_device = bucket_nn.network[0]['H'].device\n",
    "        tensor_dtype = torch.float32\n",
    "        if i >= bucket_nn.input_u_sequence_length:\n",
    "            sequence_tensors = [torch.tensor([item], device=tensor_device, dtype=tensor_dtype) \n",
    "                                for item in network_precip_input_list[i-bucket_nn.input_u_sequence_length:i]]\n",
    "        else:\n",
    "            desired_tensor_shape = (1,)\n",
    "            padding_size = bucket_nn.input_u_sequence_length - i\n",
    "            padding_tensors = [torch.zeros(desired_tensor_shape, device=tensor_device, dtype=tensor_dtype) \n",
    "                            for _ in range(padding_size)]\n",
    "            sequence_tensors = padding_tensors + [torch.tensor([item], device=tensor_device, dtype=tensor_dtype) \n",
    "                                                for item in network_precip_input_list[:i]]\n",
    "        sequence = torch.stack(sequence_tensors).view(1, -1)\n",
    "        bucket_nn.set_value(PRECIP_SVN_SEQ, sequence)\n",
    "\n",
    "\n",
    "    bucket_nn.update()\n",
    "    network_outflow_list_1b.append(bucket_nn.network_outflow.item())\n",
    "    bucket_nn.summarize_network()\n",
    "\n",
    "    if i in [180, 200]:\n",
    "        print(bucket_nn.theta)\n",
    "        print(bucket_nn.get_the_H_tensor())\n",
    "    ###########################################################################\n",
    "    ###########################################################################\n",
    "\n",
    "    if DO_PLOT:\n",
    "        if i % int(N_TIMESTEPS/10) == 0:\n",
    "            plt.plot([tensor.item() for tensor in bucket_nn.mean_H_per_layer])\n",
    "\n",
    "###########################################################################\n",
    "network_outflow_tensor_1 = torch.tensor(network_outflow_list_1b, requires_grad=True)\n",
    "bucket_nn.report_out_mass_balance()\n",
    "\n",
    "origional_bucket_theta = copy.deepcopy(bucket_nn.theta.detach())\n",
    "\n",
    "if DO_PLOT:\n",
    "    plt.title(\"Mean head in each bucket per layer\")\n",
    "    plt.ylabel(\"Average head per layer\")\n",
    "    plt.xlabel(\"Network Layers\")\n",
    "    plt.show()\n",
    "    plt.close()\n",
    "\n",
    "if DO_PLOT:\n",
    "    startplt = 0\n",
    "    endplt = 250\n",
    "\n",
    "    plt.plot(network_precip_input_list, c=\"grey\", lw=0.5, label=\"Precipitation input\")\n",
    "    plt.plot(network_outflow_list_1b, label=\"Flow out of network\")\n",
    "    plt.xlim([startplt, endplt])\n",
    "    plt.ylim([0, torch.max(torch.tensor(network_precip_input_list)[startplt:endplt]).item()])\n",
    "    plt.legend()\n",
    "    plt.title(\"Warmup period\")\n",
    "    plt.show()\n",
    "    plt.close()\n",
    "    startplt = int(len(network_outflow_list_1b)-(len(network_outflow_list_1b)/2))\n",
    "    endplt = int(len(network_outflow_list_1b))\n",
    "    plt.plot(network_precip_input_list, c=\"grey\", lw=0.5, label=\"Precipitation input\")\n",
    "    plt.plot(network_outflow_list_1b, label=\"Flow out of network\")\n",
    "    plt.xlim([startplt, endplt])\n",
    "    plt.legend()\n",
    "    plt.title(\"Flow out from network and precip\")\n",
    "    plt.show()\n",
    "    plt.close()"
   ]
  },
  {
   "cell_type": "code",
   "execution_count": null,
   "id": "d6a76eb6",
   "metadata": {},
   "outputs": [],
   "source": [
    "#print(thiscellwillstopthenotebookbeforethepureneuralnetworksaretrained)"
   ]
  },
  {
   "cell_type": "code",
   "execution_count": null,
   "id": "29e37cad",
   "metadata": {},
   "outputs": [],
   "source": [
    "import numpy as np\n",
    "import torch.nn as nn\n",
    "from torch.optim.lr_scheduler import StepLR\n",
    "from torch.autograd import Variable \n",
    "if torch.cuda.is_available():\n",
    "    device = torch.device(\"cuda:0\")\n",
    "    print(\"Using CUDA device: \", torch.cuda.get_device_name(0))\n",
    "else:\n",
    "    device = 'cpu'"
   ]
  },
  {
   "cell_type": "code",
   "execution_count": null,
   "id": "ad2e9bae",
   "metadata": {},
   "outputs": [],
   "source": [
    "# Convert arrays to PyTorch tensors\n",
    "x_input = torch.FloatTensor(network_precip_tensor.detach().numpy())\n",
    "y_target = torch.FloatTensor(network_outflow_tensor_0.detach().numpy())\n",
    "\n",
    "# Define the sequence length (you can adjust this)\n",
    "seq_length = 12\n",
    "\n",
    "# Function to create sequences\n",
    "def create_sequences(input_data, target_data, seq_length):\n",
    "    xs, ys = [], []\n",
    "    for i in range(len(input_data)-seq_length):\n",
    "        x_seq = input_data[i:i+seq_length]\n",
    "        y_seq = target_data[i+seq_length]\n",
    "        xs.append(x_seq)\n",
    "        ys.append(y_seq)\n",
    "    return torch.stack(xs), torch.stack(ys)\n",
    "\n",
    "X, y = create_sequences(x_input, y_target, seq_length)\n",
    "\n",
    "class LSTMModel(nn.Module):\n",
    "    def __init__(self, input_size=1, hidden_layer_size=256, output_size=1, num_layers=1):\n",
    "        super().__init__()\n",
    "        self.hidden_layer_size = hidden_layer_size\n",
    "        self.lstm = nn.LSTM(input_size, hidden_layer_size, num_layers=num_layers)\n",
    "        self.linear = nn.Linear(hidden_layer_size, output_size)\n",
    "\n",
    "    def forward(self, input_seq):\n",
    "        lstm_out, _ = self.lstm(input_seq.view(len(input_seq), 1, -1))\n",
    "        predictions = self.linear(lstm_out.view(len(input_seq), -1))\n",
    "        return predictions[-1]\n",
    "\n",
    "model = LSTMModel()\n",
    "loss_function = nn.MSELoss()\n",
    "optimizer = torch.optim.Adam(model.parameters(), lr=0.001)\n",
    "\n",
    "epochs = 5\n",
    "for epoch in range(epochs):\n",
    "    for seq, labels in zip(X, y):\n",
    "        optimizer.zero_grad()\n",
    "        y_pred = model(seq)\n",
    "        single_loss = loss_function(y_pred, labels)\n",
    "        single_loss.backward()\n",
    "        optimizer.step()\n",
    "\n",
    "    if epoch % 1 == 0:\n",
    "        print(f'epoch: {epoch} loss: {single_loss.item()}')\n",
    "\n",
    "print(f'Final loss: {single_loss.item()}')\n",
    "\n",
    "\n",
    "\n",
    "\n",
    "predictions = []\n",
    "model.eval()\n",
    "with torch.no_grad():\n",
    "    for seq in X:\n",
    "        predictions.append(model(seq).item())\n",
    "\n",
    "# Convert predictions to a numpy array for easy plotting\n",
    "predictions_np = np.array(predictions)\n",
    "plt.figure(figsize=(12, 6))\n",
    "plt.title(\"LSTM Predictions vs Actual Data\")\n",
    "plt.xlabel(\"Time Steps\")\n",
    "plt.ylabel(\"Output\")\n",
    "plt.plot(x_input.numpy()[seq_length:], label='Precipitation', alpha=0.7)\n",
    "plt.plot(y_target.numpy()[seq_length:], label='Actual Outflow', alpha=0.7)\n",
    "plt.plot(predictions_np, label='Predicted Outflow', alpha=0.7, linestyle='--')\n",
    "plt.legend()\n",
    "plt.show()\n"
   ]
  },
  {
   "cell_type": "code",
   "execution_count": null,
   "id": "f6a8e2fb",
   "metadata": {},
   "outputs": [],
   "source": [
    "# Convert arrays to PyTorch tensors\n",
    "x_input = torch.FloatTensor(network_precip_tensor.detach().numpy())\n",
    "y_target = torch.FloatTensor(network_outflow_tensor_0.detach().numpy())\n",
    "\n",
    "# Define the sequence length (you can adjust this)\n",
    "seq_length = 35\n",
    "\n",
    "# Function to create sequences\n",
    "def create_sequences(input_data, target_data, seq_length):\n",
    "    xs, ys = [], []\n",
    "    for i in range(len(input_data) - seq_length):\n",
    "        x_seq = input_data[i:i + seq_length]\n",
    "        y_seq = target_data[i + seq_length]\n",
    "        xs.append(x_seq)\n",
    "        ys.append(y_seq)\n",
    "    return torch.stack(xs), torch.stack(ys)\n",
    "\n",
    "X, y = create_sequences(x_input, y_target, seq_length)\n",
    "\n",
    "# Feedforward Neural Network Model\n",
    "class FFNNModel(nn.Module):\n",
    "    def __init__(self, input_size, hidden_layer_size=3, output_size=1):\n",
    "        super().__init__()\n",
    "        self.hidden_layer_size = hidden_layer_size\n",
    "\n",
    "        # Define your feedforward layers here\n",
    "        self.fc1 = nn.Linear(input_size, hidden_layer_size)\n",
    "        self.relu1 = nn.ReLU()\n",
    "        self.fc2 = nn.Linear(hidden_layer_size, hidden_layer_size)\n",
    "        self.relu2 = nn.ReLU()\n",
    "        self.fc3 = nn.Linear(hidden_layer_size, hidden_layer_size)\n",
    "        self.fc4 = nn.Linear(hidden_layer_size, output_size)\n",
    "\n",
    "    def forward(self, input_seq):\n",
    "        self.activations = []\n",
    "        x = self.fc1(input_seq)\n",
    "        self.activations.append(x.detach().numpy())  # Record activation\n",
    "        x = self.relu1(x)\n",
    "        self.activations.append(x.detach().numpy())  # Record activation\n",
    "        x = self.fc2(x)\n",
    "        self.activations.append(x.detach().numpy())  # Record activation\n",
    "        x = self.relu2(x)\n",
    "        self.activations.append(x.detach().numpy())  # Record activation\n",
    "        x = self.fc3(x)\n",
    "        self.activations.append(x.detach().numpy())  # Record activation\n",
    "        predictions = self.fc4(x)\n",
    "        return predictions[-1]\n",
    "\n",
    "model = FFNNModel(input_size=seq_length)\n",
    "loss_function = nn.MSELoss()\n",
    "optimizer = torch.optim.Adam(model.parameters(), lr=0.006)\n",
    "scheduler = StepLR(optimizer, step_size=1, gamma=0.99, verbose=True)\n",
    "\n",
    "epochs = 150\n",
    "for epoch in range(epochs):\n",
    "    for seq, labels in zip(X, y):\n",
    "        optimizer.zero_grad()\n",
    "        y_pred = model(seq)\n",
    "        single_loss = loss_function(y_pred, labels)\n",
    "        single_loss.backward()\n",
    "        optimizer.step()\n",
    "    \n",
    "    scheduler.step()\n",
    "    if epoch % 1 == 0:\n",
    "        print(f'epoch: {epoch} loss: {single_loss.item():.4f}')\n",
    "\n",
    "print(f'Final loss: {single_loss.item()}')"
   ]
  },
  {
   "cell_type": "code",
   "execution_count": null,
   "id": "51d416ce",
   "metadata": {},
   "outputs": [],
   "source": [
    "x_input.shape, y_target.shape, predictions_np.shape"
   ]
  },
  {
   "cell_type": "code",
   "execution_count": null,
   "id": "6f70ecd5",
   "metadata": {},
   "outputs": [],
   "source": [
    "predictions = []\n",
    "model.eval()\n",
    "with torch.no_grad():\n",
    "    for i, seq in enumerate(X):\n",
    "        predictions.append(model(seq).item())\n",
    "predictions_np = np.array(predictions)\n",
    "\n",
    "DO_PLOT = True\n",
    "if DO_PLOT:\n",
    "    startplt = 230\n",
    "    endplt = 280\n",
    "    bigfontsize = 22\n",
    "    smallfontsize = 16\n",
    "    # Set figure size to 7 inches wide\n",
    "    figure_width = 7  # inches\n",
    "    aspect_ratio = 3 / 2  # Adjust as needed for your plot\n",
    "    figure_height = figure_width / aspect_ratio\n",
    "\n",
    "    plt.figure(figsize=(figure_width, figure_height))\n",
    "\n",
    "    # Set color\n",
    "    light_blue_color = \"#3D68CA\"\n",
    "    line_and_text_color = \"#0D3F6E\"\n",
    "\n",
    "    # Plot each series with specified color\n",
    "    plt.plot(network_precip_input_list[startplt:endplt], c=light_blue_color, lw=10, label=\"Precipitation input\")\n",
    "    plt.plot(network_outflow_list_0[startplt:endplt], c=\"k\", lw=10, label=\"Target hydrograph \")\n",
    "    # plt.plot(network_outflow_list_1a[startplt:endplt], \"--\", lw=5, c=line_and_text_color, label=\"Pre-trained network\")\n",
    "    plt.plot(predictions_np[startplt-seq_length:endplt-seq_length], \"--\", lw=10, c=line_and_text_color, label=\"Trained bucket network\")\n",
    "\n",
    "    network_precip_tensor = torch.tensor(network_precip_input_list)\n",
    "    max_value = torch.max(network_precip_tensor[startplt:endplt]).item()\n",
    "    plt.ylim([0, max_value * 1.2])\n",
    "\n",
    "    plt.yticks([])\n",
    "    plt.xticks([])\n",
    "    plt.ylabel(\"Unit hydrograph\", fontsize=bigfontsize, color=line_and_text_color)\n",
    "    plt.xlabel(\"Time\", fontsize=bigfontsize, color=line_and_text_color)\n",
    "\n",
    "    # Modify legend to have a transparent background\n",
    "    #plt.legend(fontsize=smallfontsize, edgecolor=line_and_text_color, framealpha=0.5)  # Adjust framealpha as needed\n",
    "\n",
    "    #plt.title(\"Flow out from network and precip\", fontsize=bigfontsize, color=line_and_text_color)\n",
    "\n",
    "    # Save the figure with transparent background and at 300 DPI\n",
    "    #plt.show()\n",
    "    plt.savefig(\"./figs/ffn_plot.png\", transparent=True, dpi=300)\n",
    "\n",
    "    plt.close()"
   ]
  },
  {
   "cell_type": "markdown",
   "metadata": {},
   "source": [
    "def plot_the_time_series(x_input, y_target, predictions_np, seq_length):\n",
    "    plt.figure(figsize=(12, 6))\n",
    "    plt.title(\"FFNN Predictions vs Actual Data\")\n",
    "    plt.xlabel(\"Time Steps\")\n",
    "    plt.ylabel(\"Output\")\n",
    "    plt.plot(x_input.numpy()[seq_length:], label='Precipitation', alpha=0.7)\n",
    "    plt.plot(y_target.numpy()[seq_length:], label='Actual Outflow', alpha=0.7)\n",
    "    plt.plot(predictions_np, label='Predicted Outflow', alpha=0.7, linestyle='--')\n",
    "    plt.legend()\n",
    "    plt.show()\n",
    "    plt.close()\n",
    "predictions = []\n",
    "model.eval()\n",
    "with torch.no_grad():\n",
    "    for i, seq in enumerate(X):\n",
    "        predictions.append(model(seq).item())\n",
    "predictions_np = np.array(predictions)\n",
    "plot_the_time_series(x_input, y_target, predictions_np, seq_length)"
   ]
  },
  {
   "cell_type": "code",
   "execution_count": null,
   "id": "9ac67c20",
   "metadata": {},
   "outputs": [],
   "source": [
    "import imageio\n",
    "import seaborn as sns\n",
    "import matplotlib.colors as mcolors\n",
    "from matplotlib.cm import ScalarMappable"
   ]
  },
  {
   "cell_type": "code",
   "execution_count": null,
   "id": "f4548040",
   "metadata": {},
   "outputs": [],
   "source": [
    "#print(thiscellwillstopthenotebookbeforetheanimationismade)"
   ]
  },
  {
   "cell_type": "code",
   "execution_count": null,
   "id": "e464dee7",
   "metadata": {},
   "outputs": [],
   "source": [
    "def visualize_layer_connections_with_annotations(model, input_seq, title):\n",
    "    model(input_seq)  # Forward pass to record activations\n",
    "    activations = model.activations\n",
    "\n",
    "    # Concatenate activations horizontally\n",
    "    concatenated_activations = np.hstack([activation.reshape(-1, 1) for activation in activations])\n",
    "\n",
    "    # Plotting\n",
    "    plt.figure(figsize=(3, 2))  # Adjust the figure size as needed\n",
    "    ax = sns.heatmap(concatenated_activations, annot=True, fmt=\".2f\", cmap=\"viridis\", annot_kws={\"size\": 8})\n",
    "    plt.title(title)\n",
    "    plt.xlabel(\"Layer Neurons\")\n",
    "    plt.ylabel(\"Activation\")\n",
    "    plt.show()\n",
    "\n",
    "# Usage\n",
    "for i in [50, 75]:\n",
    "    visualize_layer_connections_with_annotations(model, X[i], f\"Neuron Connections at x={i}\")\n"
   ]
  },
  {
   "cell_type": "code",
   "execution_count": null,
   "id": "57851cb4",
   "metadata": {},
   "outputs": [],
   "source": []
  },
  {
   "cell_type": "code",
   "execution_count": null,
   "id": "9ec5503f",
   "metadata": {},
   "outputs": [],
   "source": []
  },
  {
   "cell_type": "code",
   "execution_count": null,
   "id": "0891b699",
   "metadata": {},
   "outputs": [],
   "source": []
  },
  {
   "cell_type": "code",
   "execution_count": null,
   "id": "4d66a68b",
   "metadata": {},
   "outputs": [],
   "source": [
    "def network_visualization_subplot(model, input_seq, layer_sizes, title, ax):\n",
    "    model(input_seq)  # Forward pass to record activations\n",
    "    activations = model.activations\n",
    "\n",
    "    # Create a color map\n",
    "    cmap = plt.get_cmap('viridis')\n",
    "\n",
    "    # Normalize the activation values to [-5, 5] for the color map\n",
    "    norm = mcolors.Normalize(vmin=-5, vmax=5)\n",
    "\n",
    "    # Number of layers including input and output\n",
    "    num_layers = len(layer_sizes)\n",
    "\n",
    "    # List to store node positions, to be used to draw the edges\n",
    "    node_positions = {}\n",
    "\n",
    "    # Generate positions for each layer\n",
    "    for i, size in enumerate(layer_sizes):\n",
    "        # Vertical positions\n",
    "        v_positions = np.linspace(0, 1, size + 2)[1:-1]\n",
    "\n",
    "        # Horizontal position\n",
    "        h_position = i / (num_layers - 1)\n",
    "\n",
    "        # Draw nodes\n",
    "        for j, v in enumerate(v_positions):\n",
    "            activation = 0\n",
    "            if i > 0:  # Skip input layer for activations\n",
    "                activation = activations[i-1][j]\n",
    "            color = cmap(norm(activation))\n",
    "\n",
    "            circle = plt.Circle((h_position, v), 0.05, color=color, zorder=4)\n",
    "            ax.add_artist(circle)\n",
    "            node_positions[(i, j)] = (h_position, v)\n",
    "\n",
    "            # Optionally, add activation values as text inside the nodes\n",
    "            # plt.text(h_position, v, f'{activation:.2f}', ha='center', va='center', color='white', fontsize=8)\n",
    "\n",
    "    # Draw edges\n",
    "    for i in range(num_layers - 1):\n",
    "        for j in range(layer_sizes[i]):\n",
    "            for k in range(layer_sizes[i + 1]):\n",
    "                start_pos = node_positions[(i, j)]\n",
    "                end_pos = node_positions[(i + 1, k)]\n",
    "                line = plt.Line2D([start_pos[0], end_pos[0]], [start_pos[1], end_pos[1]], c='black', alpha=0.3)\n",
    "                ax.add_line(line)\n",
    "\n",
    "    mappable = ScalarMappable(norm=norm, cmap=cmap)\n",
    "\n",
    "    # Add a colorbar\n",
    "    plt.colorbar(mappable, ax=ax, orientation='vertical', fraction=0.046, pad=0.04)\n",
    "\n",
    "    # Set title and turn off axis\n",
    "    ax.set_title(title)\n",
    "    ax.axis('off')\n"
   ]
  },
  {
   "cell_type": "code",
   "execution_count": null,
   "id": "b9741cf2",
   "metadata": {},
   "outputs": [],
   "source": [
    "def plot_the_time_series_subplot(x_input, y_target, predictions_np, seq_length, t, ax):\n",
    "    ax.set_title(\"FFNN Predictions vs Actual Data\")\n",
    "    ax.set_xlabel(\"Time Steps\")\n",
    "    ax.set_ylabel(\"Output\")\n",
    "    ax.plot(x_input.numpy()[seq_length:], label='Precipitation', alpha=0.7)\n",
    "    ax.plot(y_target.numpy()[seq_length:], label='Actual Outflow', alpha=0.7)\n",
    "    ax.plot(predictions_np, label='Predicted Outflow', alpha=0.7, linestyle='--')\n",
    "    ax.axvline(x=t, color='red', linestyle='--')  # Vertical line\n",
    "    ax.legend()"
   ]
  },
  {
   "cell_type": "code",
   "execution_count": null,
   "id": "15bda8f0",
   "metadata": {},
   "outputs": [],
   "source": [
    "# Define the size of each layer (including input and output layers)\n",
    "layer_sizes = [1, 3, 3, 3, 1]  # Example: input layer with 35 nodes, three hidden layers with 3 nodes each, and an output layer with 1 node\n",
    "\n",
    "# Usage\n",
    "for t in range(1,200):\n",
    "\n",
    "    fig, (ax1, ax2) = plt.subplots(2, 1, figsize=(12, 12))\n",
    "\n",
    "    # Network visualization on the first subplot\n",
    "    network_visualization_subplot(model, X[t], layer_sizes, f\"Neural Network Visualization at t={t}\", ax1)\n",
    "\n",
    "    # Time series plot on the second subplot\n",
    "    plot_the_time_series_subplot(x_input, y_target, predictions_np, seq_length, t, ax2)\n",
    "\n",
    "    plt.tight_layout()\n",
    "    plt.savefig(f\"./figs/network_plot/combined_frame_{t}.png\")\n",
    "    plt.close(fig)"
   ]
  },
  {
   "cell_type": "code",
   "execution_count": null,
   "id": "64095e3d",
   "metadata": {},
   "outputs": [],
   "source": [
    "filenames = [f\"./figs/network_plot/combined_frame_{t}.png\" for t in range(1, 200)]\n",
    "images = [imageio.imread(filename) for filename in filenames]\n",
    "imageio.mimsave('network_animation.gif', images, fps=2)  # Adjust fps as needed"
   ]
  },
  {
   "cell_type": "code",
   "execution_count": null,
   "id": "bc7e6a4e",
   "metadata": {},
   "outputs": [],
   "source": []
  },
  {
   "cell_type": "code",
   "execution_count": null,
   "id": "9382c53a",
   "metadata": {},
   "outputs": [],
   "source": []
  },
  {
   "cell_type": "code",
   "execution_count": null,
   "metadata": {},
   "outputs": [],
   "source": []
  }
 ],
 "metadata": {
  "kernelspec": {
   "display_name": "Python 3",
   "language": "python",
   "name": "python3"
  },
  "language_info": {
   "codemirror_mode": {
    "name": "ipython",
    "version": 3
   },
   "file_extension": ".py",
   "mimetype": "text/x-python",
   "name": "python",
   "nbconvert_exporter": "python",
   "pygments_lexer": "ipython3",
   "version": "3.10.12"
  }
 },
 "nbformat": 4,
 "nbformat_minor": 5
}

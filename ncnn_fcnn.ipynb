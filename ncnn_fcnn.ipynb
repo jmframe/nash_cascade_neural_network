{
 "cells": [
  {
   "cell_type": "code",
   "execution_count": 1,
   "id": "45cb35ce-803e-43be-b263-4a1a0f3bb6a3",
   "metadata": {
    "tags": []
   },
   "outputs": [],
   "source": [
    "# Nash Cascade Neural Network\n",
    "# A hydrologically intuitive deep learning network\n",
    "\n",
    "# Set up a solution to a network of buckets where the number of buckets in each layer\n",
    "# flows out to the buckets in the next layer\n",
    "# The parameter on each bucket is the size and height of each spigot.\n",
    "\n",
    "# Need a function that solves this individually at a single buckets\n",
    "# Then a function that loops through and moves the water to the downstream buckets"
   ]
  },
  {
   "cell_type": "code",
   "execution_count": 2,
   "id": "62bab940-cde5-4ff0-8897-75fdf2ebec52",
   "metadata": {
    "tags": []
   },
   "outputs": [],
   "source": [
    "import torch\n",
    "import numpy as np\n",
    "import copy\n",
    "import matplotlib.pyplot as plt\n",
    "from ncn_fcnn import NashCascadeNetwork as ncn\n",
    "from ncn_fcnn import train_model as train_ncnn\n",
    "import matplotlib.font_manager as font_manager\n",
    "# Precipitation standard variable name used in the ncnn model interface\n",
    "PRECIP_SVN = \"atmosphere_water__liquid_equivalent_precipitation_rate\"\n",
    "PRECIP_SVN_SEQ = \"atmosphere_water__liquid_equivalent_precipitation_rate_seq\"\n",
    "PRECIP_RECORD = \"atmosphere_water__liquid_equivalent_precipitation_rate_record\"\n",
    "DO_PLOT = True\n",
    "N_TIMESTEPS = 300"
   ]
  },
  {
   "cell_type": "code",
   "execution_count": 3,
   "id": "a46bcc71",
   "metadata": {},
   "outputs": [],
   "source": [
    "network_precip_input_list = []\n",
    "count = 0\n",
    "unit_precip = 6.0\n",
    "for i in range(N_TIMESTEPS):\n",
    "\n",
    "    ###########################################################################\n",
    "    if count == 0:\n",
    "        network_precip_input_list.append(unit_precip)\n",
    "    elif count > 45:\n",
    "        network_precip_input_list.append(unit_precip)\n",
    "    else:\n",
    "        network_precip_input_list.append(np.random.random()*unit_precip/10)\n",
    "    if count == 50:\n",
    "        count = 0\n",
    "    count+=1\n",
    "    ###########################################################################\n",
    "network_precip_tensor = torch.tensor(network_precip_input_list, requires_grad=False)\n",
    "total_mass_precip_in = torch.sum(network_precip_tensor)"
   ]
  },
  {
   "cell_type": "code",
   "execution_count": 4,
   "id": "92cb4cbf-61b3-4566-a9e0-37d15e846fc1",
   "metadata": {},
   "outputs": [
    {
     "name": "stdout",
     "output_type": "stream",
     "text": [
      "Using device: cpu\n",
      "--------------\n",
      "-----------\n",
      "-------------\n",
      "\n",
      "INITIAL THETA VALUES\n",
      "tensor([0.5349, 0.5402, 0.5022, 0.5169, 0.5294], requires_grad=True)\n",
      "--------------\n",
      "-----------\n",
      "-------------\n",
      "\n",
      "Initial Mass in network at start: 20.0\n",
      "Initial Mass in network: 20.0\n",
      "Final Mass in network: 36.4\n",
      "Total Mass out of network 245.6\n",
      "Total precipitation into network 262.0\n",
      "Mass balance for network is -0.000\n"
     ]
    },
    {
     "data": {
      "text/plain": [
       "tensor([0.5349, 0.5402, 0.5022, 0.5169, 0.5294])"
      ]
     },
     "execution_count": 4,
     "metadata": {},
     "output_type": "execute_result"
    }
   ],
   "source": [
    "# Example 0\n",
    "bucket_net = ncn(cfg_file=\"./config_0.json\")\n",
    "bucket_net.initialize()\n",
    "bucket_net.unit_precip = unit_precip\n",
    "bucket_net.summarize_network()\n",
    "inital_mass_in_network = torch.sum(torch.tensor([tensor.item() for tensor in bucket_net.sum_H_per_layer]))\n",
    "print(f\"Initial Mass in network at start: {inital_mass_in_network:.1f}\")\n",
    "network_outflow_list_0 = []\n",
    "for i in range(N_TIMESTEPS):\n",
    "\n",
    "    ###########################################################################\n",
    "    ###########################################################################\n",
    "    bucket_net.set_value(PRECIP_SVN, torch.tensor(network_precip_input_list[i], requires_grad=False))\n",
    "    bucket_net.update()\n",
    "    network_outflow_list_0.append(bucket_net.network_outflow.item())\n",
    "    bucket_net.summarize_network()\n",
    "    ###########################################################################\n",
    "    ###########################################################################\n",
    "\n",
    "network_outflow_tensor_0 = torch.tensor(network_outflow_list_0, requires_grad=True)\n",
    "bucket_net.report_out_mass_balance()\n",
    "bucket_net.theta.detach()\n"
   ]
  },
  {
   "cell_type": "code",
   "execution_count": 5,
   "id": "694044a4",
   "metadata": {},
   "outputs": [],
   "source": [
    "#print(thislinewillstopthenotebookfromgoinganyfurther)"
   ]
  },
  {
   "cell_type": "code",
   "execution_count": 6,
   "id": "744fc71f",
   "metadata": {},
   "outputs": [
    {
     "name": "stdout",
     "output_type": "stream",
     "text": [
      "Using device: cpu\n",
      "--------------\n",
      "-----------\n",
      "-------------\n",
      "\n",
      "INITIAL THETA VALUES\n",
      "tensor([0.9957, 0.9947, 0.9961, 0.9927, 0.9942], requires_grad=True)\n",
      "--------------\n",
      "-----------\n",
      "-------------\n",
      "\n",
      "Initialized\n",
      "Initial Mass in network at start: 20.0\n",
      "Initial Mass in network: 20.0\n",
      "Final Mass in network: 44.0\n",
      "Total Mass out of network 238.0\n",
      "Total precipitation into network 262.0\n",
      "Mass balance for network is -0.000\n"
     ]
    }
   ],
   "source": [
    "# Example 1\n",
    "bucket_nn = ncn(cfg_file=\"./config_1_fcnn.json\")\n",
    "bucket_nn.initialize()\n",
    "bucket_nn.to(bucket_nn.device)\n",
    "bucket_nn.unit_precip = unit_precip\n",
    "print(\"Initialized\")\n",
    "inital_mass_in_network = torch.sum(torch.stack(bucket_nn.sum_H_per_layer)).item()\n",
    "print(f\"Initial Mass in network at start: {inital_mass_in_network:.1f}\")\n",
    "network_outflow_list_1a = []\n",
    "\n",
    "for i in range(N_TIMESTEPS):\n",
    "    # Set the current precipitation value\n",
    "    bucket_nn.set_value(PRECIP_SVN, torch.tensor(network_precip_input_list[i], requires_grad=True).to(bucket_nn.device))\n",
    "\n",
    "    # Update the network (this should internally prepare and use the FCNN inputs)\n",
    "    bucket_nn.update()\n",
    "    network_outflow_list_1a.append(bucket_nn.network_outflow.item())\n",
    "    bucket_nn.summarize_network()\n",
    "    ###########################################################################\n",
    "    ###########################################################################\n",
    "\n",
    "###########################################################################\n",
    "bucket_nn.report_out_mass_balance()\n",
    "\n",
    "origional_bucket_theta = copy.deepcopy(bucket_nn.theta.detach())\n"
   ]
  },
  {
   "cell_type": "code",
   "execution_count": 7,
   "id": "9ecf6571",
   "metadata": {},
   "outputs": [
    {
     "data": {
      "image/png": "[encoded data removed]",
      "text/plain": [
       "<Figure size 500x333.333 with 1 Axes>"
      ]
     },
     "metadata": {},
     "output_type": "display_data"
    }
   ],
   "source": [
    "startplt = 230\n",
    "endplt = 280\n",
    "bigfontsize = 12\n",
    "smallfontsize = 10\n",
    "# Set figure size to 7 inches wide\n",
    "figure_width = 5  # inches\n",
    "aspect_ratio = 3 / 2  # Adjust as needed for your plot\n",
    "figure_height = figure_width / aspect_ratio\n",
    "\n",
    "plt.figure(figsize=(figure_width, figure_height))\n",
    "\n",
    "# Set color\n",
    "light_blue_color = \"#3D68CA\"\n",
    "line_and_text_color = \"#0D3F6E\"\n",
    "\n",
    "# Plot each series with specified color\n",
    "plt.plot(network_precip_input_list[startplt:endplt], c=light_blue_color, lw=3, label=\"Precipitation input\")\n",
    "plt.plot(network_outflow_list_0[startplt:endplt], c=\"k\", lw=3, label=\"Target hydrograph \")\n",
    "plt.plot(network_outflow_list_1a[startplt:endplt], \"--\", lw=2, c=line_and_text_color, label=\"Pre-trained network\")\n",
    "\n",
    "network_precip_tensor = torch.tensor(network_precip_input_list)\n",
    "max_value = torch.max(network_precip_tensor[startplt:endplt]).item()\n",
    "\n",
    "plt.yticks([])\n",
    "plt.xticks([])\n",
    "plt.ylabel(\"Unit hydrograph\", fontsize=bigfontsize, color=line_and_text_color)\n",
    "plt.xlabel(\"Time\", fontsize=bigfontsize, color=line_and_text_color)\n",
    "\n",
    "# Modify legend to have a transparent background\n",
    "plt.legend(fontsize=smallfontsize, edgecolor=line_and_text_color, framealpha=0.5)  # Adjust framealpha as needed\n",
    "\n",
    "#    plt.title(\"Flow out from network and precip\", fontsize=bigfontsize, color=line_and_text_color)\n",
    "\n",
    "# Save the figure with transparent background and at 300 DPI\n",
    "plt.show()\n",
    "#plt.savefig(\"ncn_plot.png\", transparent=True, dpi=300)\n",
    "\n",
    "plt.close()"
   ]
  },
  {
   "cell_type": "code",
   "execution_count": 8,
   "id": "a8bce2db",
   "metadata": {},
   "outputs": [],
   "source": [
    "# print(thislinewillstopthenotebookfromrunningthecellsbelow)"
   ]
  },
  {
   "cell_type": "code",
   "execution_count": 9,
   "id": "217de549",
   "metadata": {},
   "outputs": [
    {
     "name": "stdout",
     "output_type": "stream",
     "text": [
      "INITIAL MODEL theta: tensor([0.5086, 0.4064, 0.3743, 0.4833, 0.5188], grad_fn=<SigmoidBackward0>)\n"
     ]
    },
    {
     "name": "stderr",
     "output_type": "stream",
     "text": [
      "/Users/jmframe/miniconda3/envs/bmi_lstm/lib/python3.10/site-packages/torch/optim/lr_scheduler.py:62: UserWarning: The verbose parameter is deprecated. Please use get_last_lr() to access the learning rate.\n",
      "  warnings.warn(\n"
     ]
    },
    {
     "name": "stdout",
     "output_type": "stream",
     "text": [
      "0.0889:loss  ----- Training EPOCH 0 --- theta: tensor([0.5086, 0.4064, 0.3743, 0.4833, 0.5188], grad_fn=<SigmoidBackward0>)\n",
      "Num non-zero gadients: 1, indices: 4, gradients: -0.0071702986024320126\n",
      "0.0739:loss  ----- Training EPOCH 1 --- theta: tensor([0.4853, 0.6511, 0.5753, 0.3569, 0.5595], grad_fn=<SigmoidBackward0>)\n",
      "Num non-zero gadients: 1, indices: 4, gradients: 0.006347618531435728\n",
      "0.4562:loss  ----- Training EPOCH 2 --- theta: tensor([0.4475, 0.4951, 0.5661, 0.1538, 0.1055], grad_fn=<SigmoidBackward0>)\n",
      "Num non-zero gadients: 1, indices: 4, gradients: 0.036698952317237854\n",
      "0.4052:loss  ----- Training EPOCH 3 --- theta: tensor([0.3272, 0.2379, 0.4466, 0.2627, 0.0717], grad_fn=<SigmoidBackward0>)\n",
      "Num non-zero gadients: 1, indices: 4, gradients: 0.043352480977773666\n",
      "0.3574:loss  ----- Training EPOCH 4 --- theta: tensor([0.1910, 0.2580, 0.3668, 0.4416, 0.0882], grad_fn=<SigmoidBackward0>)\n",
      "Num non-zero gadients: 1, indices: 4, gradients: 0.018256958574056625\n",
      "0.1754:loss  ----- Training EPOCH 5 --- theta: tensor([0.1333, 0.3789, 0.3813, 0.6374, 0.1808], grad_fn=<SigmoidBackward0>)\n",
      "Num non-zero gadients: 1, indices: 4, gradients: 0.00013804290210828185\n",
      "0.0256:loss  ----- Training EPOCH 6 --- theta: tensor([0.1507, 0.5360, 0.5249, 0.7839, 0.4146], grad_fn=<SigmoidBackward0>)\n",
      "Num non-zero gadients: 1, indices: 4, gradients: -0.007814905606210232\n",
      "0.0229:loss  ----- Training EPOCH 7 --- theta: tensor([0.1313, 0.6294, 0.6164, 0.8503, 0.6380], grad_fn=<SigmoidBackward0>)\n",
      "Num non-zero gadients: 1, indices: 4, gradients: -0.002635546727105975\n",
      "0.0359:loss  ----- Training EPOCH 8 --- theta: tensor([0.1132, 0.6957, 0.6626, 0.8813, 0.7861], grad_fn=<SigmoidBackward0>)\n",
      "Num non-zero gadients: 1, indices: 4, gradients: -0.0025633941404521465\n",
      "0.0373:loss  ----- Training EPOCH 9 --- theta: tensor([0.1332, 0.7518, 0.6597, 0.8978, 0.8672], grad_fn=<SigmoidBackward0>)\n",
      "Num non-zero gadients: 1, indices: 4, gradients: -0.0044928365387022495\n",
      "0.0338:loss  ----- Training EPOCH 10 --- theta: tensor([0.1861, 0.8039, 0.6224, 0.9065, 0.9124], grad_fn=<SigmoidBackward0>)\n",
      "Num non-zero gadients: 1, indices: 4, gradients: -0.007156983483582735\n",
      "0.0262:loss  ----- Training EPOCH 11 --- theta: tensor([0.2700, 0.8355, 0.5572, 0.9111, 0.9391], grad_fn=<SigmoidBackward0>)\n",
      "Num non-zero gadients: 1, indices: 4, gradients: -0.0059341066516935825\n",
      "0.0116:loss  ----- Training EPOCH 12 --- theta: tensor([0.2853, 0.8616, 0.4461, 0.9126, 0.9557], grad_fn=<SigmoidBackward0>)\n",
      "Num non-zero gadients: 1, indices: 4, gradients: -0.003979693166911602\n",
      "0.0086:loss  ----- Training EPOCH 13 --- theta: tensor([0.3970, 0.8672, 0.3454, 0.9145, 0.9665], grad_fn=<SigmoidBackward0>)\n",
      "Num non-zero gadients: 1, indices: 4, gradients: 0.004406910855323076\n",
      "0.0037:loss  ----- Training EPOCH 14 --- theta: tensor([0.5357, 0.8714, 0.3604, 0.9169, 0.9737], grad_fn=<SigmoidBackward0>)\n",
      "Num non-zero gadients: 1, indices: 4, gradients: 0.006500945892184973\n",
      "0.0062:loss  ----- Training EPOCH 15 --- theta: tensor([0.6506, 0.8745, 0.3879, 0.9188, 0.9787], grad_fn=<SigmoidBackward0>)\n",
      "Num non-zero gadients: 1, indices: 4, gradients: 0.006586773321032524\n",
      "0.0045:loss  ----- Training EPOCH 16 --- theta: tensor([0.7374, 0.8756, 0.3747, 0.9197, 0.9822], grad_fn=<SigmoidBackward0>)\n",
      "Num non-zero gadients: 1, indices: 4, gradients: 0.006787236779928207\n",
      "0.0056:loss  ----- Training EPOCH 17 --- theta: tensor([0.8005, 0.8756, 0.3485, 0.9201, 0.9849], grad_fn=<SigmoidBackward0>)\n",
      "Num non-zero gadients: 1, indices: 4, gradients: 0.00697491317987442\n",
      "0.0047:loss  ----- Training EPOCH 18 --- theta: tensor([0.8456, 0.8752, 0.3547, 0.9202, 0.9868], grad_fn=<SigmoidBackward0>)\n",
      "Num non-zero gadients: 1, indices: 4, gradients: 0.006971762981265783\n",
      "0.0047:loss  ----- Training EPOCH 19 --- theta: tensor([0.8778, 0.8742, 0.3771, 0.9200, 0.9883], grad_fn=<SigmoidBackward0>)\n",
      "Num non-zero gadients: 1, indices: 4, gradients: 0.006839181762188673\n",
      "0.0052:loss  ----- Training EPOCH 20 --- theta: tensor([0.9010, 0.8723, 0.3812, 0.9194, 0.9895], grad_fn=<SigmoidBackward0>)\n",
      "Num non-zero gadients: 1, indices: 4, gradients: 0.00680649233981967\n",
      "0.0041:loss  ----- Training EPOCH 21 --- theta: tensor([0.9180, 0.8694, 0.3655, 0.9183, 0.9904], grad_fn=<SigmoidBackward0>)\n",
      "Num non-zero gadients: 1, indices: 4, gradients: 0.006922481115907431\n",
      "0.0050:loss  ----- Training EPOCH 22 --- theta: tensor([0.9306, 0.8661, 0.3529, 0.9169, 0.9912], grad_fn=<SigmoidBackward0>)\n",
      "Num non-zero gadients: 1, indices: 4, gradients: 0.0069800736382603645\n",
      "0.0042:loss  ----- Training EPOCH 23 --- theta: tensor([0.9401, 0.8625, 0.3597, 0.9155, 0.9918], grad_fn=<SigmoidBackward0>)\n",
      "Num non-zero gadients: 1, indices: 4, gradients: 0.006932304706424475\n",
      "0.0042:loss  ----- Training EPOCH 24 --- theta: tensor([0.9474, 0.8586, 0.3743, 0.9140, 0.9923], grad_fn=<SigmoidBackward0>)\n",
      "Num non-zero gadients: 1, indices: 4, gradients: 0.0068161445669829845\n",
      "0.0045:loss  ----- Training EPOCH 25 --- theta: tensor([0.9531, 0.8541, 0.3789, 0.9122, 0.9927], grad_fn=<SigmoidBackward0>)\n",
      "Num non-zero gadients: 1, indices: 4, gradients: 0.0067539336159825325\n",
      "0.0038:loss  ----- Training EPOCH 26 --- theta: tensor([0.9576, 0.8489, 0.3707, 0.9100, 0.9930], grad_fn=<SigmoidBackward0>)\n",
      "Num non-zero gadients: 1, indices: 4, gradients: 0.006792941130697727\n",
      "0.0039:loss  ----- Training EPOCH 27 --- theta: tensor([0.9612, 0.8433, 0.3604, 0.9078, 0.9933], grad_fn=<SigmoidBackward0>)\n",
      "Num non-zero gadients: 1, indices: 4, gradients: 0.00682871276512742\n",
      "0.0040:loss  ----- Training EPOCH 28 --- theta: tensor([0.9641, 0.8376, 0.3595, 0.9056, 0.9935], grad_fn=<SigmoidBackward0>)\n",
      "Num non-zero gadients: 1, indices: 4, gradients: 0.0068013351410627365\n",
      "0.0035:loss  ----- Training EPOCH 29 --- theta: tensor([0.9665, 0.8320, 0.3678, 0.9034, 0.9937], grad_fn=<SigmoidBackward0>)\n",
      "Num non-zero gadients: 1, indices: 4, gradients: 0.006714781746268272\n",
      "0.0036:loss  ----- Training EPOCH 30 --- theta: tensor([0.9684, 0.8262, 0.3762, 0.9012, 0.9939], grad_fn=<SigmoidBackward0>)\n",
      "Num non-zero gadients: 1, indices: 4, gradients: 0.006611664779484272\n",
      "0.0036:loss  ----- Training EPOCH 31 --- theta: tensor([0.9700, 0.8198, 0.3776, 0.8988, 0.9940], grad_fn=<SigmoidBackward0>)\n",
      "Num non-zero gadients: 1, indices: 4, gradients: 0.0065572247840464115\n",
      "0.0032:loss  ----- Training EPOCH 32 --- theta: tensor([0.9714, 0.8128, 0.3725, 0.8963, 0.9941], grad_fn=<SigmoidBackward0>)\n",
      "Num non-zero gadients: 1, indices: 4, gradients: 0.006554020568728447\n",
      "0.0032:loss  ----- Training EPOCH 33 --- theta: tensor([0.9725, 0.8054, 0.3666, 0.8936, 0.9942], grad_fn=<SigmoidBackward0>)\n",
      "Num non-zero gadients: 1, indices: 4, gradients: 0.00654873950406909\n",
      "0.0032:loss  ----- Training EPOCH 34 --- theta: tensor([0.9734, 0.7982, 0.3656, 0.8911, 0.9943], grad_fn=<SigmoidBackward0>)\n",
      "Num non-zero gadients: 1, indices: 4, gradients: 0.0065052704885602\n",
      "0.0029:loss  ----- Training EPOCH 35 --- theta: tensor([0.9742, 0.7912, 0.3701, 0.8888, 0.9944], grad_fn=<SigmoidBackward0>)\n",
      "Num non-zero gadients: 1, indices: 4, gradients: 0.006421055644750595\n",
      "0.0028:loss  ----- Training EPOCH 36 --- theta: tensor([0.9749, 0.7842, 0.3764, 0.8865, 0.9945], grad_fn=<SigmoidBackward0>)\n",
      "Num non-zero gadients: 1, indices: 4, gradients: 0.006315724924206734\n",
      "0.0028:loss  ----- Training EPOCH 37 --- theta: tensor([0.9755, 0.7767, 0.3803, 0.8841, 0.9945], grad_fn=<SigmoidBackward0>)\n",
      "Num non-zero gadients: 1, indices: 4, gradients: 0.006222251337021589\n",
      "0.0026:loss  ----- Training EPOCH 38 --- theta: tensor([0.9760, 0.7686, 0.3801, 0.8815, 0.9946], grad_fn=<SigmoidBackward0>)\n",
      "Num non-zero gadients: 1, indices: 4, gradients: 0.006159505806863308\n",
      "0.0024:loss  ----- Training EPOCH 39 --- theta: tensor([0.9764, 0.7599, 0.3773, 0.8789, 0.9946], grad_fn=<SigmoidBackward0>)\n",
      "Num non-zero gadients: 1, indices: 4, gradients: 0.006116537377238274\n",
      "0.0024:loss  ----- Training EPOCH 40 --- theta: tensor([0.9768, 0.7511, 0.3748, 0.8763, 0.9947], grad_fn=<SigmoidBackward0>)\n",
      "Num non-zero gadients: 1, indices: 4, gradients: 0.006065896712243557\n",
      "0.0023:loss  ----- Training EPOCH 41 --- theta: tensor([0.9771, 0.7425, 0.3749, 0.8738, 0.9947], grad_fn=<SigmoidBackward0>)\n",
      "Num non-zero gadients: 1, indices: 4, gradients: 0.005990911275148392\n",
      "0.0021:loss  ----- Training EPOCH 42 --- theta: tensor([0.9774, 0.7341, 0.3779, 0.8714, 0.9947], grad_fn=<SigmoidBackward0>)\n",
      "Num non-zero gadients: 1, indices: 4, gradients: 0.005888970568776131\n",
      "0.0020:loss  ----- Training EPOCH 43 --- theta: tensor([0.9776, 0.7260, 0.3822, 0.8692, 0.9948], grad_fn=<SigmoidBackward0>)\n",
      "Num non-zero gadients: 1, indices: 4, gradients: 0.005768806207925081\n",
      "0.0019:loss  ----- Training EPOCH 44 --- theta: tensor([0.9778, 0.7176, 0.3862, 0.8670, 0.9948], grad_fn=<SigmoidBackward0>)\n",
      "Num non-zero gadients: 1, indices: 4, gradients: 0.005645332392305136\n",
      "0.0018:loss  ----- Training EPOCH 45 --- theta: tensor([0.9780, 0.7089, 0.3884, 0.8647, 0.9948], grad_fn=<SigmoidBackward0>)\n",
      "Num non-zero gadients: 1, indices: 4, gradients: 0.005532640032470226\n",
      "0.0017:loss  ----- Training EPOCH 46 --- theta: tensor([0.9782, 0.6997, 0.3890, 0.8623, 0.9948], grad_fn=<SigmoidBackward0>)\n",
      "Num non-zero gadients: 1, indices: 4, gradients: 0.0054323202930390835\n",
      "0.0015:loss  ----- Training EPOCH 47 --- theta: tensor([0.9783, 0.6902, 0.3886, 0.8599, 0.9948], grad_fn=<SigmoidBackward0>)\n",
      "Num non-zero gadients: 1, indices: 4, gradients: 0.005338634364306927\n",
      "0.0014:loss  ----- Training EPOCH 48 --- theta: tensor([0.9784, 0.6809, 0.3883, 0.8576, 0.9948], grad_fn=<SigmoidBackward0>)\n",
      "Num non-zero gadients: 1, indices: 4, gradients: 0.005240177270025015\n",
      "0.0014:loss  ----- Training EPOCH 49 --- theta: tensor([0.9785, 0.6719, 0.3891, 0.8554, 0.9949], grad_fn=<SigmoidBackward0>)\n",
      "Num non-zero gadients: 1, indices: 4, gradients: 0.005130375269800425\n",
      "0.0013:loss  ----- Training EPOCH 50 --- theta: tensor([0.9786, 0.6635, 0.3911, 0.8534, 0.9949], grad_fn=<SigmoidBackward0>)\n",
      "Num non-zero gadients: 1, indices: 4, gradients: 0.005006380844861269\n",
      "0.0012:loss  ----- Training EPOCH 51 --- theta: tensor([0.9787, 0.6556, 0.3941, 0.8515, 0.9949], grad_fn=<SigmoidBackward0>)\n",
      "Num non-zero gadients: 1, indices: 4, gradients: 0.004871839191764593\n",
      "0.0011:loss  ----- Training EPOCH 52 --- theta: tensor([0.9787, 0.6481, 0.3975, 0.8497, 0.9949], grad_fn=<SigmoidBackward0>)\n",
      "Num non-zero gadients: 1, indices: 4, gradients: 0.0047325133346021175\n",
      "0.0010:loss  ----- Training EPOCH 53 --- theta: tensor([0.9788, 0.6409, 0.4005, 0.8479, 0.9949], grad_fn=<SigmoidBackward0>)\n",
      "Num non-zero gadients: 1, indices: 4, gradients: 0.0045949979685246944\n",
      "0.0010:loss  ----- Training EPOCH 54 --- theta: tensor([0.9788, 0.6338, 0.4030, 0.8462, 0.9949], grad_fn=<SigmoidBackward0>)\n",
      "Num non-zero gadients: 1, indices: 4, gradients: 0.004464436788111925\n",
      "0.0009:loss  ----- Training EPOCH 55 --- theta: tensor([0.9789, 0.6268, 0.4048, 0.8445, 0.9949], grad_fn=<SigmoidBackward0>)\n",
      "Num non-zero gadients: 1, indices: 4, gradients: 0.004345776047557592\n",
      "0.0009:loss  ----- Training EPOCH 56 --- theta: tensor([0.9789, 0.6201, 0.4059, 0.8429, 0.9949], grad_fn=<SigmoidBackward0>)\n",
      "Num non-zero gadients: 1, indices: 4, gradients: 0.004236793611198664\n",
      "0.0009:loss  ----- Training EPOCH 57 --- theta: tensor([0.9789, 0.6137, 0.4068, 0.8413, 0.9949], grad_fn=<SigmoidBackward0>)\n",
      "Num non-zero gadients: 1, indices: 4, gradients: 0.004136943258345127\n",
      "0.0008:loss  ----- Training EPOCH 58 --- theta: tensor([0.9790, 0.6079, 0.4077, 0.8399, 0.9949], grad_fn=<SigmoidBackward0>)\n",
      "Num non-zero gadients: 1, indices: 4, gradients: 0.004043306689709425\n",
      "0.0008:loss  ----- Training EPOCH 59 --- theta: tensor([0.9790, 0.6027, 0.4087, 0.8385, 0.9949], grad_fn=<SigmoidBackward0>)\n",
      "Num non-zero gadients: 1, indices: 4, gradients: 0.003955249674618244\n",
      "0.0008:loss  ----- Training EPOCH 60 --- theta: tensor([0.9790, 0.5983, 0.4101, 0.8373, 0.9949], grad_fn=<SigmoidBackward0>)\n",
      "Num non-zero gadients: 1, indices: 4, gradients: 0.003870720276609063\n",
      "0.0008:loss  ----- Training EPOCH 61 --- theta: tensor([0.9790, 0.5946, 0.4116, 0.8362, 0.9949], grad_fn=<SigmoidBackward0>)\n",
      "Num non-zero gadients: 1, indices: 4, gradients: 0.003790641902014613\n",
      "0.0008:loss  ----- Training EPOCH 62 --- theta: tensor([0.9791, 0.5916, 0.4134, 0.8352, 0.9949], grad_fn=<SigmoidBackward0>)\n",
      "Num non-zero gadients: 1, indices: 4, gradients: 0.0037163197994232178\n",
      "0.0008:loss  ----- Training EPOCH 63 --- theta: tensor([0.9791, 0.5891, 0.4150, 0.8343, 0.9949], grad_fn=<SigmoidBackward0>)\n",
      "Num non-zero gadients: 1, indices: 4, gradients: 0.0036487479228526354\n",
      "0.0008:loss  ----- Training EPOCH 64 --- theta: tensor([0.9791, 0.5870, 0.4165, 0.8335, 0.9949], grad_fn=<SigmoidBackward0>)\n",
      "Num non-zero gadients: 1, indices: 4, gradients: 0.003589484142139554\n",
      "0.0008:loss  ----- Training EPOCH 65 --- theta: tensor([0.9791, 0.5853, 0.4178, 0.8328, 0.9949], grad_fn=<SigmoidBackward0>)\n",
      "Num non-zero gadients: 1, indices: 4, gradients: 0.003539886325597763\n",
      "0.0008:loss  ----- Training EPOCH 66 --- theta: tensor([0.9791, 0.5838, 0.4187, 0.8320, 0.9949], grad_fn=<SigmoidBackward0>)\n",
      "Num non-zero gadients: 1, indices: 4, gradients: 0.003499663667753339\n",
      "0.0008:loss  ----- Training EPOCH 67 --- theta: tensor([0.9791, 0.5825, 0.4192, 0.8313, 0.9949], grad_fn=<SigmoidBackward0>)\n",
      "Num non-zero gadients: 1, indices: 4, gradients: 0.0034679467789828777\n",
      "0.0008:loss  ----- Training EPOCH 68 --- theta: tensor([0.9791, 0.5814, 0.4195, 0.8307, 0.9949], grad_fn=<SigmoidBackward0>)\n",
      "Num non-zero gadients: 1, indices: 4, gradients: 0.003446273971349001\n",
      "0.0008:loss  ----- Training EPOCH 69 --- theta: tensor([0.9791, 0.5804, 0.4196, 0.8301, 0.9949], grad_fn=<SigmoidBackward0>)\n",
      "Num non-zero gadients: 1, indices: 4, gradients: 0.003430288750678301\n",
      "0.0008:loss  ----- Training EPOCH 70 --- theta: tensor([0.9791, 0.5797, 0.4195, 0.8295, 0.9949], grad_fn=<SigmoidBackward0>)\n",
      "Num non-zero gadients: 1, indices: 4, gradients: 0.003420027671381831\n",
      "0.0008:loss  ----- Training EPOCH 71 --- theta: tensor([0.9791, 0.5793, 0.4194, 0.8290, 0.9949], grad_fn=<SigmoidBackward0>)\n",
      "Num non-zero gadients: 1, indices: 4, gradients: 0.003415114479139447\n",
      "0.0008:loss  ----- Training EPOCH 72 --- theta: tensor([0.9791, 0.5790, 0.4193, 0.8285, 0.9949], grad_fn=<SigmoidBackward0>)\n",
      "Num non-zero gadients: 1, indices: 4, gradients: 0.003412469755858183\n",
      "0.0008:loss  ----- Training EPOCH 73 --- theta: tensor([0.9791, 0.5790, 0.4192, 0.8280, 0.9949], grad_fn=<SigmoidBackward0>)\n",
      "Num non-zero gadients: 1, indices: 4, gradients: 0.003412641352042556\n",
      "0.0008:loss  ----- Training EPOCH 74 --- theta: tensor([0.9791, 0.5793, 0.4191, 0.8276, 0.9949], grad_fn=<SigmoidBackward0>)\n",
      "Num non-zero gadients: 1, indices: 4, gradients: 0.0034141165670007467\n",
      "0.0008:loss  ----- Training EPOCH 75 --- theta: tensor([0.9791, 0.5796, 0.4191, 0.8273, 0.9949], grad_fn=<SigmoidBackward0>)\n",
      "Num non-zero gadients: 1, indices: 4, gradients: 0.0034171747975051403\n",
      "0.0008:loss  ----- Training EPOCH 76 --- theta: tensor([0.9791, 0.5801, 0.4191, 0.8270, 0.9949], grad_fn=<SigmoidBackward0>)\n",
      "Num non-zero gadients: 1, indices: 4, gradients: 0.003421507542952895\n",
      "0.0008:loss  ----- Training EPOCH 77 --- theta: tensor([0.9791, 0.5808, 0.4192, 0.8267, 0.9949], grad_fn=<SigmoidBackward0>)\n",
      "Num non-zero gadients: 1, indices: 4, gradients: 0.00342680886387825\n",
      "0.0008:loss  ----- Training EPOCH 78 --- theta: tensor([0.9791, 0.5814, 0.4192, 0.8264, 0.9949], grad_fn=<SigmoidBackward0>)\n",
      "Num non-zero gadients: 1, indices: 4, gradients: 0.003432744648307562\n",
      "0.0008:loss  ----- Training EPOCH 79 --- theta: tensor([0.9792, 0.5821, 0.4192, 0.8261, 0.9949], grad_fn=<SigmoidBackward0>)\n",
      "Num non-zero gadients: 1, indices: 4, gradients: 0.0034405707847326994\n",
      "0.0008:loss  ----- Training EPOCH 80 --- theta: tensor([0.9792, 0.5828, 0.4191, 0.8259, 0.9949], grad_fn=<SigmoidBackward0>)\n",
      "Num non-zero gadients: 1, indices: 4, gradients: 0.003449353389441967\n",
      "0.0008:loss  ----- Training EPOCH 81 --- theta: tensor([0.9792, 0.5835, 0.4190, 0.8256, 0.9949], grad_fn=<SigmoidBackward0>)\n",
      "Num non-zero gadients: 1, indices: 4, gradients: 0.003459372790530324\n",
      "0.0008:loss  ----- Training EPOCH 82 --- theta: tensor([0.9792, 0.5842, 0.4188, 0.8254, 0.9949], grad_fn=<SigmoidBackward0>)\n",
      "Num non-zero gadients: 1, indices: 4, gradients: 0.003469424322247505\n",
      "0.0008:loss  ----- Training EPOCH 83 --- theta: tensor([0.9792, 0.5848, 0.4186, 0.8252, 0.9949], grad_fn=<SigmoidBackward0>)\n",
      "Num non-zero gadients: 1, indices: 4, gradients: 0.0034804006572812796\n",
      "0.0008:loss  ----- Training EPOCH 84 --- theta: tensor([0.9792, 0.5854, 0.4184, 0.8250, 0.9949], grad_fn=<SigmoidBackward0>)\n",
      "Num non-zero gadients: 1, indices: 4, gradients: 0.0034919956233352423\n",
      "0.0008:loss  ----- Training EPOCH 85 --- theta: tensor([0.9792, 0.5860, 0.4181, 0.8247, 0.9949], grad_fn=<SigmoidBackward0>)\n",
      "Num non-zero gadients: 1, indices: 4, gradients: 0.003503294661641121\n",
      "0.0008:loss  ----- Training EPOCH 86 --- theta: tensor([0.9792, 0.5866, 0.4178, 0.8245, 0.9949], grad_fn=<SigmoidBackward0>)\n",
      "Num non-zero gadients: 1, indices: 4, gradients: 0.003514273092150688\n",
      "0.0008:loss  ----- Training EPOCH 87 --- theta: tensor([0.9792, 0.5871, 0.4176, 0.8243, 0.9949], grad_fn=<SigmoidBackward0>)\n",
      "Num non-zero gadients: 1, indices: 4, gradients: 0.0035252540837973356\n",
      "0.0008:loss  ----- Training EPOCH 88 --- theta: tensor([0.9792, 0.5876, 0.4173, 0.8241, 0.9949], grad_fn=<SigmoidBackward0>)\n",
      "Num non-zero gadients: 1, indices: 4, gradients: 0.0035359158646315336\n",
      "0.0008:loss  ----- Training EPOCH 89 --- theta: tensor([0.9792, 0.5881, 0.4171, 0.8239, 0.9949], grad_fn=<SigmoidBackward0>)\n",
      "Num non-zero gadients: 1, indices: 4, gradients: 0.0035453212913125753\n",
      "0.0008:loss  ----- Training EPOCH 90 --- theta: tensor([0.9792, 0.5886, 0.4169, 0.8237, 0.9949], grad_fn=<SigmoidBackward0>)\n",
      "Num non-zero gadients: 1, indices: 4, gradients: 0.0035547297447919846\n",
      "0.0008:loss  ----- Training EPOCH 91 --- theta: tensor([0.9792, 0.5891, 0.4167, 0.8236, 0.9949], grad_fn=<SigmoidBackward0>)\n",
      "Num non-zero gadients: 1, indices: 4, gradients: 0.0035634797532111406\n",
      "0.0008:loss  ----- Training EPOCH 92 --- theta: tensor([0.9792, 0.5896, 0.4165, 0.8234, 0.9949], grad_fn=<SigmoidBackward0>)\n",
      "Num non-zero gadients: 1, indices: 4, gradients: 0.0035716129932552576\n",
      "0.0008:loss  ----- Training EPOCH 93 --- theta: tensor([0.9792, 0.5900, 0.4164, 0.8232, 0.9949], grad_fn=<SigmoidBackward0>)\n",
      "Num non-zero gadients: 1, indices: 4, gradients: 0.003579119686037302\n",
      "0.0008:loss  ----- Training EPOCH 94 --- theta: tensor([0.9792, 0.5905, 0.4163, 0.8231, 0.9949], grad_fn=<SigmoidBackward0>)\n",
      "Num non-zero gadients: 1, indices: 4, gradients: 0.0035854061134159565\n",
      "0.0008:loss  ----- Training EPOCH 95 --- theta: tensor([0.9792, 0.5909, 0.4162, 0.8229, 0.9949], grad_fn=<SigmoidBackward0>)\n",
      "Num non-zero gadients: 1, indices: 4, gradients: 0.003591937245801091\n",
      "0.0008:loss  ----- Training EPOCH 96 --- theta: tensor([0.9792, 0.5913, 0.4162, 0.8228, 0.9949], grad_fn=<SigmoidBackward0>)\n",
      "Num non-zero gadients: 1, indices: 4, gradients: 0.0035975787322968245\n",
      "0.0008:loss  ----- Training EPOCH 97 --- theta: tensor([0.9792, 0.5917, 0.4161, 0.8226, 0.9949], grad_fn=<SigmoidBackward0>)\n",
      "Num non-zero gadients: 1, indices: 4, gradients: 0.0036032008938491344\n",
      "0.0008:loss  ----- Training EPOCH 98 --- theta: tensor([0.9792, 0.5920, 0.4160, 0.8225, 0.9949], grad_fn=<SigmoidBackward0>)\n",
      "Num non-zero gadients: 1, indices: 4, gradients: 0.00360756553709507\n",
      "0.0008:loss  ----- Training EPOCH 99 --- theta: tensor([0.9792, 0.5924, 0.4160, 0.8224, 0.9949], grad_fn=<SigmoidBackward0>)\n",
      "Num non-zero gadients: 1, indices: 4, gradients: 0.0036125481128692627\n"
     ]
    }
   ],
   "source": [
    "bucket_nn.set_value(PRECIP_RECORD, torch.tensor(network_precip_input_list, requires_grad=False))\n",
    "y_pred, loss = train_ncnn(bucket_nn, network_precip_tensor, network_outflow_tensor_0)\n"
   ]
  },
  {
   "cell_type": "code",
   "execution_count": 10,
   "id": "7977a6fd",
   "metadata": {},
   "outputs": [
    {
     "name": "stdout",
     "output_type": "stream",
     "text": [
      "tensor([0.5349, 0.5402, 0.5022, 0.5169, 0.5294], requires_grad=True)\n",
      "tensor([0.9792, 0.5927, 0.4159, 0.8222, 0.9949], grad_fn=<SigmoidBackward0>)\n"
     ]
    }
   ],
   "source": [
    "\n",
    "network_outflow_list_1b = list(y_pred.cpu().detach().numpy())\n",
    "print(bucket_net.theta)\n",
    "print(bucket_nn.theta)"
   ]
  },
  {
   "cell_type": "code",
   "execution_count": 11,
   "id": "0b8234ce",
   "metadata": {},
   "outputs": [
    {
     "name": "stdout",
     "output_type": "stream",
     "text": [
      "Module parameter device: cpu\n"
     ]
    }
   ],
   "source": [
    "print(\"Module parameter device:\", next(bucket_nn.parameters()).device)"
   ]
  },
  {
   "cell_type": "code",
   "execution_count": 12,
   "id": "fb89e7f2",
   "metadata": {},
   "outputs": [
    {
     "data": {
      "image/png": "[encoded data removed]",
      "text/plain": [
       "<Figure size 500x333.333 with 1 Axes>"
      ]
     },
     "metadata": {},
     "output_type": "display_data"
    }
   ],
   "source": [
    "startplt = 230\n",
    "endplt = 280\n",
    "bigfontsize = 12\n",
    "smallfontsize = 10\n",
    "# Set figure size to 7 inches wide\n",
    "figure_width = 5  # inches\n",
    "aspect_ratio = 3 / 2  # Adjust as needed for your plot\n",
    "figure_height = figure_width / aspect_ratio\n",
    "\n",
    "plt.figure(figsize=(figure_width, figure_height))\n",
    "\n",
    "# Set color\n",
    "light_blue_color = \"#3D68CA\"\n",
    "line_and_text_color = \"#0D3F6E\"\n",
    "\n",
    "# Plot each series with specified color\n",
    "plt.plot(network_precip_input_list[startplt:endplt], c=light_blue_color, lw=3, label=\"Precipitation input\")\n",
    "plt.plot(network_outflow_list_0[startplt:endplt], c=\"k\", lw=3, label=\"Target hydrograph \")\n",
    "plt.plot(network_outflow_list_1a[startplt:endplt], \"--\", lw=2, c=line_and_text_color, label=\"Pre-trained network\")\n",
    "plt.plot(network_outflow_list_1b[startplt:endplt], lw=3, c=\"r\", label=\"Trained bucket network\")\n",
    "\n",
    "network_precip_tensor = torch.tensor(network_precip_input_list)\n",
    "max_value = torch.max(network_precip_tensor[startplt:endplt]).item()\n",
    "#    plt.ylim([0, max_value * 1.2])\n",
    "\n",
    "plt.yticks([])\n",
    "plt.xticks([])\n",
    "plt.ylabel(\"Unit hydrograph\", fontsize=bigfontsize, color=line_and_text_color)\n",
    "plt.xlabel(\"Time\", fontsize=bigfontsize, color=line_and_text_color)\n",
    "\n",
    "# Modify legend to have a transparent background\n",
    "plt.legend(fontsize=smallfontsize, edgecolor=line_and_text_color, framealpha=0.5)  # Adjust framealpha as needed\n",
    "\n",
    "#    plt.title(\"Flow out from network and precip\", fontsize=bigfontsize, color=line_and_text_color)\n",
    "\n",
    "# Save the figure with transparent background and at 300 DPI\n",
    "plt.show()\n",
    "#plt.savefig(\"ncn_plot.png\", transparent=True, dpi=300)\n",
    "\n",
    "plt.close()\n",
    "\n"
   ]
  },
  {
   "cell_type": "code",
   "execution_count": null,
   "id": "a6bd9eed",
   "metadata": {},
   "outputs": [],
   "source": []
  },
  {
   "cell_type": "code",
   "execution_count": 13,
   "id": "6d717beb",
   "metadata": {},
   "outputs": [
    {
     "data": {
      "text/plain": [
       "{0: {'H': tensor([14.2887], grad_fn=<ViewBackward0>),\n",
       "  'S': tensor([[[0.4963, 0.7682],\n",
       "           [0.0885, 0.1320]]]),\n",
       "  's_q': tensor([[5.4958e+00, 1.0207e-03]], grad_fn=<SliceBackward0>)},\n",
       " 1: {'H': tensor([13.7698,  2.2365], grad_fn=<ViewBackward0>),\n",
       "  'S': tensor([[[0.3074, 0.6341]],\n",
       "  \n",
       "          [[0.4901, 0.8964]]]),\n",
       "  's_q': tensor([[1.2234],\n",
       "          [0.3988]], grad_fn=<SliceBackward0>)},\n",
       " 2: {'H': tensor([6.1372], grad_fn=<ViewBackward0>),\n",
       "  'S': tensor([[[0.4556, 0.6323]]]),\n",
       "  's_q': tensor([[0.4257]], grad_fn=<SliceBackward0>)}}"
      ]
     },
     "execution_count": 13,
     "metadata": {},
     "output_type": "execute_result"
    }
   ],
   "source": [
    "bucket_net.network"
   ]
  },
  {
   "cell_type": "code",
   "execution_count": 14,
   "id": "a91cb5c7",
   "metadata": {},
   "outputs": [
    {
     "data": {
      "text/plain": [
       "{0: {'H': tensor([16.2895], grad_fn=<ViewBackward0>),\n",
       "  'S': tensor([[[0.7576, 0.2793],\n",
       "           [0.4031, 0.7347]]]),\n",
       "  's_q': tensor([[1.4970e-05, 5.6938e+00]], grad_fn=<SliceBackward0>)},\n",
       " 1: {'H': tensor([ 9.6348, 15.4595], grad_fn=<ViewBackward0>),\n",
       "  'S': tensor([[[0.0293, 0.7999]],\n",
       "  \n",
       "          [[0.3971, 0.7544]]]),\n",
       "  's_q': tensor([[2.0313],\n",
       "          [0.3898]], grad_fn=<SliceBackward0>)},\n",
       " 2: {'H': tensor([83.4044], grad_fn=<ViewBackward0>),\n",
       "  'S': tensor([[[0.5695, 0.4388]]]),\n",
       "  's_q': tensor([[0.4084]], grad_fn=<SliceBackward0>)}}"
      ]
     },
     "execution_count": 14,
     "metadata": {},
     "output_type": "execute_result"
    }
   ],
   "source": [
    "bucket_nn.network"
   ]
  },
  {
   "cell_type": "code",
   "execution_count": 15,
   "id": "568b565c",
   "metadata": {},
   "outputs": [
    {
     "data": {
      "text/plain": [
       "tensor([0.5349, 0.5402, 0.5022, 0.5169, 0.5294], requires_grad=True)"
      ]
     },
     "execution_count": 15,
     "metadata": {},
     "output_type": "execute_result"
    }
   ],
   "source": [
    "bucket_net.theta"
   ]
  },
  {
   "cell_type": "code",
   "execution_count": 16,
   "id": "c3befa50",
   "metadata": {},
   "outputs": [
    {
     "data": {
      "text/plain": [
       "tensor([0.9792, 0.5927, 0.4159, 0.8222, 0.9949], grad_fn=<SigmoidBackward0>)"
      ]
     },
     "execution_count": 16,
     "metadata": {},
     "output_type": "execute_result"
    }
   ],
   "source": [
    "bucket_nn.theta"
   ]
  },
  {
   "cell_type": "code",
   "execution_count": 17,
   "id": "d204aa2e",
   "metadata": {},
   "outputs": [
    {
     "data": {
      "text/plain": [
       "tensor([0.5086, 0.4064, 0.3743, 0.4833, 0.5188])"
      ]
     },
     "execution_count": 17,
     "metadata": {},
     "output_type": "execute_result"
    }
   ],
   "source": [
    "origional_bucket_theta"
   ]
  },
  {
   "cell_type": "code",
   "execution_count": 18,
   "id": "888d8141",
   "metadata": {},
   "outputs": [
    {
     "data": {
      "text/plain": [
       "tensor(1.5136, grad_fn=<SumBackward0>)"
      ]
     },
     "execution_count": 18,
     "metadata": {},
     "output_type": "execute_result"
    }
   ],
   "source": [
    "torch.sum(bucket_nn.theta - origional_bucket_theta)"
   ]
  },
  {
   "cell_type": "code",
   "execution_count": 19,
   "id": "553672bc",
   "metadata": {},
   "outputs": [
    {
     "data": {
      "text/plain": [
       "tensor([0.4706, 0.1863, 0.0416, 0.3390, 0.4761], grad_fn=<SubBackward0>)"
      ]
     },
     "execution_count": 19,
     "metadata": {},
     "output_type": "execute_result"
    }
   ],
   "source": [
    "bucket_nn.theta - origional_bucket_theta"
   ]
  },
  {
   "cell_type": "code",
   "execution_count": 20,
   "id": "4455c9a8",
   "metadata": {},
   "outputs": [
    {
     "ename": "NameError",
     "evalue": "name 'thislinewillstopthenotebookfromrunningthecellsbelow' is not defined",
     "output_type": "error",
     "traceback": [
      "\u001b[0;31m---------------------------------------------------------------------------\u001b[0m",
      "\u001b[0;31mNameError\u001b[0m                                 Traceback (most recent call last)",
      "Cell \u001b[0;32mIn[20], line 1\u001b[0m\n\u001b[0;32m----> 1\u001b[0m \u001b[38;5;28mprint\u001b[39m(\u001b[43mthislinewillstopthenotebookfromrunningthecellsbelow\u001b[49m)\n",
      "\u001b[0;31mNameError\u001b[0m: name 'thislinewillstopthenotebookfromrunningthecellsbelow' is not defined"
     ]
    }
   ],
   "source": [
    "print(thislinewillstopthenotebookfromrunningthecellsbelow)"
   ]
  },
  {
   "cell_type": "code",
   "execution_count": null,
   "id": "29e37cad",
   "metadata": {},
   "outputs": [],
   "source": [
    "import numpy as np\n",
    "import torch.nn as nn\n",
    "from torch.optim.lr_scheduler import StepLR\n",
    "from torch.autograd import Variable \n",
    "if torch.cuda.is_available():\n",
    "    device = torch.device(\"cuda:0\")\n",
    "    print(\"Using CUDA device: \", torch.cuda.get_device_name(0))\n",
    "else:\n",
    "    device = 'cpu'"
   ]
  },
  {
   "cell_type": "code",
   "execution_count": null,
   "id": "ad2e9bae",
   "metadata": {},
   "outputs": [],
   "source": [
    "# Convert arrays to PyTorch tensors\n",
    "x_input = torch.FloatTensor(network_precip_tensor.detach().numpy())\n",
    "y_target = torch.FloatTensor(network_outflow_tensor_0.detach().numpy())\n",
    "\n",
    "# Define the sequence length (you can adjust this)\n",
    "seq_length = 12\n",
    "\n",
    "# Function to create sequences\n",
    "def create_sequences(input_data, target_data, seq_length):\n",
    "    xs, ys = [], []\n",
    "    for i in range(len(input_data)-seq_length):\n",
    "        x_seq = input_data[i:i+seq_length]\n",
    "        y_seq = target_data[i+seq_length]\n",
    "        xs.append(x_seq)\n",
    "        ys.append(y_seq)\n",
    "    return torch.stack(xs), torch.stack(ys)\n",
    "\n",
    "X, y = create_sequences(x_input, y_target, seq_length)\n",
    "\n",
    "class LSTMModel(nn.Module):\n",
    "    def __init__(self, input_size=1, hidden_layer_size=256, output_size=1, num_layers=1):\n",
    "        super().__init__()\n",
    "        self.hidden_layer_size = hidden_layer_size\n",
    "        self.lstm = nn.LSTM(input_size, hidden_layer_size, num_layers=num_layers)\n",
    "        self.linear = nn.Linear(hidden_layer_size, output_size)\n",
    "\n",
    "    def forward(self, input_seq):\n",
    "        lstm_out, _ = self.lstm(input_seq.view(len(input_seq), 1, -1))\n",
    "        predictions = self.linear(lstm_out.view(len(input_seq), -1))\n",
    "        return predictions[-1]\n",
    "\n",
    "model = LSTMModel()\n",
    "loss_function = nn.MSELoss()\n",
    "optimizer = torch.optim.Adam(model.parameters(), lr=0.001)\n",
    "\n",
    "epochs = 5\n",
    "for epoch in range(epochs):\n",
    "    for seq, labels in zip(X, y):\n",
    "        optimizer.zero_grad()\n",
    "        y_pred = model(seq)\n",
    "        single_loss = loss_function(y_pred, labels)\n",
    "        single_loss.backward()\n",
    "        optimizer.step()\n",
    "\n",
    "    if epoch % 1 == 0:\n",
    "        print(f'epoch: {epoch} loss: {single_loss.item()}')\n",
    "\n",
    "print(f'Final loss: {single_loss.item()}')\n",
    "\n",
    "\n",
    "\n",
    "\n",
    "predictions = []\n",
    "model.eval()\n",
    "with torch.no_grad():\n",
    "    for seq in X:\n",
    "        predictions.append(model(seq).item())\n",
    "\n",
    "# Convert predictions to a numpy array for easy plotting\n",
    "predictions_np = np.array(predictions)\n",
    "plt.figure(figsize=(12, 6))\n",
    "plt.title(\"LSTM Predictions vs Actual Data\")\n",
    "plt.xlabel(\"Time Steps\")\n",
    "plt.ylabel(\"Output\")\n",
    "plt.plot(x_input.numpy()[seq_length:], label='Precipitation', alpha=0.7)\n",
    "plt.plot(y_target.numpy()[seq_length:], label='Actual Outflow', alpha=0.7)\n",
    "plt.plot(predictions_np, label='Predicted Outflow', alpha=0.7, linestyle='--')\n",
    "plt.legend()\n",
    "plt.show()\n"
   ]
  },
  {
   "cell_type": "code",
   "execution_count": null,
   "id": "f6a8e2fb",
   "metadata": {},
   "outputs": [],
   "source": [
    "# Convert arrays to PyTorch tensors\n",
    "x_input = torch.FloatTensor(network_precip_tensor.detach().numpy())\n",
    "y_target = torch.FloatTensor(network_outflow_tensor_0.detach().numpy())\n",
    "\n",
    "# Define the sequence length (you can adjust this)\n",
    "seq_length = 35\n",
    "\n",
    "# Function to create sequences\n",
    "def create_sequences(input_data, target_data, seq_length):\n",
    "    xs, ys = [], []\n",
    "    for i in range(len(input_data) - seq_length):\n",
    "        x_seq = input_data[i:i + seq_length]\n",
    "        y_seq = target_data[i + seq_length]\n",
    "        xs.append(x_seq)\n",
    "        ys.append(y_seq)\n",
    "    return torch.stack(xs), torch.stack(ys)\n",
    "\n",
    "X, y = create_sequences(x_input, y_target, seq_length)\n",
    "\n",
    "# Feedforward Neural Network Model\n",
    "class FFNNModel(nn.Module):\n",
    "    def __init__(self, input_size, hidden_layer_size=3, output_size=1):\n",
    "        super().__init__()\n",
    "        self.hidden_layer_size = hidden_layer_size\n",
    "\n",
    "        # Define your feedforward layers here\n",
    "        self.fc1 = nn.Linear(input_size, hidden_layer_size)\n",
    "        self.relu1 = nn.ReLU()\n",
    "        self.fc2 = nn.Linear(hidden_layer_size, hidden_layer_size)\n",
    "        self.relu2 = nn.ReLU()\n",
    "        self.fc3 = nn.Linear(hidden_layer_size, hidden_layer_size)\n",
    "        self.fc4 = nn.Linear(hidden_layer_size, output_size)\n",
    "\n",
    "    def forward(self, input_seq):\n",
    "        self.activations = []\n",
    "        x = self.fc1(input_seq)\n",
    "        self.activations.append(x.detach().numpy())  # Record activation\n",
    "        x = self.relu1(x)\n",
    "        self.activations.append(x.detach().numpy())  # Record activation\n",
    "        x = self.fc2(x)\n",
    "        self.activations.append(x.detach().numpy())  # Record activation\n",
    "        x = self.relu2(x)\n",
    "        self.activations.append(x.detach().numpy())  # Record activation\n",
    "        x = self.fc3(x)\n",
    "        self.activations.append(x.detach().numpy())  # Record activation\n",
    "        predictions = self.fc4(x)\n",
    "        return predictions[-1]\n",
    "\n",
    "model = FFNNModel(input_size=seq_length)\n",
    "loss_function = nn.MSELoss()\n",
    "optimizer = torch.optim.Adam(model.parameters(), lr=0.006)\n",
    "scheduler = StepLR(optimizer, step_size=1, gamma=0.99, verbose=True)\n",
    "\n",
    "epochs = 150\n",
    "for epoch in range(epochs):\n",
    "    for seq, labels in zip(X, y):\n",
    "        optimizer.zero_grad()\n",
    "        y_pred = model(seq)\n",
    "        single_loss = loss_function(y_pred, labels)\n",
    "        single_loss.backward()\n",
    "        optimizer.step()\n",
    "    \n",
    "    scheduler.step()\n",
    "    if epoch % 1 == 0:\n",
    "        print(f'epoch: {epoch} loss: {single_loss.item():.4f}')\n",
    "\n",
    "print(f'Final loss: {single_loss.item()}')"
   ]
  },
  {
   "cell_type": "code",
   "execution_count": null,
   "id": "51d416ce",
   "metadata": {},
   "outputs": [],
   "source": [
    "x_input.shape, y_target.shape, predictions_np.shape"
   ]
  },
  {
   "cell_type": "code",
   "execution_count": null,
   "id": "6f70ecd5",
   "metadata": {},
   "outputs": [],
   "source": [
    "predictions = []\n",
    "model.eval()\n",
    "with torch.no_grad():\n",
    "    for i, seq in enumerate(X):\n",
    "        predictions.append(model(seq).item())\n",
    "predictions_np = np.array(predictions)\n",
    "\n",
    "DO_PLOT = True\n",
    "if DO_PLOT:\n",
    "    startplt = 230\n",
    "    endplt = 280\n",
    "    bigfontsize = 22\n",
    "    smallfontsize = 16\n",
    "    # Set figure size to 7 inches wide\n",
    "    figure_width = 7  # inches\n",
    "    aspect_ratio = 3 / 2  # Adjust as needed for your plot\n",
    "    figure_height = figure_width / aspect_ratio\n",
    "\n",
    "    plt.figure(figsize=(figure_width, figure_height))\n",
    "\n",
    "    # Set color\n",
    "    light_blue_color = \"#3D68CA\"\n",
    "    line_and_text_color = \"#0D3F6E\"\n",
    "\n",
    "    # Plot each series with specified color\n",
    "    plt.plot(network_precip_input_list[startplt:endplt], c=light_blue_color, lw=10, label=\"Precipitation input\")\n",
    "    plt.plot(network_outflow_list_0[startplt:endplt], c=\"k\", lw=10, label=\"Target hydrograph \")\n",
    "    # plt.plot(network_outflow_list_1a[startplt:endplt], \"--\", lw=5, c=line_and_text_color, label=\"Pre-trained network\")\n",
    "    plt.plot(predictions_np[startplt-seq_length:endplt-seq_length], \"--\", lw=10, c=line_and_text_color, label=\"Trained bucket network\")\n",
    "\n",
    "    network_precip_tensor = torch.tensor(network_precip_input_list)\n",
    "    max_value = torch.max(network_precip_tensor[startplt:endplt]).item()\n",
    "    plt.ylim([0, max_value * 1.2])\n",
    "\n",
    "    plt.yticks([])\n",
    "    plt.xticks([])\n",
    "    plt.ylabel(\"Unit hydrograph\", fontsize=bigfontsize, color=line_and_text_color)\n",
    "    plt.xlabel(\"Time\", fontsize=bigfontsize, color=line_and_text_color)\n",
    "\n",
    "    # Modify legend to have a transparent background\n",
    "    #plt.legend(fontsize=smallfontsize, edgecolor=line_and_text_color, framealpha=0.5)  # Adjust framealpha as needed\n",
    "\n",
    "    #plt.title(\"Flow out from network and precip\", fontsize=bigfontsize, color=line_and_text_color)\n",
    "\n",
    "    # Save the figure with transparent background and at 300 DPI\n",
    "    #plt.show()\n",
    "    plt.savefig(\"./figs/ffn_plot.png\", transparent=True, dpi=300)\n",
    "\n",
    "    plt.close()"
   ]
  },
  {
   "cell_type": "markdown",
   "metadata": {},
   "source": [
    "def plot_the_time_series(x_input, y_target, predictions_np, seq_length):\n",
    "    plt.figure(figsize=(12, 6))\n",
    "    plt.title(\"FFNN Predictions vs Actual Data\")\n",
    "    plt.xlabel(\"Time Steps\")\n",
    "    plt.ylabel(\"Output\")\n",
    "    plt.plot(x_input.numpy()[seq_length:], label='Precipitation', alpha=0.7)\n",
    "    plt.plot(y_target.numpy()[seq_length:], label='Actual Outflow', alpha=0.7)\n",
    "    plt.plot(predictions_np, label='Predicted Outflow', alpha=0.7, linestyle='--')\n",
    "    plt.legend()\n",
    "    plt.show()\n",
    "    plt.close()\n",
    "predictions = []\n",
    "model.eval()\n",
    "with torch.no_grad():\n",
    "    for i, seq in enumerate(X):\n",
    "        predictions.append(model(seq).item())\n",
    "predictions_np = np.array(predictions)\n",
    "plot_the_time_series(x_input, y_target, predictions_np, seq_length)"
   ]
  },
  {
   "cell_type": "code",
   "execution_count": null,
   "id": "9ac67c20",
   "metadata": {},
   "outputs": [],
   "source": [
    "import imageio\n",
    "import seaborn as sns\n",
    "import matplotlib.colors as mcolors\n",
    "from matplotlib.cm import ScalarMappable"
   ]
  },
  {
   "cell_type": "code",
   "execution_count": null,
   "id": "f4548040",
   "metadata": {},
   "outputs": [],
   "source": [
    "#print(thiscellwillstopthenotebookbeforetheanimationismade)"
   ]
  },
  {
   "cell_type": "code",
   "execution_count": null,
   "id": "e464dee7",
   "metadata": {},
   "outputs": [],
   "source": [
    "def visualize_layer_connections_with_annotations(model, input_seq, title):\n",
    "    model(input_seq)  # Forward pass to record activations\n",
    "    activations = model.activations\n",
    "\n",
    "    # Concatenate activations horizontally\n",
    "    concatenated_activations = np.hstack([activation.reshape(-1, 1) for activation in activations])\n",
    "\n",
    "    # Plotting\n",
    "    plt.figure(figsize=(3, 2))  # Adjust the figure size as needed\n",
    "    ax = sns.heatmap(concatenated_activations, annot=True, fmt=\".2f\", cmap=\"viridis\", annot_kws={\"size\": 8})\n",
    "    plt.title(title)\n",
    "    plt.xlabel(\"Layer Neurons\")\n",
    "    plt.ylabel(\"Activation\")\n",
    "    plt.show()\n",
    "\n",
    "# Usage\n",
    "for i in [50, 75]:\n",
    "    visualize_layer_connections_with_annotations(model, X[i], f\"Neuron Connections at x={i}\")\n"
   ]
  },
  {
   "cell_type": "code",
   "execution_count": null,
   "id": "57851cb4",
   "metadata": {},
   "outputs": [],
   "source": []
  },
  {
   "cell_type": "code",
   "execution_count": null,
   "id": "9ec5503f",
   "metadata": {},
   "outputs": [],
   "source": []
  },
  {
   "cell_type": "code",
   "execution_count": null,
   "id": "0891b699",
   "metadata": {},
   "outputs": [],
   "source": []
  },
  {
   "cell_type": "code",
   "execution_count": null,
   "id": "4d66a68b",
   "metadata": {},
   "outputs": [],
   "source": [
    "def network_visualization_subplot(model, input_seq, layer_sizes, title, ax):\n",
    "    model(input_seq)  # Forward pass to record activations\n",
    "    activations = model.activations\n",
    "\n",
    "    # Create a color map\n",
    "    cmap = plt.get_cmap('viridis')\n",
    "\n",
    "    # Normalize the activation values to [-5, 5] for the color map\n",
    "    norm = mcolors.Normalize(vmin=-5, vmax=5)\n",
    "\n",
    "    # Number of layers including input and output\n",
    "    num_layers = len(layer_sizes)\n",
    "\n",
    "    # List to store node positions, to be used to draw the edges\n",
    "    node_positions = {}\n",
    "\n",
    "    # Generate positions for each layer\n",
    "    for i, size in enumerate(layer_sizes):\n",
    "        # Vertical positions\n",
    "        v_positions = np.linspace(0, 1, size + 2)[1:-1]\n",
    "\n",
    "        # Horizontal position\n",
    "        h_position = i / (num_layers - 1)\n",
    "\n",
    "        # Draw nodes\n",
    "        for j, v in enumerate(v_positions):\n",
    "            activation = 0\n",
    "            if i > 0:  # Skip input layer for activations\n",
    "                activation = activations[i-1][j]\n",
    "            color = cmap(norm(activation))\n",
    "\n",
    "            circle = plt.Circle((h_position, v), 0.05, color=color, zorder=4)\n",
    "            ax.add_artist(circle)\n",
    "            node_positions[(i, j)] = (h_position, v)\n",
    "\n",
    "            # Optionally, add activation values as text inside the nodes\n",
    "            # plt.text(h_position, v, f'{activation:.2f}', ha='center', va='center', color='white', fontsize=8)\n",
    "\n",
    "    # Draw edges\n",
    "    for i in range(num_layers - 1):\n",
    "        for j in range(layer_sizes[i]):\n",
    "            for k in range(layer_sizes[i + 1]):\n",
    "                start_pos = node_positions[(i, j)]\n",
    "                end_pos = node_positions[(i + 1, k)]\n",
    "                line = plt.Line2D([start_pos[0], end_pos[0]], [start_pos[1], end_pos[1]], c='black', alpha=0.3)\n",
    "                ax.add_line(line)\n",
    "\n",
    "    mappable = ScalarMappable(norm=norm, cmap=cmap)\n",
    "\n",
    "    # Add a colorbar\n",
    "    plt.colorbar(mappable, ax=ax, orientation='vertical', fraction=0.046, pad=0.04)\n",
    "\n",
    "    # Set title and turn off axis\n",
    "    ax.set_title(title)\n",
    "    ax.axis('off')\n"
   ]
  },
  {
   "cell_type": "code",
   "execution_count": null,
   "id": "b9741cf2",
   "metadata": {},
   "outputs": [],
   "source": [
    "def plot_the_time_series_subplot(x_input, y_target, predictions_np, seq_length, t, ax):\n",
    "    ax.set_title(\"FFNN Predictions vs Actual Data\")\n",
    "    ax.set_xlabel(\"Time Steps\")\n",
    "    ax.set_ylabel(\"Output\")\n",
    "    ax.plot(x_input.numpy()[seq_length:], label='Precipitation', alpha=0.7)\n",
    "    ax.plot(y_target.numpy()[seq_length:], label='Actual Outflow', alpha=0.7)\n",
    "    ax.plot(predictions_np, label='Predicted Outflow', alpha=0.7, linestyle='--')\n",
    "    ax.axvline(x=t, color='red', linestyle='--')  # Vertical line\n",
    "    ax.legend()"
   ]
  },
  {
   "cell_type": "code",
   "execution_count": null,
   "id": "15bda8f0",
   "metadata": {},
   "outputs": [],
   "source": [
    "# Define the size of each layer (including input and output layers)\n",
    "layer_sizes = [1, 3, 3, 3, 1]  # Example: input layer with 35 nodes, three hidden layers with 3 nodes each, and an output layer with 1 node\n",
    "\n",
    "# Usage\n",
    "for t in range(1,200):\n",
    "\n",
    "    fig, (ax1, ax2) = plt.subplots(2, 1, figsize=(12, 12))\n",
    "\n",
    "    # Network visualization on the first subplot\n",
    "    network_visualization_subplot(model, X[t], layer_sizes, f\"Neural Network Visualization at t={t}\", ax1)\n",
    "\n",
    "    # Time series plot on the second subplot\n",
    "    plot_the_time_series_subplot(x_input, y_target, predictions_np, seq_length, t, ax2)\n",
    "\n",
    "    plt.tight_layout()\n",
    "    plt.savefig(f\"./figs/network_plot/combined_frame_{t}.png\")\n",
    "    plt.close(fig)"
   ]
  },
  {
   "cell_type": "code",
   "execution_count": null,
   "id": "64095e3d",
   "metadata": {},
   "outputs": [],
   "source": [
    "filenames = [f\"./figs/network_plot/combined_frame_{t}.png\" for t in range(1, 200)]\n",
    "images = [imageio.imread(filename) for filename in filenames]\n",
    "imageio.mimsave('network_animation.gif', images, fps=2)  # Adjust fps as needed"
   ]
  },
  {
   "cell_type": "code",
   "execution_count": null,
   "id": "bc7e6a4e",
   "metadata": {},
   "outputs": [],
   "source": []
  },
  {
   "cell_type": "code",
   "execution_count": null,
   "id": "9382c53a",
   "metadata": {},
   "outputs": [],
   "source": []
  },
  {
   "cell_type": "code",
   "execution_count": null,
   "metadata": {},
   "outputs": [],
   "source": []
  }
 ],
 "metadata": {
  "kernelspec": {
   "display_name": "bmi_lstm",
   "language": "python",
   "name": "python3"
  },
  "language_info": {
   "codemirror_mode": {
    "name": "ipython",
    "version": 3
   },
   "file_extension": ".py",
   "mimetype": "text/x-python",
   "name": "python",
   "nbconvert_exporter": "python",
   "pygments_lexer": "ipython3",
   "version": "3.10.16"
  }
 },
 "nbformat": 4,
 "nbformat_minor": 5
}
